{
  "metadata": {
    "kernelspec": {
      "language": "python",
      "display_name": "Python 3",
      "name": "python3"
    },
    "language_info": {
      "name": "python",
      "version": "3.7.12",
      "mimetype": "text/x-python",
      "codemirror_mode": {
        "name": "ipython",
        "version": 3
      },
      "pygments_lexer": "ipython3",
      "nbconvert_exporter": "python",
      "file_extension": ".py"
    },
    "colab": {
      "provenance": [],
      "include_colab_link": true
    }
  },
  "nbformat_minor": 0,
  "nbformat": 4,
  "cells": [
    {
      "cell_type": "markdown",
      "metadata": {
        "id": "view-in-github",
        "colab_type": "text"
      },
      "source": [
        "<a href=\"https://colab.research.google.com/github/Grace-Gitome/WiDs-Dathathon-2023/blob/main/ai_for_climate_change_wids_2023.ipynb\" target=\"_parent\"><img src=\"https://colab.research.google.com/assets/colab-badge.svg\" alt=\"Open In Colab\"/></a>"
      ]
    },
    {
      "cell_type": "code",
      "source": [
        "!python --version"
      ],
      "metadata": {
        "colab": {
          "base_uri": "https://localhost:8080/"
        },
        "id": "K07MO4dFWaTh",
        "outputId": "74f17e80-42ab-424d-b4f2-d98621a876d9"
      },
      "execution_count": null,
      "outputs": [
        {
          "output_type": "stream",
          "name": "stdout",
          "text": [
            "Python 3.8.10\n"
          ]
        }
      ]
    },
    {
      "cell_type": "code",
      "source": [
        "import numpy as np\n",
        "import pandas as pd \n",
        "\n",
        "\n"
      ],
      "metadata": {
        "_uuid": "8f2839f25d086af736a60e9eeb907d3b93b6e0e5",
        "_cell_guid": "b1076dfc-b9ad-4769-8c92-a6c4dae69d19",
        "execution": {
          "iopub.status.busy": "2023-02-13T18:12:21.191302Z",
          "iopub.execute_input": "2023-02-13T18:12:21.191743Z",
          "iopub.status.idle": "2023-02-13T18:12:21.221677Z",
          "shell.execute_reply.started": "2023-02-13T18:12:21.191656Z",
          "shell.execute_reply": "2023-02-13T18:12:21.220660Z"
        },
        "trusted": true,
        "id": "yxn0geDJVchr",
        "outputId": "55eab83f-017f-4f7e-893a-909d4bfea3be"
      },
      "execution_count": null,
      "outputs": [
        {
          "name": "stdout",
          "text": "/kaggle/input/widsdatathon2023/train_data.csv\n/kaggle/input/widsdatathon2023/test_data.csv\n/kaggle/input/widsdatathon2023/sample_solution.csv\n",
          "output_type": "stream"
        }
      ]
    },
    {
      "cell_type": "code",
      "source": [
        "\n",
        "x = [1, 2, 3, 4, 5]\n",
        "print(x[-1:-6:-1])"
      ],
      "metadata": {
        "execution": {
          "iopub.status.busy": "2023-02-13T18:12:21.280880Z",
          "iopub.execute_input": "2023-02-13T18:12:21.281690Z",
          "iopub.status.idle": "2023-02-13T18:12:21.287444Z",
          "shell.execute_reply.started": "2023-02-13T18:12:21.281642Z",
          "shell.execute_reply": "2023-02-13T18:12:21.285868Z"
        },
        "trusted": true,
        "id": "lFdtS-BFVch5",
        "outputId": "ec9b4f21-b41e-45b1-c758-9c70b0fa9fb5"
      },
      "execution_count": null,
      "outputs": [
        {
          "name": "stdout",
          "text": "[5, 4, 3, 2, 1]\n",
          "output_type": "stream"
        }
      ]
    },
    {
      "cell_type": "code",
      "source": [
        "#importing the train dataset\n",
        "training=pd.read_csv('/content/train_data.csv')\n",
        "training.head(4)"
      ],
      "metadata": {
        "execution": {
          "iopub.status.busy": "2023-02-13T18:12:21.301252Z",
          "iopub.execute_input": "2023-02-13T18:12:21.301617Z",
          "iopub.status.idle": "2023-02-13T18:12:43.463480Z",
          "shell.execute_reply.started": "2023-02-13T18:12:21.301589Z",
          "shell.execute_reply": "2023-02-13T18:12:43.462382Z"
        },
        "trusted": true,
        "id": "K-wpM41pVch8",
        "outputId": "acefbef3-f508-46cf-d9d8-23faea8aeabd"
      },
      "execution_count": null,
      "outputs": [
        {
          "execution_count": 3,
          "output_type": "execute_result",
          "data": {
            "text/plain": "   index  lat       lon startdate  contest-pevpr-sfc-gauss-14d__pevpr  \\\n0      0  0.0  0.833333    9/1/14                              237.00   \n1      1  0.0  0.833333    9/2/14                              228.90   \n2      2  0.0  0.833333    9/3/14                              220.69   \n3      3  0.0  0.833333    9/4/14                              225.28   \n\n   nmme0-tmp2m-34w__cancm30  nmme0-tmp2m-34w__cancm40  \\\n0                     29.02                     31.64   \n1                     29.02                     31.64   \n2                     29.02                     31.64   \n3                     29.02                     31.64   \n\n   nmme0-tmp2m-34w__ccsm30  nmme0-tmp2m-34w__ccsm40  nmme0-tmp2m-34w__cfsv20  \\\n0                    29.57                    30.73                    29.71   \n1                    29.57                    30.73                    29.71   \n2                    29.57                    30.73                    29.71   \n3                    29.57                    30.73                    29.71   \n\n   ...  wind-vwnd-925-2010-11  wind-vwnd-925-2010-12  wind-vwnd-925-2010-13  \\\n0  ...                 -27.68                 -37.21                   8.32   \n1  ...                 -21.13                 -36.57                   8.77   \n2  ...                 -10.72                 -34.16                   6.99   \n3  ...                   0.33                 -31.04                   6.17   \n\n   wind-vwnd-925-2010-14  wind-vwnd-925-2010-15  wind-vwnd-925-2010-16  \\\n0                   9.56                  -2.03                  48.13   \n1                  21.17                   4.44                  48.60   \n2                  32.16                   5.01                  48.53   \n3                  39.66                  -1.41                  50.59   \n\n   wind-vwnd-925-2010-17  wind-vwnd-925-2010-18  wind-vwnd-925-2010-19  \\\n0                  28.09                 -13.50                  11.90   \n1                  27.41                 -23.77                  15.44   \n2                  19.21                 -33.16                  15.11   \n3                   8.29                 -37.22                  18.24   \n\n   wind-vwnd-925-2010-20  \n0                   4.58  \n1                   3.42  \n2                   4.82  \n3                   9.74  \n\n[4 rows x 246 columns]",
            "text/html": "<div>\n<style scoped>\n    .dataframe tbody tr th:only-of-type {\n        vertical-align: middle;\n    }\n\n    .dataframe tbody tr th {\n        vertical-align: top;\n    }\n\n    .dataframe thead th {\n        text-align: right;\n    }\n</style>\n<table border=\"1\" class=\"dataframe\">\n  <thead>\n    <tr style=\"text-align: right;\">\n      <th></th>\n      <th>index</th>\n      <th>lat</th>\n      <th>lon</th>\n      <th>startdate</th>\n      <th>contest-pevpr-sfc-gauss-14d__pevpr</th>\n      <th>nmme0-tmp2m-34w__cancm30</th>\n      <th>nmme0-tmp2m-34w__cancm40</th>\n      <th>nmme0-tmp2m-34w__ccsm30</th>\n      <th>nmme0-tmp2m-34w__ccsm40</th>\n      <th>nmme0-tmp2m-34w__cfsv20</th>\n      <th>...</th>\n      <th>wind-vwnd-925-2010-11</th>\n      <th>wind-vwnd-925-2010-12</th>\n      <th>wind-vwnd-925-2010-13</th>\n      <th>wind-vwnd-925-2010-14</th>\n      <th>wind-vwnd-925-2010-15</th>\n      <th>wind-vwnd-925-2010-16</th>\n      <th>wind-vwnd-925-2010-17</th>\n      <th>wind-vwnd-925-2010-18</th>\n      <th>wind-vwnd-925-2010-19</th>\n      <th>wind-vwnd-925-2010-20</th>\n    </tr>\n  </thead>\n  <tbody>\n    <tr>\n      <th>0</th>\n      <td>0</td>\n      <td>0.0</td>\n      <td>0.833333</td>\n      <td>9/1/14</td>\n      <td>237.00</td>\n      <td>29.02</td>\n      <td>31.64</td>\n      <td>29.57</td>\n      <td>30.73</td>\n      <td>29.71</td>\n      <td>...</td>\n      <td>-27.68</td>\n      <td>-37.21</td>\n      <td>8.32</td>\n      <td>9.56</td>\n      <td>-2.03</td>\n      <td>48.13</td>\n      <td>28.09</td>\n      <td>-13.50</td>\n      <td>11.90</td>\n      <td>4.58</td>\n    </tr>\n    <tr>\n      <th>1</th>\n      <td>1</td>\n      <td>0.0</td>\n      <td>0.833333</td>\n      <td>9/2/14</td>\n      <td>228.90</td>\n      <td>29.02</td>\n      <td>31.64</td>\n      <td>29.57</td>\n      <td>30.73</td>\n      <td>29.71</td>\n      <td>...</td>\n      <td>-21.13</td>\n      <td>-36.57</td>\n      <td>8.77</td>\n      <td>21.17</td>\n      <td>4.44</td>\n      <td>48.60</td>\n      <td>27.41</td>\n      <td>-23.77</td>\n      <td>15.44</td>\n      <td>3.42</td>\n    </tr>\n    <tr>\n      <th>2</th>\n      <td>2</td>\n      <td>0.0</td>\n      <td>0.833333</td>\n      <td>9/3/14</td>\n      <td>220.69</td>\n      <td>29.02</td>\n      <td>31.64</td>\n      <td>29.57</td>\n      <td>30.73</td>\n      <td>29.71</td>\n      <td>...</td>\n      <td>-10.72</td>\n      <td>-34.16</td>\n      <td>6.99</td>\n      <td>32.16</td>\n      <td>5.01</td>\n      <td>48.53</td>\n      <td>19.21</td>\n      <td>-33.16</td>\n      <td>15.11</td>\n      <td>4.82</td>\n    </tr>\n    <tr>\n      <th>3</th>\n      <td>3</td>\n      <td>0.0</td>\n      <td>0.833333</td>\n      <td>9/4/14</td>\n      <td>225.28</td>\n      <td>29.02</td>\n      <td>31.64</td>\n      <td>29.57</td>\n      <td>30.73</td>\n      <td>29.71</td>\n      <td>...</td>\n      <td>0.33</td>\n      <td>-31.04</td>\n      <td>6.17</td>\n      <td>39.66</td>\n      <td>-1.41</td>\n      <td>50.59</td>\n      <td>8.29</td>\n      <td>-37.22</td>\n      <td>18.24</td>\n      <td>9.74</td>\n    </tr>\n  </tbody>\n</table>\n<p>4 rows × 246 columns</p>\n</div>"
          },
          "metadata": {}
        }
      ]
    },
    {
      "cell_type": "code",
      "source": [
        "#importing the test dataset\n",
        "testing=pd.read_csv('/content/test_data.csv', error_bad_lines=False)\n",
        "testing.head(4)"
      ],
      "metadata": {
        "execution": {
          "iopub.status.busy": "2023-02-13T18:12:43.465545Z",
          "iopub.execute_input": "2023-02-13T18:12:43.465899Z",
          "iopub.status.idle": "2023-02-13T18:12:45.188439Z",
          "shell.execute_reply.started": "2023-02-13T18:12:43.465867Z",
          "shell.execute_reply": "2023-02-13T18:12:45.187446Z"
        },
        "trusted": true,
        "id": "JJKQl4sHVch-",
        "outputId": "80316317-ad67-43b0-c96b-e6732af44106"
      },
      "execution_count": null,
      "outputs": [
        {
          "execution_count": 4,
          "output_type": "execute_result",
          "data": {
            "text/plain": "    index  lat       lon startdate  contest-pevpr-sfc-gauss-14d__pevpr  \\\n0  375734  0.0  0.833333   11/1/22                              339.88   \n1  375735  0.0  0.833333   11/2/22                              334.63   \n2  375736  0.0  0.833333   11/3/22                              337.83   \n3  375737  0.0  0.833333   11/4/22                              345.81   \n\n   nmme0-tmp2m-34w__cancm30  nmme0-tmp2m-34w__cancm40  \\\n0                     30.88                     30.92   \n1                     30.88                     30.92   \n2                     30.88                     30.92   \n3                     30.88                     30.92   \n\n   nmme0-tmp2m-34w__ccsm30  nmme0-tmp2m-34w__ccsm40  nmme0-tmp2m-34w__cfsv20  \\\n0                    29.17                    31.02                    29.47   \n1                    29.17                    31.02                    29.47   \n2                    29.17                    31.02                    29.47   \n3                    29.17                    31.02                    29.47   \n\n   ...  wind-vwnd-925-2010-11  wind-vwnd-925-2010-12  wind-vwnd-925-2010-13  \\\n0  ...                 -19.28                 -39.77                 -29.25   \n1  ...                 -19.58                 -43.14                 -28.62   \n2  ...                 -13.73                 -44.22                 -27.67   \n3  ...                  -7.97                 -49.47                 -19.32   \n\n   wind-vwnd-925-2010-14  wind-vwnd-925-2010-15  wind-vwnd-925-2010-16  \\\n0                  40.88                  -8.31                  14.91   \n1                  45.37                  -5.42                  16.97   \n2                  49.76                  -1.31                  21.44   \n3                  52.62                  -0.44                  21.65   \n\n   wind-vwnd-925-2010-17  wind-vwnd-925-2010-18  wind-vwnd-925-2010-19  \\\n0                 -24.62                  31.05                 -23.69   \n1                 -23.94                  28.84                 -20.61   \n2                 -19.06                  26.85                 -16.78   \n3                 -23.12                  23.70                 -18.62   \n\n   wind-vwnd-925-2010-20  \n0                   6.27  \n1                  14.16  \n2                  13.42  \n3                  10.69  \n\n[4 rows x 245 columns]",
            "text/html": "<div>\n<style scoped>\n    .dataframe tbody tr th:only-of-type {\n        vertical-align: middle;\n    }\n\n    .dataframe tbody tr th {\n        vertical-align: top;\n    }\n\n    .dataframe thead th {\n        text-align: right;\n    }\n</style>\n<table border=\"1\" class=\"dataframe\">\n  <thead>\n    <tr style=\"text-align: right;\">\n      <th></th>\n      <th>index</th>\n      <th>lat</th>\n      <th>lon</th>\n      <th>startdate</th>\n      <th>contest-pevpr-sfc-gauss-14d__pevpr</th>\n      <th>nmme0-tmp2m-34w__cancm30</th>\n      <th>nmme0-tmp2m-34w__cancm40</th>\n      <th>nmme0-tmp2m-34w__ccsm30</th>\n      <th>nmme0-tmp2m-34w__ccsm40</th>\n      <th>nmme0-tmp2m-34w__cfsv20</th>\n      <th>...</th>\n      <th>wind-vwnd-925-2010-11</th>\n      <th>wind-vwnd-925-2010-12</th>\n      <th>wind-vwnd-925-2010-13</th>\n      <th>wind-vwnd-925-2010-14</th>\n      <th>wind-vwnd-925-2010-15</th>\n      <th>wind-vwnd-925-2010-16</th>\n      <th>wind-vwnd-925-2010-17</th>\n      <th>wind-vwnd-925-2010-18</th>\n      <th>wind-vwnd-925-2010-19</th>\n      <th>wind-vwnd-925-2010-20</th>\n    </tr>\n  </thead>\n  <tbody>\n    <tr>\n      <th>0</th>\n      <td>375734</td>\n      <td>0.0</td>\n      <td>0.833333</td>\n      <td>11/1/22</td>\n      <td>339.88</td>\n      <td>30.88</td>\n      <td>30.92</td>\n      <td>29.17</td>\n      <td>31.02</td>\n      <td>29.47</td>\n      <td>...</td>\n      <td>-19.28</td>\n      <td>-39.77</td>\n      <td>-29.25</td>\n      <td>40.88</td>\n      <td>-8.31</td>\n      <td>14.91</td>\n      <td>-24.62</td>\n      <td>31.05</td>\n      <td>-23.69</td>\n      <td>6.27</td>\n    </tr>\n    <tr>\n      <th>1</th>\n      <td>375735</td>\n      <td>0.0</td>\n      <td>0.833333</td>\n      <td>11/2/22</td>\n      <td>334.63</td>\n      <td>30.88</td>\n      <td>30.92</td>\n      <td>29.17</td>\n      <td>31.02</td>\n      <td>29.47</td>\n      <td>...</td>\n      <td>-19.58</td>\n      <td>-43.14</td>\n      <td>-28.62</td>\n      <td>45.37</td>\n      <td>-5.42</td>\n      <td>16.97</td>\n      <td>-23.94</td>\n      <td>28.84</td>\n      <td>-20.61</td>\n      <td>14.16</td>\n    </tr>\n    <tr>\n      <th>2</th>\n      <td>375736</td>\n      <td>0.0</td>\n      <td>0.833333</td>\n      <td>11/3/22</td>\n      <td>337.83</td>\n      <td>30.88</td>\n      <td>30.92</td>\n      <td>29.17</td>\n      <td>31.02</td>\n      <td>29.47</td>\n      <td>...</td>\n      <td>-13.73</td>\n      <td>-44.22</td>\n      <td>-27.67</td>\n      <td>49.76</td>\n      <td>-1.31</td>\n      <td>21.44</td>\n      <td>-19.06</td>\n      <td>26.85</td>\n      <td>-16.78</td>\n      <td>13.42</td>\n    </tr>\n    <tr>\n      <th>3</th>\n      <td>375737</td>\n      <td>0.0</td>\n      <td>0.833333</td>\n      <td>11/4/22</td>\n      <td>345.81</td>\n      <td>30.88</td>\n      <td>30.92</td>\n      <td>29.17</td>\n      <td>31.02</td>\n      <td>29.47</td>\n      <td>...</td>\n      <td>-7.97</td>\n      <td>-49.47</td>\n      <td>-19.32</td>\n      <td>52.62</td>\n      <td>-0.44</td>\n      <td>21.65</td>\n      <td>-23.12</td>\n      <td>23.70</td>\n      <td>-18.62</td>\n      <td>10.69</td>\n    </tr>\n  </tbody>\n</table>\n<p>4 rows × 245 columns</p>\n</div>"
          },
          "metadata": {}
        }
      ]
    },
    {
      "cell_type": "code",
      "source": [
        "print(f'Train data set contains: {training.shape[0]} rows and {training.shape[1]} columns')\n",
        "print(f'Test data set contains: {testing.shape[0]} rows and {testing.shape[1]} columns') "
      ],
      "metadata": {
        "execution": {
          "iopub.status.busy": "2023-02-13T18:12:45.189954Z",
          "iopub.execute_input": "2023-02-13T18:12:45.190267Z",
          "iopub.status.idle": "2023-02-13T18:12:45.195803Z",
          "shell.execute_reply.started": "2023-02-13T18:12:45.190240Z",
          "shell.execute_reply": "2023-02-13T18:12:45.194563Z"
        },
        "trusted": true,
        "id": "KEs_PirEVch_",
        "outputId": "3eee9be7-018b-4ae0-dcb4-8d15623a88c7"
      },
      "execution_count": null,
      "outputs": [
        {
          "name": "stdout",
          "text": "Train data set contains: 375734 rows and 246 columns\nTest data set contains: 31354 rows and 245 columns\n",
          "output_type": "stream"
        }
      ]
    },
    {
      "cell_type": "code",
      "source": [
        "training.info()"
      ],
      "metadata": {
        "execution": {
          "iopub.status.busy": "2023-02-13T18:12:45.198277Z",
          "iopub.execute_input": "2023-02-13T18:12:45.198580Z",
          "iopub.status.idle": "2023-02-13T18:12:45.230396Z",
          "shell.execute_reply.started": "2023-02-13T18:12:45.198552Z",
          "shell.execute_reply": "2023-02-13T18:12:45.229205Z"
        },
        "trusted": true,
        "id": "cJy_OUbjVciB",
        "outputId": "2a128828-f26f-42e7-c6b8-e6109ff5351d"
      },
      "execution_count": null,
      "outputs": [
        {
          "name": "stdout",
          "text": "<class 'pandas.core.frame.DataFrame'>\nRangeIndex: 375734 entries, 0 to 375733\nColumns: 246 entries, index to wind-vwnd-925-2010-20\ndtypes: float64(240), int64(4), object(2)\nmemory usage: 705.2+ MB\n",
          "output_type": "stream"
        }
      ]
    },
    {
      "cell_type": "code",
      "source": [
        "testing.info()"
      ],
      "metadata": {
        "execution": {
          "iopub.status.busy": "2023-02-13T18:12:45.232064Z",
          "iopub.execute_input": "2023-02-13T18:12:45.232377Z",
          "iopub.status.idle": "2023-02-13T18:12:45.258809Z",
          "shell.execute_reply.started": "2023-02-13T18:12:45.232347Z",
          "shell.execute_reply": "2023-02-13T18:12:45.257225Z"
        },
        "trusted": true,
        "id": "dvlGZGwYVciC",
        "outputId": "765856ac-a803-458e-b0fe-7fa0fa99965e"
      },
      "execution_count": null,
      "outputs": [
        {
          "name": "stdout",
          "text": "<class 'pandas.core.frame.DataFrame'>\nRangeIndex: 31354 entries, 0 to 31353\nColumns: 245 entries, index to wind-vwnd-925-2010-20\ndtypes: float64(241), int64(2), object(2)\nmemory usage: 58.6+ MB\n",
          "output_type": "stream"
        }
      ]
    },
    {
      "cell_type": "code",
      "source": [
        "#checking for null values\n",
        "rating_missing=training.isnull().sum()[training.isnull().sum()>0]\n",
        "print(rating_missing)"
      ],
      "metadata": {
        "execution": {
          "iopub.status.busy": "2023-02-13T18:12:45.260581Z",
          "iopub.execute_input": "2023-02-13T18:12:45.260937Z",
          "iopub.status.idle": "2023-02-13T18:12:45.715918Z",
          "shell.execute_reply.started": "2023-02-13T18:12:45.260905Z",
          "shell.execute_reply": "2023-02-13T18:12:45.714700Z"
        },
        "trusted": true,
        "id": "rgoyv8qYVciF",
        "outputId": "fd1e2681-cd7d-4fe0-af9f-109f2de24c33"
      },
      "execution_count": null,
      "outputs": [
        {
          "name": "stdout",
          "text": "nmme0-tmp2m-34w__ccsm30    15934\nnmme-tmp2m-56w__ccsm3      10280\nnmme-prate-34w__ccsm3       8738\nnmme0-prate-56w__ccsm30    15934\nnmme0-prate-34w__ccsm30    15934\nnmme-prate-56w__ccsm3      10280\nnmme-tmp2m-34w__ccsm3       8738\nccsm30                     15934\ndtype: int64\n",
          "output_type": "stream"
        }
      ]
    },
    {
      "cell_type": "code",
      "source": [
        "train_len = len(training)\n",
        "print(train_len)"
      ],
      "metadata": {
        "execution": {
          "iopub.status.busy": "2023-02-13T18:12:45.717539Z",
          "iopub.execute_input": "2023-02-13T18:12:45.718035Z",
          "iopub.status.idle": "2023-02-13T18:12:45.724499Z",
          "shell.execute_reply.started": "2023-02-13T18:12:45.717990Z",
          "shell.execute_reply": "2023-02-13T18:12:45.722517Z"
        },
        "trusted": true,
        "id": "ZHJAZ1ddVciJ",
        "outputId": "fcb6772b-542e-4ab8-ad79-89f4139e38be"
      },
      "execution_count": null,
      "outputs": [
        {
          "name": "stdout",
          "text": "375734\n",
          "output_type": "stream"
        }
      ]
    },
    {
      "cell_type": "code",
      "source": [
        "#checking the % of the missing values\n",
        "\n",
        "perc_missing = ((rating_missing/train_len)*100)\n",
        "print(perc_missing)"
      ],
      "metadata": {
        "execution": {
          "iopub.status.busy": "2023-02-13T18:12:45.725719Z",
          "iopub.execute_input": "2023-02-13T18:12:45.726073Z",
          "iopub.status.idle": "2023-02-13T18:12:45.737968Z",
          "shell.execute_reply.started": "2023-02-13T18:12:45.726044Z",
          "shell.execute_reply": "2023-02-13T18:12:45.736802Z"
        },
        "trusted": true,
        "id": "hFkq1GwoVciM",
        "outputId": "43113995-024f-428a-ad62-3d2745b51ff9"
      },
      "execution_count": null,
      "outputs": [
        {
          "name": "stdout",
          "text": "nmme0-tmp2m-34w__ccsm30    4.240766\nnmme-tmp2m-56w__ccsm3      2.735978\nnmme-prate-34w__ccsm3      2.325581\nnmme0-prate-56w__ccsm30    4.240766\nnmme0-prate-34w__ccsm30    4.240766\nnmme-prate-56w__ccsm3      2.735978\nnmme-tmp2m-34w__ccsm3      2.325581\nccsm30                     4.240766\ndtype: float64\n",
          "output_type": "stream"
        }
      ]
    },
    {
      "cell_type": "markdown",
      "source": [
        "We can drop the missing values since they only range from 2%-4% from the total dataset "
      ],
      "metadata": {
        "id": "GO9AE7vZVciO"
      }
    },
    {
      "cell_type": "code",
      "source": [
        "#checking for null values\n",
        "testing.isnull().sum()[testing.isnull().sum()>0]"
      ],
      "metadata": {
        "execution": {
          "iopub.status.busy": "2023-02-13T18:12:45.739077Z",
          "iopub.execute_input": "2023-02-13T18:12:45.739551Z",
          "iopub.status.idle": "2023-02-13T18:12:45.793238Z",
          "shell.execute_reply.started": "2023-02-13T18:12:45.739517Z",
          "shell.execute_reply": "2023-02-13T18:12:45.792127Z"
        },
        "trusted": true,
        "id": "SrOx5c7dVciQ",
        "outputId": "3f0a5764-314d-46f7-e008-39fbd966c9b2"
      },
      "execution_count": null,
      "outputs": [
        {
          "execution_count": 11,
          "output_type": "execute_result",
          "data": {
            "text/plain": "Series([], dtype: int64)"
          },
          "metadata": {}
        }
      ]
    },
    {
      "cell_type": "code",
      "source": [
        "#dropping the missing values\n",
        "training.dropna(inplace=True)"
      ],
      "metadata": {
        "execution": {
          "iopub.status.busy": "2023-02-13T18:12:45.797137Z",
          "iopub.execute_input": "2023-02-13T18:12:45.797467Z",
          "iopub.status.idle": "2023-02-13T18:12:46.523665Z",
          "shell.execute_reply.started": "2023-02-13T18:12:45.797439Z",
          "shell.execute_reply": "2023-02-13T18:12:46.522287Z"
        },
        "trusted": true,
        "id": "ns9NEJePVciS"
      },
      "execution_count": null,
      "outputs": []
    },
    {
      "cell_type": "code",
      "source": [
        "#checking if there are any missing values\n",
        "training.isnull().sum()[training.isnull().sum()>0]"
      ],
      "metadata": {
        "execution": {
          "iopub.status.busy": "2023-02-13T18:12:46.525407Z",
          "iopub.execute_input": "2023-02-13T18:12:46.528095Z",
          "iopub.status.idle": "2023-02-13T18:12:46.934503Z",
          "shell.execute_reply.started": "2023-02-13T18:12:46.528043Z",
          "shell.execute_reply": "2023-02-13T18:12:46.933224Z"
        },
        "trusted": true,
        "id": "vQPRK4E3VciT",
        "outputId": "7294df8e-4516-4348-9a2b-4d925181f733"
      },
      "execution_count": null,
      "outputs": [
        {
          "execution_count": 13,
          "output_type": "execute_result",
          "data": {
            "text/plain": "Series([], dtype: int64)"
          },
          "metadata": {}
        }
      ]
    },
    {
      "cell_type": "code",
      "source": [
        "# dropping the index column\n",
        "training=training.drop(['index'],axis=1)\n",
        "training.head()"
      ],
      "metadata": {
        "execution": {
          "iopub.status.busy": "2023-02-13T18:12:46.936740Z",
          "iopub.execute_input": "2023-02-13T18:12:46.937078Z",
          "iopub.status.idle": "2023-02-13T18:12:47.183923Z",
          "shell.execute_reply.started": "2023-02-13T18:12:46.937049Z",
          "shell.execute_reply": "2023-02-13T18:12:47.182696Z"
        },
        "trusted": true,
        "id": "TWRYT3XIVcik",
        "outputId": "736a5b20-0dab-46c9-af56-5e6e65f747ef"
      },
      "execution_count": null,
      "outputs": [
        {
          "execution_count": 14,
          "output_type": "execute_result",
          "data": {
            "text/plain": "   lat       lon startdate  contest-pevpr-sfc-gauss-14d__pevpr  \\\n0  0.0  0.833333    9/1/14                              237.00   \n1  0.0  0.833333    9/2/14                              228.90   \n2  0.0  0.833333    9/3/14                              220.69   \n3  0.0  0.833333    9/4/14                              225.28   \n4  0.0  0.833333    9/5/14                              237.24   \n\n   nmme0-tmp2m-34w__cancm30  nmme0-tmp2m-34w__cancm40  \\\n0                     29.02                     31.64   \n1                     29.02                     31.64   \n2                     29.02                     31.64   \n3                     29.02                     31.64   \n4                     29.02                     31.64   \n\n   nmme0-tmp2m-34w__ccsm30  nmme0-tmp2m-34w__ccsm40  nmme0-tmp2m-34w__cfsv20  \\\n0                    29.57                    30.73                    29.71   \n1                    29.57                    30.73                    29.71   \n2                    29.57                    30.73                    29.71   \n3                    29.57                    30.73                    29.71   \n4                    29.57                    30.73                    29.71   \n\n   nmme0-tmp2m-34w__gfdlflora0  ...  wind-vwnd-925-2010-11  \\\n0                        31.52  ...                 -27.68   \n1                        31.52  ...                 -21.13   \n2                        31.52  ...                 -10.72   \n3                        31.52  ...                   0.33   \n4                        31.52  ...                   9.83   \n\n   wind-vwnd-925-2010-12  wind-vwnd-925-2010-13  wind-vwnd-925-2010-14  \\\n0                 -37.21                   8.32                   9.56   \n1                 -36.57                   8.77                  21.17   \n2                 -34.16                   6.99                  32.16   \n3                 -31.04                   6.17                  39.66   \n4                 -31.80                   7.47                  38.62   \n\n   wind-vwnd-925-2010-15  wind-vwnd-925-2010-16  wind-vwnd-925-2010-17  \\\n0                  -2.03                  48.13                  28.09   \n1                   4.44                  48.60                  27.41   \n2                   5.01                  48.53                  19.21   \n3                  -1.41                  50.59                   8.29   \n4                  -5.21                  54.73                  -2.58   \n\n   wind-vwnd-925-2010-18  wind-vwnd-925-2010-19  wind-vwnd-925-2010-20  \n0                 -13.50                  11.90                   4.58  \n1                 -23.77                  15.44                   3.42  \n2                 -33.16                  15.11                   4.82  \n3                 -37.22                  18.24                   9.74  \n4                 -42.30                  21.91                  10.95  \n\n[5 rows x 245 columns]",
            "text/html": "<div>\n<style scoped>\n    .dataframe tbody tr th:only-of-type {\n        vertical-align: middle;\n    }\n\n    .dataframe tbody tr th {\n        vertical-align: top;\n    }\n\n    .dataframe thead th {\n        text-align: right;\n    }\n</style>\n<table border=\"1\" class=\"dataframe\">\n  <thead>\n    <tr style=\"text-align: right;\">\n      <th></th>\n      <th>lat</th>\n      <th>lon</th>\n      <th>startdate</th>\n      <th>contest-pevpr-sfc-gauss-14d__pevpr</th>\n      <th>nmme0-tmp2m-34w__cancm30</th>\n      <th>nmme0-tmp2m-34w__cancm40</th>\n      <th>nmme0-tmp2m-34w__ccsm30</th>\n      <th>nmme0-tmp2m-34w__ccsm40</th>\n      <th>nmme0-tmp2m-34w__cfsv20</th>\n      <th>nmme0-tmp2m-34w__gfdlflora0</th>\n      <th>...</th>\n      <th>wind-vwnd-925-2010-11</th>\n      <th>wind-vwnd-925-2010-12</th>\n      <th>wind-vwnd-925-2010-13</th>\n      <th>wind-vwnd-925-2010-14</th>\n      <th>wind-vwnd-925-2010-15</th>\n      <th>wind-vwnd-925-2010-16</th>\n      <th>wind-vwnd-925-2010-17</th>\n      <th>wind-vwnd-925-2010-18</th>\n      <th>wind-vwnd-925-2010-19</th>\n      <th>wind-vwnd-925-2010-20</th>\n    </tr>\n  </thead>\n  <tbody>\n    <tr>\n      <th>0</th>\n      <td>0.0</td>\n      <td>0.833333</td>\n      <td>9/1/14</td>\n      <td>237.00</td>\n      <td>29.02</td>\n      <td>31.64</td>\n      <td>29.57</td>\n      <td>30.73</td>\n      <td>29.71</td>\n      <td>31.52</td>\n      <td>...</td>\n      <td>-27.68</td>\n      <td>-37.21</td>\n      <td>8.32</td>\n      <td>9.56</td>\n      <td>-2.03</td>\n      <td>48.13</td>\n      <td>28.09</td>\n      <td>-13.50</td>\n      <td>11.90</td>\n      <td>4.58</td>\n    </tr>\n    <tr>\n      <th>1</th>\n      <td>0.0</td>\n      <td>0.833333</td>\n      <td>9/2/14</td>\n      <td>228.90</td>\n      <td>29.02</td>\n      <td>31.64</td>\n      <td>29.57</td>\n      <td>30.73</td>\n      <td>29.71</td>\n      <td>31.52</td>\n      <td>...</td>\n      <td>-21.13</td>\n      <td>-36.57</td>\n      <td>8.77</td>\n      <td>21.17</td>\n      <td>4.44</td>\n      <td>48.60</td>\n      <td>27.41</td>\n      <td>-23.77</td>\n      <td>15.44</td>\n      <td>3.42</td>\n    </tr>\n    <tr>\n      <th>2</th>\n      <td>0.0</td>\n      <td>0.833333</td>\n      <td>9/3/14</td>\n      <td>220.69</td>\n      <td>29.02</td>\n      <td>31.64</td>\n      <td>29.57</td>\n      <td>30.73</td>\n      <td>29.71</td>\n      <td>31.52</td>\n      <td>...</td>\n      <td>-10.72</td>\n      <td>-34.16</td>\n      <td>6.99</td>\n      <td>32.16</td>\n      <td>5.01</td>\n      <td>48.53</td>\n      <td>19.21</td>\n      <td>-33.16</td>\n      <td>15.11</td>\n      <td>4.82</td>\n    </tr>\n    <tr>\n      <th>3</th>\n      <td>0.0</td>\n      <td>0.833333</td>\n      <td>9/4/14</td>\n      <td>225.28</td>\n      <td>29.02</td>\n      <td>31.64</td>\n      <td>29.57</td>\n      <td>30.73</td>\n      <td>29.71</td>\n      <td>31.52</td>\n      <td>...</td>\n      <td>0.33</td>\n      <td>-31.04</td>\n      <td>6.17</td>\n      <td>39.66</td>\n      <td>-1.41</td>\n      <td>50.59</td>\n      <td>8.29</td>\n      <td>-37.22</td>\n      <td>18.24</td>\n      <td>9.74</td>\n    </tr>\n    <tr>\n      <th>4</th>\n      <td>0.0</td>\n      <td>0.833333</td>\n      <td>9/5/14</td>\n      <td>237.24</td>\n      <td>29.02</td>\n      <td>31.64</td>\n      <td>29.57</td>\n      <td>30.73</td>\n      <td>29.71</td>\n      <td>31.52</td>\n      <td>...</td>\n      <td>9.83</td>\n      <td>-31.80</td>\n      <td>7.47</td>\n      <td>38.62</td>\n      <td>-5.21</td>\n      <td>54.73</td>\n      <td>-2.58</td>\n      <td>-42.30</td>\n      <td>21.91</td>\n      <td>10.95</td>\n    </tr>\n  </tbody>\n</table>\n<p>5 rows × 245 columns</p>\n</div>"
          },
          "metadata": {}
        }
      ]
    },
    {
      "cell_type": "code",
      "source": [
        "# dropping the index column\n",
        "testing=testing.drop(['index'],axis=1)\n",
        "testing.head()"
      ],
      "metadata": {
        "execution": {
          "iopub.status.busy": "2023-02-13T18:12:47.185680Z",
          "iopub.execute_input": "2023-02-13T18:12:47.186149Z",
          "iopub.status.idle": "2023-02-13T18:12:47.233941Z",
          "shell.execute_reply.started": "2023-02-13T18:12:47.186105Z",
          "shell.execute_reply": "2023-02-13T18:12:47.232939Z"
        },
        "trusted": true,
        "id": "SQK6csPkVcim",
        "outputId": "8c5aba01-94a6-4950-e6e5-ea7531e5f790"
      },
      "execution_count": null,
      "outputs": [
        {
          "execution_count": 15,
          "output_type": "execute_result",
          "data": {
            "text/plain": "   lat       lon startdate  contest-pevpr-sfc-gauss-14d__pevpr  \\\n0  0.0  0.833333   11/1/22                              339.88   \n1  0.0  0.833333   11/2/22                              334.63   \n2  0.0  0.833333   11/3/22                              337.83   \n3  0.0  0.833333   11/4/22                              345.81   \n4  0.0  0.833333   11/5/22                              357.39   \n\n   nmme0-tmp2m-34w__cancm30  nmme0-tmp2m-34w__cancm40  \\\n0                     30.88                     30.92   \n1                     30.88                     30.92   \n2                     30.88                     30.92   \n3                     30.88                     30.92   \n4                     30.88                     30.92   \n\n   nmme0-tmp2m-34w__ccsm30  nmme0-tmp2m-34w__ccsm40  nmme0-tmp2m-34w__cfsv20  \\\n0                    29.17                    31.02                    29.47   \n1                    29.17                    31.02                    29.47   \n2                    29.17                    31.02                    29.47   \n3                    29.17                    31.02                    29.47   \n4                    29.17                    31.02                    29.47   \n\n   nmme0-tmp2m-34w__gfdlflora0  ...  wind-vwnd-925-2010-11  \\\n0                        30.93  ...                 -19.28   \n1                        30.93  ...                 -19.58   \n2                        30.93  ...                 -13.73   \n3                        30.93  ...                  -7.97   \n4                        30.93  ...                  -0.80   \n\n   wind-vwnd-925-2010-12  wind-vwnd-925-2010-13  wind-vwnd-925-2010-14  \\\n0                 -39.77                 -29.25                  40.88   \n1                 -43.14                 -28.62                  45.37   \n2                 -44.22                 -27.67                  49.76   \n3                 -49.47                 -19.32                  52.62   \n4                 -56.07                  -9.89                  51.23   \n\n   wind-vwnd-925-2010-15  wind-vwnd-925-2010-16  wind-vwnd-925-2010-17  \\\n0                  -8.31                  14.91                 -24.62   \n1                  -5.42                  16.97                 -23.94   \n2                  -1.31                  21.44                 -19.06   \n3                  -0.44                  21.65                 -23.12   \n4                  -7.57                  19.86                 -30.56   \n\n   wind-vwnd-925-2010-18  wind-vwnd-925-2010-19  wind-vwnd-925-2010-20  \n0                  31.05                 -23.69                   6.27  \n1                  28.84                 -20.61                  14.16  \n2                  26.85                 -16.78                  13.42  \n3                  23.70                 -18.62                  10.69  \n4                  20.66                 -25.08                  19.64  \n\n[5 rows x 244 columns]",
            "text/html": "<div>\n<style scoped>\n    .dataframe tbody tr th:only-of-type {\n        vertical-align: middle;\n    }\n\n    .dataframe tbody tr th {\n        vertical-align: top;\n    }\n\n    .dataframe thead th {\n        text-align: right;\n    }\n</style>\n<table border=\"1\" class=\"dataframe\">\n  <thead>\n    <tr style=\"text-align: right;\">\n      <th></th>\n      <th>lat</th>\n      <th>lon</th>\n      <th>startdate</th>\n      <th>contest-pevpr-sfc-gauss-14d__pevpr</th>\n      <th>nmme0-tmp2m-34w__cancm30</th>\n      <th>nmme0-tmp2m-34w__cancm40</th>\n      <th>nmme0-tmp2m-34w__ccsm30</th>\n      <th>nmme0-tmp2m-34w__ccsm40</th>\n      <th>nmme0-tmp2m-34w__cfsv20</th>\n      <th>nmme0-tmp2m-34w__gfdlflora0</th>\n      <th>...</th>\n      <th>wind-vwnd-925-2010-11</th>\n      <th>wind-vwnd-925-2010-12</th>\n      <th>wind-vwnd-925-2010-13</th>\n      <th>wind-vwnd-925-2010-14</th>\n      <th>wind-vwnd-925-2010-15</th>\n      <th>wind-vwnd-925-2010-16</th>\n      <th>wind-vwnd-925-2010-17</th>\n      <th>wind-vwnd-925-2010-18</th>\n      <th>wind-vwnd-925-2010-19</th>\n      <th>wind-vwnd-925-2010-20</th>\n    </tr>\n  </thead>\n  <tbody>\n    <tr>\n      <th>0</th>\n      <td>0.0</td>\n      <td>0.833333</td>\n      <td>11/1/22</td>\n      <td>339.88</td>\n      <td>30.88</td>\n      <td>30.92</td>\n      <td>29.17</td>\n      <td>31.02</td>\n      <td>29.47</td>\n      <td>30.93</td>\n      <td>...</td>\n      <td>-19.28</td>\n      <td>-39.77</td>\n      <td>-29.25</td>\n      <td>40.88</td>\n      <td>-8.31</td>\n      <td>14.91</td>\n      <td>-24.62</td>\n      <td>31.05</td>\n      <td>-23.69</td>\n      <td>6.27</td>\n    </tr>\n    <tr>\n      <th>1</th>\n      <td>0.0</td>\n      <td>0.833333</td>\n      <td>11/2/22</td>\n      <td>334.63</td>\n      <td>30.88</td>\n      <td>30.92</td>\n      <td>29.17</td>\n      <td>31.02</td>\n      <td>29.47</td>\n      <td>30.93</td>\n      <td>...</td>\n      <td>-19.58</td>\n      <td>-43.14</td>\n      <td>-28.62</td>\n      <td>45.37</td>\n      <td>-5.42</td>\n      <td>16.97</td>\n      <td>-23.94</td>\n      <td>28.84</td>\n      <td>-20.61</td>\n      <td>14.16</td>\n    </tr>\n    <tr>\n      <th>2</th>\n      <td>0.0</td>\n      <td>0.833333</td>\n      <td>11/3/22</td>\n      <td>337.83</td>\n      <td>30.88</td>\n      <td>30.92</td>\n      <td>29.17</td>\n      <td>31.02</td>\n      <td>29.47</td>\n      <td>30.93</td>\n      <td>...</td>\n      <td>-13.73</td>\n      <td>-44.22</td>\n      <td>-27.67</td>\n      <td>49.76</td>\n      <td>-1.31</td>\n      <td>21.44</td>\n      <td>-19.06</td>\n      <td>26.85</td>\n      <td>-16.78</td>\n      <td>13.42</td>\n    </tr>\n    <tr>\n      <th>3</th>\n      <td>0.0</td>\n      <td>0.833333</td>\n      <td>11/4/22</td>\n      <td>345.81</td>\n      <td>30.88</td>\n      <td>30.92</td>\n      <td>29.17</td>\n      <td>31.02</td>\n      <td>29.47</td>\n      <td>30.93</td>\n      <td>...</td>\n      <td>-7.97</td>\n      <td>-49.47</td>\n      <td>-19.32</td>\n      <td>52.62</td>\n      <td>-0.44</td>\n      <td>21.65</td>\n      <td>-23.12</td>\n      <td>23.70</td>\n      <td>-18.62</td>\n      <td>10.69</td>\n    </tr>\n    <tr>\n      <th>4</th>\n      <td>0.0</td>\n      <td>0.833333</td>\n      <td>11/5/22</td>\n      <td>357.39</td>\n      <td>30.88</td>\n      <td>30.92</td>\n      <td>29.17</td>\n      <td>31.02</td>\n      <td>29.47</td>\n      <td>30.93</td>\n      <td>...</td>\n      <td>-0.80</td>\n      <td>-56.07</td>\n      <td>-9.89</td>\n      <td>51.23</td>\n      <td>-7.57</td>\n      <td>19.86</td>\n      <td>-30.56</td>\n      <td>20.66</td>\n      <td>-25.08</td>\n      <td>19.64</td>\n    </tr>\n  </tbody>\n</table>\n<p>5 rows × 244 columns</p>\n</div>"
          },
          "metadata": {}
        }
      ]
    },
    {
      "cell_type": "code",
      "source": [
        "#converting the startdate column to datetime datatype\n",
        "training.startdate=pd.to_datetime(training.startdate, infer_datetime_format=True)\n",
        "training.info()\n",
        "training.head(2)"
      ],
      "metadata": {
        "execution": {
          "iopub.status.busy": "2023-02-13T18:12:47.235296Z",
          "iopub.execute_input": "2023-02-13T18:12:47.235655Z",
          "iopub.status.idle": "2023-02-13T18:13:12.720393Z",
          "shell.execute_reply.started": "2023-02-13T18:12:47.235622Z",
          "shell.execute_reply": "2023-02-13T18:13:12.719259Z"
        },
        "trusted": true,
        "id": "r91W_mE_Vcio",
        "outputId": "8783c399-7d9c-4ce3-83ce-4c924c69c961"
      },
      "execution_count": null,
      "outputs": [
        {
          "name": "stdout",
          "text": "<class 'pandas.core.frame.DataFrame'>\nInt64Index: 352604 entries, 0 to 375733\nColumns: 245 entries, lat to wind-vwnd-925-2010-20\ndtypes: datetime64[ns](1), float64(240), int64(3), object(1)\nmemory usage: 661.8+ MB\n",
          "output_type": "stream"
        },
        {
          "execution_count": 16,
          "output_type": "execute_result",
          "data": {
            "text/plain": "   lat       lon  startdate  contest-pevpr-sfc-gauss-14d__pevpr  \\\n0  0.0  0.833333 2014-09-01                               237.0   \n1  0.0  0.833333 2014-09-02                               228.9   \n\n   nmme0-tmp2m-34w__cancm30  nmme0-tmp2m-34w__cancm40  \\\n0                     29.02                     31.64   \n1                     29.02                     31.64   \n\n   nmme0-tmp2m-34w__ccsm30  nmme0-tmp2m-34w__ccsm40  nmme0-tmp2m-34w__cfsv20  \\\n0                    29.57                    30.73                    29.71   \n1                    29.57                    30.73                    29.71   \n\n   nmme0-tmp2m-34w__gfdlflora0  ...  wind-vwnd-925-2010-11  \\\n0                        31.52  ...                 -27.68   \n1                        31.52  ...                 -21.13   \n\n   wind-vwnd-925-2010-12  wind-vwnd-925-2010-13  wind-vwnd-925-2010-14  \\\n0                 -37.21                   8.32                   9.56   \n1                 -36.57                   8.77                  21.17   \n\n   wind-vwnd-925-2010-15  wind-vwnd-925-2010-16  wind-vwnd-925-2010-17  \\\n0                  -2.03                  48.13                  28.09   \n1                   4.44                  48.60                  27.41   \n\n   wind-vwnd-925-2010-18  wind-vwnd-925-2010-19  wind-vwnd-925-2010-20  \n0                 -13.50                  11.90                   4.58  \n1                 -23.77                  15.44                   3.42  \n\n[2 rows x 245 columns]",
            "text/html": "<div>\n<style scoped>\n    .dataframe tbody tr th:only-of-type {\n        vertical-align: middle;\n    }\n\n    .dataframe tbody tr th {\n        vertical-align: top;\n    }\n\n    .dataframe thead th {\n        text-align: right;\n    }\n</style>\n<table border=\"1\" class=\"dataframe\">\n  <thead>\n    <tr style=\"text-align: right;\">\n      <th></th>\n      <th>lat</th>\n      <th>lon</th>\n      <th>startdate</th>\n      <th>contest-pevpr-sfc-gauss-14d__pevpr</th>\n      <th>nmme0-tmp2m-34w__cancm30</th>\n      <th>nmme0-tmp2m-34w__cancm40</th>\n      <th>nmme0-tmp2m-34w__ccsm30</th>\n      <th>nmme0-tmp2m-34w__ccsm40</th>\n      <th>nmme0-tmp2m-34w__cfsv20</th>\n      <th>nmme0-tmp2m-34w__gfdlflora0</th>\n      <th>...</th>\n      <th>wind-vwnd-925-2010-11</th>\n      <th>wind-vwnd-925-2010-12</th>\n      <th>wind-vwnd-925-2010-13</th>\n      <th>wind-vwnd-925-2010-14</th>\n      <th>wind-vwnd-925-2010-15</th>\n      <th>wind-vwnd-925-2010-16</th>\n      <th>wind-vwnd-925-2010-17</th>\n      <th>wind-vwnd-925-2010-18</th>\n      <th>wind-vwnd-925-2010-19</th>\n      <th>wind-vwnd-925-2010-20</th>\n    </tr>\n  </thead>\n  <tbody>\n    <tr>\n      <th>0</th>\n      <td>0.0</td>\n      <td>0.833333</td>\n      <td>2014-09-01</td>\n      <td>237.0</td>\n      <td>29.02</td>\n      <td>31.64</td>\n      <td>29.57</td>\n      <td>30.73</td>\n      <td>29.71</td>\n      <td>31.52</td>\n      <td>...</td>\n      <td>-27.68</td>\n      <td>-37.21</td>\n      <td>8.32</td>\n      <td>9.56</td>\n      <td>-2.03</td>\n      <td>48.13</td>\n      <td>28.09</td>\n      <td>-13.50</td>\n      <td>11.90</td>\n      <td>4.58</td>\n    </tr>\n    <tr>\n      <th>1</th>\n      <td>0.0</td>\n      <td>0.833333</td>\n      <td>2014-09-02</td>\n      <td>228.9</td>\n      <td>29.02</td>\n      <td>31.64</td>\n      <td>29.57</td>\n      <td>30.73</td>\n      <td>29.71</td>\n      <td>31.52</td>\n      <td>...</td>\n      <td>-21.13</td>\n      <td>-36.57</td>\n      <td>8.77</td>\n      <td>21.17</td>\n      <td>4.44</td>\n      <td>48.60</td>\n      <td>27.41</td>\n      <td>-23.77</td>\n      <td>15.44</td>\n      <td>3.42</td>\n    </tr>\n  </tbody>\n</table>\n<p>2 rows × 245 columns</p>\n</div>"
          },
          "metadata": {}
        }
      ]
    },
    {
      "cell_type": "code",
      "source": [
        "#converting the startdate column to datetime datatype\n",
        "testing.startdate=pd.to_datetime(testing.startdate, infer_datetime_format=True)\n",
        "testing.info()\n",
        "testing.head(2)"
      ],
      "metadata": {
        "execution": {
          "iopub.status.busy": "2023-02-13T18:13:12.721983Z",
          "iopub.execute_input": "2023-02-13T18:13:12.722724Z",
          "iopub.status.idle": "2023-02-13T18:13:12.780301Z",
          "shell.execute_reply.started": "2023-02-13T18:13:12.722670Z",
          "shell.execute_reply": "2023-02-13T18:13:12.779069Z"
        },
        "trusted": true,
        "id": "Fj-fMkscVcio",
        "outputId": "1d9e6051-0cac-4947-e7e7-6708193b33b2"
      },
      "execution_count": null,
      "outputs": [
        {
          "name": "stdout",
          "text": "<class 'pandas.core.frame.DataFrame'>\nRangeIndex: 31354 entries, 0 to 31353\nColumns: 244 entries, lat to wind-vwnd-925-2010-20\ndtypes: datetime64[ns](1), float64(241), int64(1), object(1)\nmemory usage: 58.4+ MB\n",
          "output_type": "stream"
        },
        {
          "execution_count": 17,
          "output_type": "execute_result",
          "data": {
            "text/plain": "   lat       lon  startdate  contest-pevpr-sfc-gauss-14d__pevpr  \\\n0  0.0  0.833333 2022-11-01                              339.88   \n1  0.0  0.833333 2022-11-02                              334.63   \n\n   nmme0-tmp2m-34w__cancm30  nmme0-tmp2m-34w__cancm40  \\\n0                     30.88                     30.92   \n1                     30.88                     30.92   \n\n   nmme0-tmp2m-34w__ccsm30  nmme0-tmp2m-34w__ccsm40  nmme0-tmp2m-34w__cfsv20  \\\n0                    29.17                    31.02                    29.47   \n1                    29.17                    31.02                    29.47   \n\n   nmme0-tmp2m-34w__gfdlflora0  ...  wind-vwnd-925-2010-11  \\\n0                        30.93  ...                 -19.28   \n1                        30.93  ...                 -19.58   \n\n   wind-vwnd-925-2010-12  wind-vwnd-925-2010-13  wind-vwnd-925-2010-14  \\\n0                 -39.77                 -29.25                  40.88   \n1                 -43.14                 -28.62                  45.37   \n\n   wind-vwnd-925-2010-15  wind-vwnd-925-2010-16  wind-vwnd-925-2010-17  \\\n0                  -8.31                  14.91                 -24.62   \n1                  -5.42                  16.97                 -23.94   \n\n   wind-vwnd-925-2010-18  wind-vwnd-925-2010-19  wind-vwnd-925-2010-20  \n0                  31.05                 -23.69                   6.27  \n1                  28.84                 -20.61                  14.16  \n\n[2 rows x 244 columns]",
            "text/html": "<div>\n<style scoped>\n    .dataframe tbody tr th:only-of-type {\n        vertical-align: middle;\n    }\n\n    .dataframe tbody tr th {\n        vertical-align: top;\n    }\n\n    .dataframe thead th {\n        text-align: right;\n    }\n</style>\n<table border=\"1\" class=\"dataframe\">\n  <thead>\n    <tr style=\"text-align: right;\">\n      <th></th>\n      <th>lat</th>\n      <th>lon</th>\n      <th>startdate</th>\n      <th>contest-pevpr-sfc-gauss-14d__pevpr</th>\n      <th>nmme0-tmp2m-34w__cancm30</th>\n      <th>nmme0-tmp2m-34w__cancm40</th>\n      <th>nmme0-tmp2m-34w__ccsm30</th>\n      <th>nmme0-tmp2m-34w__ccsm40</th>\n      <th>nmme0-tmp2m-34w__cfsv20</th>\n      <th>nmme0-tmp2m-34w__gfdlflora0</th>\n      <th>...</th>\n      <th>wind-vwnd-925-2010-11</th>\n      <th>wind-vwnd-925-2010-12</th>\n      <th>wind-vwnd-925-2010-13</th>\n      <th>wind-vwnd-925-2010-14</th>\n      <th>wind-vwnd-925-2010-15</th>\n      <th>wind-vwnd-925-2010-16</th>\n      <th>wind-vwnd-925-2010-17</th>\n      <th>wind-vwnd-925-2010-18</th>\n      <th>wind-vwnd-925-2010-19</th>\n      <th>wind-vwnd-925-2010-20</th>\n    </tr>\n  </thead>\n  <tbody>\n    <tr>\n      <th>0</th>\n      <td>0.0</td>\n      <td>0.833333</td>\n      <td>2022-11-01</td>\n      <td>339.88</td>\n      <td>30.88</td>\n      <td>30.92</td>\n      <td>29.17</td>\n      <td>31.02</td>\n      <td>29.47</td>\n      <td>30.93</td>\n      <td>...</td>\n      <td>-19.28</td>\n      <td>-39.77</td>\n      <td>-29.25</td>\n      <td>40.88</td>\n      <td>-8.31</td>\n      <td>14.91</td>\n      <td>-24.62</td>\n      <td>31.05</td>\n      <td>-23.69</td>\n      <td>6.27</td>\n    </tr>\n    <tr>\n      <th>1</th>\n      <td>0.0</td>\n      <td>0.833333</td>\n      <td>2022-11-02</td>\n      <td>334.63</td>\n      <td>30.88</td>\n      <td>30.92</td>\n      <td>29.17</td>\n      <td>31.02</td>\n      <td>29.47</td>\n      <td>30.93</td>\n      <td>...</td>\n      <td>-19.58</td>\n      <td>-43.14</td>\n      <td>-28.62</td>\n      <td>45.37</td>\n      <td>-5.42</td>\n      <td>16.97</td>\n      <td>-23.94</td>\n      <td>28.84</td>\n      <td>-20.61</td>\n      <td>14.16</td>\n    </tr>\n  </tbody>\n</table>\n<p>2 rows × 244 columns</p>\n</div>"
          },
          "metadata": {}
        }
      ]
    },
    {
      "cell_type": "markdown",
      "source": [
        "## EDA"
      ],
      "metadata": {
        "id": "lJvWUVYgVciu"
      }
    },
    {
      "cell_type": "code",
      "source": [
        "training.groupby('startdate')['climateregions__climateregion'].count()"
      ],
      "metadata": {
        "execution": {
          "iopub.status.busy": "2023-02-13T18:13:12.781461Z",
          "iopub.execute_input": "2023-02-13T18:13:12.781794Z",
          "iopub.status.idle": "2023-02-13T18:13:12.815105Z",
          "shell.execute_reply.started": "2023-02-13T18:13:12.781764Z",
          "shell.execute_reply": "2023-02-13T18:13:12.814027Z"
        },
        "trusted": true,
        "id": "m8DcdvHuVciu",
        "outputId": "1cd3f5ee-70bb-4810-a5a6-d95fbfe6b3e0"
      },
      "execution_count": null,
      "outputs": [
        {
          "execution_count": 18,
          "output_type": "execute_result",
          "data": {
            "text/plain": "startdate\n2014-09-01    514\n2014-09-02    514\n2014-09-03    514\n2014-09-04    514\n2014-09-05    514\n             ... \n2016-08-27    514\n2016-08-28    514\n2016-08-29    514\n2016-08-30    514\n2016-08-31    514\nName: climateregions__climateregion, Length: 686, dtype: int64"
          },
          "metadata": {}
        }
      ]
    },
    {
      "cell_type": "code",
      "source": [
        "# merge the train and test data\n",
        "climate_df = pd.concat([training, testing], axis=0)\n",
        "\n",
        "# Create new column with a combination of both lat and longitude\n",
        "climate_df['location_group'] = climate_df.groupby(['lat','lon']).ngroup()\n",
        "\n",
        "print(f'{climate_df.location_group.nunique()} unique locations')\n",
        "\n",
        "# Split back up\n",
        "training = climate_df.iloc[:len(training)]\n",
        "testing = climate_df.iloc[len(training):]"
      ],
      "metadata": {
        "execution": {
          "iopub.status.busy": "2023-02-13T18:13:12.816595Z",
          "iopub.execute_input": "2023-02-13T18:13:12.816931Z",
          "iopub.status.idle": "2023-02-13T18:13:14.179624Z",
          "shell.execute_reply.started": "2023-02-13T18:13:12.816900Z",
          "shell.execute_reply": "2023-02-13T18:13:14.178448Z"
        },
        "trusted": true,
        "id": "BxqreGXWVcix",
        "outputId": "de3b0a57-a785-46a3-963c-1a2699e15bc0"
      },
      "execution_count": null,
      "outputs": [
        {
          "name": "stdout",
          "text": "575 unique locations\n",
          "output_type": "stream"
        }
      ]
    },
    {
      "cell_type": "markdown",
      "source": [
        "Based on merging the longitude & latitude to (location_group), there are 575 unique locations"
      ],
      "metadata": {
        "id": "KqKgh485Vciy"
      }
    },
    {
      "cell_type": "code",
      "source": [
        "training.describe()"
      ],
      "metadata": {
        "execution": {
          "iopub.status.busy": "2023-02-13T18:13:14.180982Z",
          "iopub.execute_input": "2023-02-13T18:13:14.181320Z",
          "iopub.status.idle": "2023-02-13T18:13:17.514240Z",
          "shell.execute_reply.started": "2023-02-13T18:13:14.181290Z",
          "shell.execute_reply": "2023-02-13T18:13:17.513005Z"
        },
        "trusted": true,
        "id": "jOeUwOGLVciz",
        "outputId": "3db1b4cd-1166-418b-b85e-7917f3d38a08"
      },
      "execution_count": null,
      "outputs": [
        {
          "execution_count": 20,
          "output_type": "execute_result",
          "data": {
            "text/plain": "                 lat            lon  contest-pevpr-sfc-gauss-14d__pevpr  \\\ncount  352604.000000  352604.000000                       352604.000000   \nmean        0.592766       0.517964                          268.756935   \nstd         0.251744       0.272059                          200.025342   \nmin         0.000000       0.000000                           -2.310000   \n25%         0.409091       0.300000                           95.620000   \n50%         0.590909       0.533333                          234.570000   \n75%         0.818182       0.766667                          412.950000   \nmax         1.000000       1.000000                         1185.140000   \n\n       nmme0-tmp2m-34w__cancm30  nmme0-tmp2m-34w__cancm40  \\\ncount             352604.000000              352604.00000   \nmean                  10.008439                  11.94841   \nstd                   10.741907                  10.88407   \nmin                  -14.960000                 -14.97000   \n25%                    1.000000                   3.06000   \n50%                    8.860000                  10.93000   \n75%                   19.010000                  20.91000   \nmax                   36.080000                  36.03000   \n\n       nmme0-tmp2m-34w__ccsm30  nmme0-tmp2m-34w__ccsm40  \\\ncount            352604.000000            352604.000000   \nmean                  9.914150                10.913216   \nstd                  10.336138                10.429579   \nmin                 -11.720000               -17.560000   \n25%                   1.480000                 2.560000   \n50%                   9.150000                10.670000   \n75%                  18.580000                19.410000   \nmax                  33.390000                34.310000   \n\n       nmme0-tmp2m-34w__cfsv20  nmme0-tmp2m-34w__gfdlflora0  \\\ncount            352604.000000                352604.000000   \nmean                 10.131531                    11.051802   \nstd                   9.321961                    10.529236   \nmin                 -13.720000                   -13.330000   \n25%                   2.890000                     2.480000   \n50%                   9.990000                    10.320000   \n75%                  17.570000                    19.150000   \nmax                  35.750000                    38.350000   \n\n       nmme0-tmp2m-34w__gfdlflorb0  ...  wind-vwnd-925-2010-12  \\\ncount                352604.000000  ...          352604.000000   \nmean                     10.984060  ...              -7.337988   \nstd                      10.539843  ...              35.982786   \nmin                     -13.520000  ...             -89.940000   \n25%                       2.410000  ...             -31.800000   \n50%                      10.310000  ...              -8.850000   \n75%                      19.040000  ...              18.230000   \nmax                      38.450000  ...              96.550000   \n\n       wind-vwnd-925-2010-13  wind-vwnd-925-2010-14  wind-vwnd-925-2010-15  \\\ncount          352604.000000          352604.000000          352604.000000   \nmean                4.057347              19.243644             -18.129475   \nstd                36.453583              25.719270              32.513595   \nmin               -64.870000             -39.280000            -100.560000   \n25%               -20.220000               1.650000             -40.690000   \n50%                 0.135000              19.785000             -17.830000   \n75%                24.470000              36.090000               4.390000   \nmax               105.160000              91.760000              56.550000   \n\n       wind-vwnd-925-2010-16  wind-vwnd-925-2010-17  wind-vwnd-925-2010-18  \\\ncount          352604.000000          352604.000000          352604.000000   \nmean              -11.662332              -6.269694              14.722638   \nstd                33.707956              27.444561              24.547827   \nmin              -106.080000             -93.980000             -52.610000   \n25%               -33.410000             -20.770000              -0.980000   \n50%                -9.660000              -6.260000              18.490000   \n75%                 9.280000              11.800000              30.370000   \nmax                83.890000              64.850000              77.960000   \n\n       wind-vwnd-925-2010-19  wind-vwnd-925-2010-20  location_group  \ncount          352604.000000          352604.000000   352604.000000  \nmean               12.285321              12.662362      300.330739  \nstd                24.244970              24.503133      164.887235  \nmin               -66.110000             -54.580000        0.000000  \n25%                -2.360000              -4.580000      175.000000  \n50%                13.045000              12.675000      308.500000  \n75%                31.040000              30.240000      441.000000  \nmax                76.890000              88.660000      574.000000  \n\n[8 rows x 244 columns]",
            "text/html": "<div>\n<style scoped>\n    .dataframe tbody tr th:only-of-type {\n        vertical-align: middle;\n    }\n\n    .dataframe tbody tr th {\n        vertical-align: top;\n    }\n\n    .dataframe thead th {\n        text-align: right;\n    }\n</style>\n<table border=\"1\" class=\"dataframe\">\n  <thead>\n    <tr style=\"text-align: right;\">\n      <th></th>\n      <th>lat</th>\n      <th>lon</th>\n      <th>contest-pevpr-sfc-gauss-14d__pevpr</th>\n      <th>nmme0-tmp2m-34w__cancm30</th>\n      <th>nmme0-tmp2m-34w__cancm40</th>\n      <th>nmme0-tmp2m-34w__ccsm30</th>\n      <th>nmme0-tmp2m-34w__ccsm40</th>\n      <th>nmme0-tmp2m-34w__cfsv20</th>\n      <th>nmme0-tmp2m-34w__gfdlflora0</th>\n      <th>nmme0-tmp2m-34w__gfdlflorb0</th>\n      <th>...</th>\n      <th>wind-vwnd-925-2010-12</th>\n      <th>wind-vwnd-925-2010-13</th>\n      <th>wind-vwnd-925-2010-14</th>\n      <th>wind-vwnd-925-2010-15</th>\n      <th>wind-vwnd-925-2010-16</th>\n      <th>wind-vwnd-925-2010-17</th>\n      <th>wind-vwnd-925-2010-18</th>\n      <th>wind-vwnd-925-2010-19</th>\n      <th>wind-vwnd-925-2010-20</th>\n      <th>location_group</th>\n    </tr>\n  </thead>\n  <tbody>\n    <tr>\n      <th>count</th>\n      <td>352604.000000</td>\n      <td>352604.000000</td>\n      <td>352604.000000</td>\n      <td>352604.000000</td>\n      <td>352604.00000</td>\n      <td>352604.000000</td>\n      <td>352604.000000</td>\n      <td>352604.000000</td>\n      <td>352604.000000</td>\n      <td>352604.000000</td>\n      <td>...</td>\n      <td>352604.000000</td>\n      <td>352604.000000</td>\n      <td>352604.000000</td>\n      <td>352604.000000</td>\n      <td>352604.000000</td>\n      <td>352604.000000</td>\n      <td>352604.000000</td>\n      <td>352604.000000</td>\n      <td>352604.000000</td>\n      <td>352604.000000</td>\n    </tr>\n    <tr>\n      <th>mean</th>\n      <td>0.592766</td>\n      <td>0.517964</td>\n      <td>268.756935</td>\n      <td>10.008439</td>\n      <td>11.94841</td>\n      <td>9.914150</td>\n      <td>10.913216</td>\n      <td>10.131531</td>\n      <td>11.051802</td>\n      <td>10.984060</td>\n      <td>...</td>\n      <td>-7.337988</td>\n      <td>4.057347</td>\n      <td>19.243644</td>\n      <td>-18.129475</td>\n      <td>-11.662332</td>\n      <td>-6.269694</td>\n      <td>14.722638</td>\n      <td>12.285321</td>\n      <td>12.662362</td>\n      <td>300.330739</td>\n    </tr>\n    <tr>\n      <th>std</th>\n      <td>0.251744</td>\n      <td>0.272059</td>\n      <td>200.025342</td>\n      <td>10.741907</td>\n      <td>10.88407</td>\n      <td>10.336138</td>\n      <td>10.429579</td>\n      <td>9.321961</td>\n      <td>10.529236</td>\n      <td>10.539843</td>\n      <td>...</td>\n      <td>35.982786</td>\n      <td>36.453583</td>\n      <td>25.719270</td>\n      <td>32.513595</td>\n      <td>33.707956</td>\n      <td>27.444561</td>\n      <td>24.547827</td>\n      <td>24.244970</td>\n      <td>24.503133</td>\n      <td>164.887235</td>\n    </tr>\n    <tr>\n      <th>min</th>\n      <td>0.000000</td>\n      <td>0.000000</td>\n      <td>-2.310000</td>\n      <td>-14.960000</td>\n      <td>-14.97000</td>\n      <td>-11.720000</td>\n      <td>-17.560000</td>\n      <td>-13.720000</td>\n      <td>-13.330000</td>\n      <td>-13.520000</td>\n      <td>...</td>\n      <td>-89.940000</td>\n      <td>-64.870000</td>\n      <td>-39.280000</td>\n      <td>-100.560000</td>\n      <td>-106.080000</td>\n      <td>-93.980000</td>\n      <td>-52.610000</td>\n      <td>-66.110000</td>\n      <td>-54.580000</td>\n      <td>0.000000</td>\n    </tr>\n    <tr>\n      <th>25%</th>\n      <td>0.409091</td>\n      <td>0.300000</td>\n      <td>95.620000</td>\n      <td>1.000000</td>\n      <td>3.06000</td>\n      <td>1.480000</td>\n      <td>2.560000</td>\n      <td>2.890000</td>\n      <td>2.480000</td>\n      <td>2.410000</td>\n      <td>...</td>\n      <td>-31.800000</td>\n      <td>-20.220000</td>\n      <td>1.650000</td>\n      <td>-40.690000</td>\n      <td>-33.410000</td>\n      <td>-20.770000</td>\n      <td>-0.980000</td>\n      <td>-2.360000</td>\n      <td>-4.580000</td>\n      <td>175.000000</td>\n    </tr>\n    <tr>\n      <th>50%</th>\n      <td>0.590909</td>\n      <td>0.533333</td>\n      <td>234.570000</td>\n      <td>8.860000</td>\n      <td>10.93000</td>\n      <td>9.150000</td>\n      <td>10.670000</td>\n      <td>9.990000</td>\n      <td>10.320000</td>\n      <td>10.310000</td>\n      <td>...</td>\n      <td>-8.850000</td>\n      <td>0.135000</td>\n      <td>19.785000</td>\n      <td>-17.830000</td>\n      <td>-9.660000</td>\n      <td>-6.260000</td>\n      <td>18.490000</td>\n      <td>13.045000</td>\n      <td>12.675000</td>\n      <td>308.500000</td>\n    </tr>\n    <tr>\n      <th>75%</th>\n      <td>0.818182</td>\n      <td>0.766667</td>\n      <td>412.950000</td>\n      <td>19.010000</td>\n      <td>20.91000</td>\n      <td>18.580000</td>\n      <td>19.410000</td>\n      <td>17.570000</td>\n      <td>19.150000</td>\n      <td>19.040000</td>\n      <td>...</td>\n      <td>18.230000</td>\n      <td>24.470000</td>\n      <td>36.090000</td>\n      <td>4.390000</td>\n      <td>9.280000</td>\n      <td>11.800000</td>\n      <td>30.370000</td>\n      <td>31.040000</td>\n      <td>30.240000</td>\n      <td>441.000000</td>\n    </tr>\n    <tr>\n      <th>max</th>\n      <td>1.000000</td>\n      <td>1.000000</td>\n      <td>1185.140000</td>\n      <td>36.080000</td>\n      <td>36.03000</td>\n      <td>33.390000</td>\n      <td>34.310000</td>\n      <td>35.750000</td>\n      <td>38.350000</td>\n      <td>38.450000</td>\n      <td>...</td>\n      <td>96.550000</td>\n      <td>105.160000</td>\n      <td>91.760000</td>\n      <td>56.550000</td>\n      <td>83.890000</td>\n      <td>64.850000</td>\n      <td>77.960000</td>\n      <td>76.890000</td>\n      <td>88.660000</td>\n      <td>574.000000</td>\n    </tr>\n  </tbody>\n</table>\n<p>8 rows × 244 columns</p>\n</div>"
          },
          "metadata": {}
        }
      ]
    },
    {
      "cell_type": "code",
      "source": [
        "testing.describe()"
      ],
      "metadata": {
        "execution": {
          "iopub.status.busy": "2023-02-13T18:13:17.515517Z",
          "iopub.execute_input": "2023-02-13T18:13:17.515857Z",
          "iopub.status.idle": "2023-02-13T18:13:18.374958Z",
          "shell.execute_reply.started": "2023-02-13T18:13:17.515824Z",
          "shell.execute_reply": "2023-02-13T18:13:18.373822Z"
        },
        "trusted": true,
        "id": "cH7JnecXVci0",
        "outputId": "2c717b40-0435-45d9-99a4-e99469b08b35"
      },
      "execution_count": null,
      "outputs": [
        {
          "execution_count": 21,
          "output_type": "execute_result",
          "data": {
            "text/plain": "                lat           lon  contest-pevpr-sfc-gauss-14d__pevpr  \\\ncount  31354.000000  31354.000000                        31354.000000   \nmean       0.592766      0.517964                          299.244395   \nstd        0.251748      0.272063                          117.029504   \nmin        0.000000      0.000000                           32.820000   \n25%        0.409091      0.300000                          215.962500   \n50%        0.590909      0.533333                          292.915000   \n75%        0.818182      0.766667                          371.330000   \nmax        1.000000      1.000000                          740.170000   \n\n       nmme0-tmp2m-34w__cancm30  nmme0-tmp2m-34w__cancm40  \\\ncount              31354.000000              31354.000000   \nmean                  19.363234                 21.195801   \nstd                    7.310349                  7.151861   \nmin                    1.550000                  2.900000   \n25%                   14.060000                 16.140000   \n50%                   19.940000                 21.720000   \n75%                   24.610000                 26.810000   \nmax                   36.080000                 36.030000   \n\n       nmme0-tmp2m-34w__ccsm30  nmme0-tmp2m-34w__ccsm40  \\\ncount             31354.000000             31354.000000   \nmean                 19.204389                20.140415   \nstd                   7.146665                 6.169318   \nmin                   1.170000                 3.530000   \n25%                  14.440000                15.840000   \n50%                  19.325000                20.150000   \n75%                  24.760000                24.890000   \nmax                  32.970000                33.910000   \n\n       nmme0-tmp2m-34w__cfsv20  nmme0-tmp2m-34w__gfdlflora0  \\\ncount             31354.000000                 31354.000000   \nmean                 18.261659                    20.396613   \nstd                   5.539982                     7.087798   \nmin                   1.840000                     0.080000   \n25%                  14.660000                    15.540000   \n50%                  18.210000                    20.340000   \n75%                  22.180000                    25.730000   \nmax                  35.310000                    37.420000   \n\n       nmme0-tmp2m-34w__gfdlflorb0  ...  wind-vwnd-925-2010-12  \\\ncount                 31354.000000  ...           31354.000000   \nmean                     20.293250  ...             -34.379016   \nstd                       6.919063  ...              24.479350   \nmin                       0.510000  ...             -76.450000   \n25%                      15.490000  ...             -56.070000   \n50%                      20.230000  ...             -31.070000   \n75%                      25.320000  ...             -15.510000   \nmax                      37.340000  ...              25.330000   \n\n       wind-vwnd-925-2010-13  wind-vwnd-925-2010-14  wind-vwnd-925-2010-15  \\\ncount           31354.000000           31354.000000           31354.000000   \nmean               25.485902              36.913279             -21.290328   \nstd                30.720523              17.083142              22.336810   \nmin               -29.250000               6.500000             -59.540000   \n25%                 3.630000              19.570000             -39.340000   \n50%                22.740000              37.090000             -21.420000   \n75%                44.690000              49.660000              -0.790000   \nmax                79.610000              71.270000              14.150000   \n\n       wind-vwnd-925-2010-16  wind-vwnd-925-2010-17  wind-vwnd-925-2010-18  \\\ncount           31354.000000           31354.000000           31354.000000   \nmean               10.448689             -12.676885               8.211967   \nstd                 8.557387              29.438632              29.897845   \nmin                -5.450000             -66.770000             -32.150000   \n25%                 4.720000             -30.630000             -18.360000   \n50%                10.660000             -22.640000               0.150000   \n75%                17.090000              14.420000              28.840000   \nmax                29.000000              33.350000              74.130000   \n\n       wind-vwnd-925-2010-19  wind-vwnd-925-2010-20  location_group  \ncount           31354.000000           31354.000000    31354.000000  \nmean              -11.478033              21.083770      302.317121  \nstd                18.660838              16.841297      162.559492  \nmin               -53.690000             -16.560000        0.000000  \n25%               -23.150000              13.420000      175.000000  \n50%               -13.950000              21.090000      308.500000  \n75%                -0.470000              32.410000      441.000000  \nmax                28.270000              51.450000      574.000000  \n\n[8 rows x 244 columns]",
            "text/html": "<div>\n<style scoped>\n    .dataframe tbody tr th:only-of-type {\n        vertical-align: middle;\n    }\n\n    .dataframe tbody tr th {\n        vertical-align: top;\n    }\n\n    .dataframe thead th {\n        text-align: right;\n    }\n</style>\n<table border=\"1\" class=\"dataframe\">\n  <thead>\n    <tr style=\"text-align: right;\">\n      <th></th>\n      <th>lat</th>\n      <th>lon</th>\n      <th>contest-pevpr-sfc-gauss-14d__pevpr</th>\n      <th>nmme0-tmp2m-34w__cancm30</th>\n      <th>nmme0-tmp2m-34w__cancm40</th>\n      <th>nmme0-tmp2m-34w__ccsm30</th>\n      <th>nmme0-tmp2m-34w__ccsm40</th>\n      <th>nmme0-tmp2m-34w__cfsv20</th>\n      <th>nmme0-tmp2m-34w__gfdlflora0</th>\n      <th>nmme0-tmp2m-34w__gfdlflorb0</th>\n      <th>...</th>\n      <th>wind-vwnd-925-2010-12</th>\n      <th>wind-vwnd-925-2010-13</th>\n      <th>wind-vwnd-925-2010-14</th>\n      <th>wind-vwnd-925-2010-15</th>\n      <th>wind-vwnd-925-2010-16</th>\n      <th>wind-vwnd-925-2010-17</th>\n      <th>wind-vwnd-925-2010-18</th>\n      <th>wind-vwnd-925-2010-19</th>\n      <th>wind-vwnd-925-2010-20</th>\n      <th>location_group</th>\n    </tr>\n  </thead>\n  <tbody>\n    <tr>\n      <th>count</th>\n      <td>31354.000000</td>\n      <td>31354.000000</td>\n      <td>31354.000000</td>\n      <td>31354.000000</td>\n      <td>31354.000000</td>\n      <td>31354.000000</td>\n      <td>31354.000000</td>\n      <td>31354.000000</td>\n      <td>31354.000000</td>\n      <td>31354.000000</td>\n      <td>...</td>\n      <td>31354.000000</td>\n      <td>31354.000000</td>\n      <td>31354.000000</td>\n      <td>31354.000000</td>\n      <td>31354.000000</td>\n      <td>31354.000000</td>\n      <td>31354.000000</td>\n      <td>31354.000000</td>\n      <td>31354.000000</td>\n      <td>31354.000000</td>\n    </tr>\n    <tr>\n      <th>mean</th>\n      <td>0.592766</td>\n      <td>0.517964</td>\n      <td>299.244395</td>\n      <td>19.363234</td>\n      <td>21.195801</td>\n      <td>19.204389</td>\n      <td>20.140415</td>\n      <td>18.261659</td>\n      <td>20.396613</td>\n      <td>20.293250</td>\n      <td>...</td>\n      <td>-34.379016</td>\n      <td>25.485902</td>\n      <td>36.913279</td>\n      <td>-21.290328</td>\n      <td>10.448689</td>\n      <td>-12.676885</td>\n      <td>8.211967</td>\n      <td>-11.478033</td>\n      <td>21.083770</td>\n      <td>302.317121</td>\n    </tr>\n    <tr>\n      <th>std</th>\n      <td>0.251748</td>\n      <td>0.272063</td>\n      <td>117.029504</td>\n      <td>7.310349</td>\n      <td>7.151861</td>\n      <td>7.146665</td>\n      <td>6.169318</td>\n      <td>5.539982</td>\n      <td>7.087798</td>\n      <td>6.919063</td>\n      <td>...</td>\n      <td>24.479350</td>\n      <td>30.720523</td>\n      <td>17.083142</td>\n      <td>22.336810</td>\n      <td>8.557387</td>\n      <td>29.438632</td>\n      <td>29.897845</td>\n      <td>18.660838</td>\n      <td>16.841297</td>\n      <td>162.559492</td>\n    </tr>\n    <tr>\n      <th>min</th>\n      <td>0.000000</td>\n      <td>0.000000</td>\n      <td>32.820000</td>\n      <td>1.550000</td>\n      <td>2.900000</td>\n      <td>1.170000</td>\n      <td>3.530000</td>\n      <td>1.840000</td>\n      <td>0.080000</td>\n      <td>0.510000</td>\n      <td>...</td>\n      <td>-76.450000</td>\n      <td>-29.250000</td>\n      <td>6.500000</td>\n      <td>-59.540000</td>\n      <td>-5.450000</td>\n      <td>-66.770000</td>\n      <td>-32.150000</td>\n      <td>-53.690000</td>\n      <td>-16.560000</td>\n      <td>0.000000</td>\n    </tr>\n    <tr>\n      <th>25%</th>\n      <td>0.409091</td>\n      <td>0.300000</td>\n      <td>215.962500</td>\n      <td>14.060000</td>\n      <td>16.140000</td>\n      <td>14.440000</td>\n      <td>15.840000</td>\n      <td>14.660000</td>\n      <td>15.540000</td>\n      <td>15.490000</td>\n      <td>...</td>\n      <td>-56.070000</td>\n      <td>3.630000</td>\n      <td>19.570000</td>\n      <td>-39.340000</td>\n      <td>4.720000</td>\n      <td>-30.630000</td>\n      <td>-18.360000</td>\n      <td>-23.150000</td>\n      <td>13.420000</td>\n      <td>175.000000</td>\n    </tr>\n    <tr>\n      <th>50%</th>\n      <td>0.590909</td>\n      <td>0.533333</td>\n      <td>292.915000</td>\n      <td>19.940000</td>\n      <td>21.720000</td>\n      <td>19.325000</td>\n      <td>20.150000</td>\n      <td>18.210000</td>\n      <td>20.340000</td>\n      <td>20.230000</td>\n      <td>...</td>\n      <td>-31.070000</td>\n      <td>22.740000</td>\n      <td>37.090000</td>\n      <td>-21.420000</td>\n      <td>10.660000</td>\n      <td>-22.640000</td>\n      <td>0.150000</td>\n      <td>-13.950000</td>\n      <td>21.090000</td>\n      <td>308.500000</td>\n    </tr>\n    <tr>\n      <th>75%</th>\n      <td>0.818182</td>\n      <td>0.766667</td>\n      <td>371.330000</td>\n      <td>24.610000</td>\n      <td>26.810000</td>\n      <td>24.760000</td>\n      <td>24.890000</td>\n      <td>22.180000</td>\n      <td>25.730000</td>\n      <td>25.320000</td>\n      <td>...</td>\n      <td>-15.510000</td>\n      <td>44.690000</td>\n      <td>49.660000</td>\n      <td>-0.790000</td>\n      <td>17.090000</td>\n      <td>14.420000</td>\n      <td>28.840000</td>\n      <td>-0.470000</td>\n      <td>32.410000</td>\n      <td>441.000000</td>\n    </tr>\n    <tr>\n      <th>max</th>\n      <td>1.000000</td>\n      <td>1.000000</td>\n      <td>740.170000</td>\n      <td>36.080000</td>\n      <td>36.030000</td>\n      <td>32.970000</td>\n      <td>33.910000</td>\n      <td>35.310000</td>\n      <td>37.420000</td>\n      <td>37.340000</td>\n      <td>...</td>\n      <td>25.330000</td>\n      <td>79.610000</td>\n      <td>71.270000</td>\n      <td>14.150000</td>\n      <td>29.000000</td>\n      <td>33.350000</td>\n      <td>74.130000</td>\n      <td>28.270000</td>\n      <td>51.450000</td>\n      <td>574.000000</td>\n    </tr>\n  </tbody>\n</table>\n<p>8 rows × 244 columns</p>\n</div>"
          },
          "metadata": {}
        }
      ]
    },
    {
      "cell_type": "code",
      "source": [
        "# Installing package\n",
        "!pip install -q sweetviz"
      ],
      "metadata": {
        "execution": {
          "iopub.status.busy": "2023-02-13T18:13:18.376585Z",
          "iopub.execute_input": "2023-02-13T18:13:18.377454Z",
          "iopub.status.idle": "2023-02-13T18:13:34.384175Z",
          "shell.execute_reply.started": "2023-02-13T18:13:18.377406Z",
          "shell.execute_reply": "2023-02-13T18:13:34.382942Z"
        },
        "trusted": true,
        "id": "oGSmDpDoVci1",
        "outputId": "762654cd-5006-451a-ae2b-6f3c00428cdb"
      },
      "execution_count": null,
      "outputs": [
        {
          "name": "stdout",
          "text": "\u001b[33mWARNING: Running pip as the 'root' user can result in broken permissions and conflicting behaviour with the system package manager. It is recommended to use a virtual environment instead: https://pip.pypa.io/warnings/venv\u001b[0m\u001b[33m\n\u001b[0m",
          "output_type": "stream"
        }
      ]
    },
    {
      "cell_type": "code",
      "source": [
        "# Start Sweetviz\n",
        "import datetime as dt\n",
        "\n",
        "start_time = dt.datetime.now()\n",
        "print(\"Started at \", start_time)"
      ],
      "metadata": {
        "execution": {
          "iopub.status.busy": "2023-02-13T18:13:34.385518Z",
          "iopub.execute_input": "2023-02-13T18:13:34.385904Z",
          "iopub.status.idle": "2023-02-13T18:13:34.393994Z",
          "shell.execute_reply.started": "2023-02-13T18:13:34.385867Z",
          "shell.execute_reply": "2023-02-13T18:13:34.392658Z"
        },
        "trusted": true,
        "id": "a3tdvqVuVci1",
        "outputId": "f81e5a7f-d391-487e-8869-a90098f1a734"
      },
      "execution_count": null,
      "outputs": [
        {
          "name": "stdout",
          "text": "Started at  2023-02-13 18:13:34.387774\n",
          "output_type": "stream"
        }
      ]
    },
    {
      "cell_type": "code",
      "source": [
        "#importing sweetviz and visualizing our data\n",
        "import sweetviz as sv\n",
        "\n",
        "# EDA using Sweetviz\n",
        "sweet_report = sv.analyze(training, pairwise_analysis=\"off\")\n",
        "\n",
        "# Saving results to HTML file\n",
        "sweet_report.show_html('sweetviz_report.html')"
      ],
      "metadata": {
        "execution": {
          "iopub.status.busy": "2023-02-13T18:13:34.395459Z",
          "iopub.execute_input": "2023-02-13T18:13:34.395816Z",
          "iopub.status.idle": "2023-02-13T18:17:15.017715Z",
          "shell.execute_reply.started": "2023-02-13T18:13:34.395777Z",
          "shell.execute_reply": "2023-02-13T18:17:15.016867Z"
        },
        "trusted": true,
        "colab": {
          "referenced_widgets": [
            "4fb02fbd635641d286118b24a17260c5"
          ]
        },
        "id": "ayPk0_IAVci2",
        "outputId": "ccf6a08c-c8c8-45a0-e412-e0f1f43c1a91"
      },
      "execution_count": null,
      "outputs": [
        {
          "output_type": "display_data",
          "data": {
            "text/plain": "                                             |          | [  0%]   00:00 -> (? left)",
            "application/vnd.jupyter.widget-view+json": {
              "version_major": 2,
              "version_minor": 0,
              "model_id": "4fb02fbd635641d286118b24a17260c5"
            }
          },
          "metadata": {}
        },
        {
          "name": "stdout",
          "text": "Report sweetviz_report.html was generated! NOTEBOOK/COLAB USERS: the web browser MAY not pop up, regardless, the report IS saved in your notebook/colab files.\n",
          "output_type": "stream"
        }
      ]
    },
    {
      "cell_type": "code",
      "source": [
        "print('Sweetviz finished...')\n",
        "finish_time = dt.datetime.now()\n",
        "print(\"Finished at \", finish_time)\n",
        "elapsed = finish_time - start_time\n",
        "print(\"Elapsed time: \", elapsed)"
      ],
      "metadata": {
        "execution": {
          "iopub.status.busy": "2023-02-13T18:17:15.019006Z",
          "iopub.execute_input": "2023-02-13T18:17:15.019761Z",
          "iopub.status.idle": "2023-02-13T18:17:15.026403Z",
          "shell.execute_reply.started": "2023-02-13T18:17:15.019712Z",
          "shell.execute_reply": "2023-02-13T18:17:15.025268Z"
        },
        "trusted": true,
        "id": "G6sU9mSGVci3",
        "outputId": "81558638-13b8-4ada-b021-6257faefdfb0"
      },
      "execution_count": null,
      "outputs": [
        {
          "name": "stdout",
          "text": "Sweetviz finished...\nFinished at  2023-02-13 18:17:15.022075\nElapsed time:  0:03:40.634301\n",
          "output_type": "stream"
        }
      ]
    },
    {
      "cell_type": "markdown",
      "source": [
        "## Pandas Profiling\n",
        "\n",
        "Pandas profiling is a Python library that provides a fast and easy-to-use interface for generating summary reports of data frames. Its goal is to provide a one-line Exploratory Data Analysis (EDA) experience in a consistent and efficient solution. It can generate a variety of statistics and visualizations for a given dataset, including summary statistics, histograms, missing value statistics, and correlation plots. "
      ],
      "metadata": {
        "id": "Fi595-fIVci3"
      }
    },
    {
      "cell_type": "code",
      "source": [
        "# Installing package\n",
        "!pip install pandas-profiling"
      ],
      "metadata": {
        "execution": {
          "iopub.status.busy": "2023-02-13T18:17:15.027886Z",
          "iopub.execute_input": "2023-02-13T18:17:15.028566Z",
          "iopub.status.idle": "2023-02-13T18:17:27.586288Z",
          "shell.execute_reply.started": "2023-02-13T18:17:15.028534Z",
          "shell.execute_reply": "2023-02-13T18:17:27.584810Z"
        },
        "trusted": true,
        "id": "tVsFneitVci4",
        "outputId": "b6313b58-b50e-4add-f0ef-4175a16a9e24"
      },
      "execution_count": null,
      "outputs": [
        {
          "name": "stdout",
          "text": "Requirement already satisfied: pandas-profiling in /opt/conda/lib/python3.7/site-packages (3.1.0)\nRequirement already satisfied: phik>=0.11.1 in /opt/conda/lib/python3.7/site-packages (from pandas-profiling) (0.12.2)\nRequirement already satisfied: tqdm>=4.48.2 in /opt/conda/lib/python3.7/site-packages (from pandas-profiling) (4.64.0)\nRequirement already satisfied: tangled-up-in-unicode==0.1.0 in /opt/conda/lib/python3.7/site-packages (from pandas-profiling) (0.1.0)\nRequirement already satisfied: pandas!=1.0.0,!=1.0.1,!=1.0.2,!=1.1.0,>=0.25.3 in /opt/conda/lib/python3.7/site-packages (from pandas-profiling) (1.3.5)\nRequirement already satisfied: requests>=2.24.0 in /opt/conda/lib/python3.7/site-packages (from pandas-profiling) (2.28.1)\nRequirement already satisfied: matplotlib>=3.2.0 in /opt/conda/lib/python3.7/site-packages (from pandas-profiling) (3.5.2)\nRequirement already satisfied: numpy>=1.16.0 in /opt/conda/lib/python3.7/site-packages (from pandas-profiling) (1.21.6)\nRequirement already satisfied: htmlmin>=0.1.12 in /opt/conda/lib/python3.7/site-packages (from pandas-profiling) (0.1.12)\nRequirement already satisfied: seaborn>=0.10.1 in /opt/conda/lib/python3.7/site-packages (from pandas-profiling) (0.11.2)\nRequirement already satisfied: PyYAML>=5.0.0 in /opt/conda/lib/python3.7/site-packages (from pandas-profiling) (6.0)\nRequirement already satisfied: pydantic>=1.8.1 in /opt/conda/lib/python3.7/site-packages (from pandas-profiling) (1.8.2)\nRequirement already satisfied: joblib~=1.0.1 in /opt/conda/lib/python3.7/site-packages (from pandas-profiling) (1.0.1)\nRequirement already satisfied: visions[type_image_path]==0.7.4 in /opt/conda/lib/python3.7/site-packages (from pandas-profiling) (0.7.4)\nRequirement already satisfied: missingno>=0.4.2 in /opt/conda/lib/python3.7/site-packages (from pandas-profiling) (0.4.2)\nRequirement already satisfied: multimethod>=1.4 in /opt/conda/lib/python3.7/site-packages (from pandas-profiling) (1.4)\nCollecting markupsafe~=2.0.1\n  Downloading MarkupSafe-2.0.1-cp37-cp37m-manylinux_2_5_x86_64.manylinux1_x86_64.manylinux_2_12_x86_64.manylinux2010_x86_64.whl (31 kB)\nRequirement already satisfied: jinja2>=2.11.1 in /opt/conda/lib/python3.7/site-packages (from pandas-profiling) (3.1.2)\nRequirement already satisfied: scipy>=1.4.1 in /opt/conda/lib/python3.7/site-packages (from pandas-profiling) (1.7.3)\nRequirement already satisfied: networkx>=2.4 in /opt/conda/lib/python3.7/site-packages (from visions[type_image_path]==0.7.4->pandas-profiling) (2.5)\nRequirement already satisfied: attrs>=19.3.0 in /opt/conda/lib/python3.7/site-packages (from visions[type_image_path]==0.7.4->pandas-profiling) (21.4.0)\nRequirement already satisfied: imagehash in /opt/conda/lib/python3.7/site-packages (from visions[type_image_path]==0.7.4->pandas-profiling) (4.2.1)\nRequirement already satisfied: Pillow in /opt/conda/lib/python3.7/site-packages (from visions[type_image_path]==0.7.4->pandas-profiling) (9.1.1)\nRequirement already satisfied: fonttools>=4.22.0 in /opt/conda/lib/python3.7/site-packages (from matplotlib>=3.2.0->pandas-profiling) (4.33.3)\nRequirement already satisfied: kiwisolver>=1.0.1 in /opt/conda/lib/python3.7/site-packages (from matplotlib>=3.2.0->pandas-profiling) (1.4.3)\nRequirement already satisfied: cycler>=0.10 in /opt/conda/lib/python3.7/site-packages (from matplotlib>=3.2.0->pandas-profiling) (0.11.0)\nRequirement already satisfied: packaging>=20.0 in /opt/conda/lib/python3.7/site-packages (from matplotlib>=3.2.0->pandas-profiling) (23.0)\nRequirement already satisfied: pyparsing>=2.2.1 in /opt/conda/lib/python3.7/site-packages (from matplotlib>=3.2.0->pandas-profiling) (3.0.9)\nRequirement already satisfied: python-dateutil>=2.7 in /opt/conda/lib/python3.7/site-packages (from matplotlib>=3.2.0->pandas-profiling) (2.8.2)\nRequirement already satisfied: pytz>=2017.3 in /opt/conda/lib/python3.7/site-packages (from pandas!=1.0.0,!=1.0.1,!=1.0.2,!=1.1.0,>=0.25.3->pandas-profiling) (2022.1)\nRequirement already satisfied: typing-extensions>=3.7.4.3 in /opt/conda/lib/python3.7/site-packages (from pydantic>=1.8.1->pandas-profiling) (4.1.1)\nRequirement already satisfied: idna<4,>=2.5 in /opt/conda/lib/python3.7/site-packages (from requests>=2.24.0->pandas-profiling) (3.3)\nRequirement already satisfied: charset-normalizer<3,>=2 in /opt/conda/lib/python3.7/site-packages (from requests>=2.24.0->pandas-profiling) (2.1.0)\nRequirement already satisfied: certifi>=2017.4.17 in /opt/conda/lib/python3.7/site-packages (from requests>=2.24.0->pandas-profiling) (2022.12.7)\nRequirement already satisfied: urllib3<1.27,>=1.21.1 in /opt/conda/lib/python3.7/site-packages (from requests>=2.24.0->pandas-profiling) (1.26.14)\nRequirement already satisfied: decorator>=4.3.0 in /opt/conda/lib/python3.7/site-packages (from networkx>=2.4->visions[type_image_path]==0.7.4->pandas-profiling) (5.1.1)\nRequirement already satisfied: six>=1.5 in /opt/conda/lib/python3.7/site-packages (from python-dateutil>=2.7->matplotlib>=3.2.0->pandas-profiling) (1.15.0)\nRequirement already satisfied: PyWavelets in /opt/conda/lib/python3.7/site-packages (from imagehash->visions[type_image_path]==0.7.4->pandas-profiling) (1.3.0)\nInstalling collected packages: markupsafe\n  Attempting uninstall: markupsafe\n    Found existing installation: MarkupSafe 2.1.2\n    Uninstalling MarkupSafe-2.1.2:\n      Successfully uninstalled MarkupSafe-2.1.2\n\u001b[31mERROR: pip's dependency resolver does not currently take into account all the packages that are installed. This behaviour is the source of the following dependency conflicts.\nbeatrix-jupyterlab 3.1.7 requires google-cloud-bigquery-storage, which is not installed.\nwerkzeug 2.2.2 requires MarkupSafe>=2.1.1, but you have markupsafe 2.0.1 which is incompatible.\u001b[0m\u001b[31m\n\u001b[0mSuccessfully installed markupsafe-2.0.1\n\u001b[33mWARNING: Running pip as the 'root' user can result in broken permissions and conflicting behaviour with the system package manager. It is recommended to use a virtual environment instead: https://pip.pypa.io/warnings/venv\u001b[0m\u001b[33m\n\u001b[0m",
          "output_type": "stream"
        }
      ]
    },
    {
      "cell_type": "code",
      "source": [
        "# Start pandas-profiling\n",
        "start_time = dt.datetime.now()\n",
        "print(\"Started at \", start_time)"
      ],
      "metadata": {
        "execution": {
          "iopub.status.busy": "2023-02-13T18:17:27.590912Z",
          "iopub.execute_input": "2023-02-13T18:17:27.591352Z",
          "iopub.status.idle": "2023-02-13T18:17:27.599603Z",
          "shell.execute_reply.started": "2023-02-13T18:17:27.591311Z",
          "shell.execute_reply": "2023-02-13T18:17:27.598097Z"
        },
        "trusted": true,
        "id": "Ss8qoKHGVci4",
        "outputId": "b9439622-b795-4302-878d-1784f16968bb"
      },
      "execution_count": null,
      "outputs": [
        {
          "name": "stdout",
          "text": "Started at  2023-02-13 18:17:27.593331\n",
          "output_type": "stream"
        }
      ]
    },
    {
      "cell_type": "code",
      "source": [
        "# Importing library\n",
        "from pandas_profiling import ProfileReport\n",
        "\n",
        "# Defining the library\n",
        "profile = ProfileReport(training, minimal=True)\n",
        "\n",
        "# Exporting your report as a html file\n",
        "profile.to_file(output_file='report.html')"
      ],
      "metadata": {
        "execution": {
          "iopub.status.busy": "2023-02-13T18:17:27.600990Z",
          "iopub.execute_input": "2023-02-13T18:17:27.601342Z",
          "iopub.status.idle": "2023-02-13T18:20:22.268181Z",
          "shell.execute_reply.started": "2023-02-13T18:17:27.601311Z",
          "shell.execute_reply": "2023-02-13T18:20:22.266838Z"
        },
        "trusted": true,
        "colab": {
          "referenced_widgets": [
            "98d0e6db758948ff8a22e48e9d56df81",
            "1207e211105244d48c5655d0c6cc95b0",
            "858d47c1a951473f873efbdffd5b3533",
            "29188a25f5654ddca5b370b5d19566a1"
          ]
        },
        "id": "zwHJ1FKxVci5",
        "outputId": "6616395c-6112-4e20-b616-0dbdf17164a2"
      },
      "execution_count": null,
      "outputs": [
        {
          "output_type": "display_data",
          "data": {
            "text/plain": "Summarize dataset:   0%|          | 0/5 [00:00<?, ?it/s]",
            "application/vnd.jupyter.widget-view+json": {
              "version_major": 2,
              "version_minor": 0,
              "model_id": "98d0e6db758948ff8a22e48e9d56df81"
            }
          },
          "metadata": {}
        },
        {
          "output_type": "display_data",
          "data": {
            "text/plain": "Generate report structure:   0%|          | 0/1 [00:00<?, ?it/s]",
            "application/vnd.jupyter.widget-view+json": {
              "version_major": 2,
              "version_minor": 0,
              "model_id": "1207e211105244d48c5655d0c6cc95b0"
            }
          },
          "metadata": {}
        },
        {
          "output_type": "display_data",
          "data": {
            "text/plain": "Render HTML:   0%|          | 0/1 [00:00<?, ?it/s]",
            "application/vnd.jupyter.widget-view+json": {
              "version_major": 2,
              "version_minor": 0,
              "model_id": "858d47c1a951473f873efbdffd5b3533"
            }
          },
          "metadata": {}
        },
        {
          "output_type": "display_data",
          "data": {
            "text/plain": "Export report to file:   0%|          | 0/1 [00:00<?, ?it/s]",
            "application/vnd.jupyter.widget-view+json": {
              "version_major": 2,
              "version_minor": 0,
              "model_id": "29188a25f5654ddca5b370b5d19566a1"
            }
          },
          "metadata": {}
        }
      ]
    },
    {
      "cell_type": "code",
      "source": [
        "print('pandas-profiling finished...')\n",
        "finish_time = dt.datetime.now()\n",
        "print(\"Finished at \", finish_time)\n",
        "elapsed = finish_time - start_time\n",
        "print(\"Elapsed time: \", elapsed)"
      ],
      "metadata": {
        "execution": {
          "iopub.status.busy": "2023-02-13T18:20:22.270354Z",
          "iopub.execute_input": "2023-02-13T18:20:22.271184Z",
          "iopub.status.idle": "2023-02-13T18:20:22.278396Z",
          "shell.execute_reply.started": "2023-02-13T18:20:22.271138Z",
          "shell.execute_reply": "2023-02-13T18:20:22.277323Z"
        },
        "trusted": true,
        "id": "KxBGU7_ZVci5",
        "outputId": "8b03907d-4ed5-4845-a529-e85ae82b3cf9"
      },
      "execution_count": null,
      "outputs": [
        {
          "name": "stdout",
          "text": "pandas-profiling finished...\nFinished at  2023-02-13 18:20:22.273866\nElapsed time:  0:02:54.680535\n",
          "output_type": "stream"
        }
      ]
    },
    {
      "cell_type": "markdown",
      "source": [
        "An alternative way to handle really large datasets is to use a portion of it to generate the profiling report. Several users report this is a good way to scale back the computation time while maintaining representativity. coz the larger the dataset the more time it takes profiling"
      ],
      "metadata": {
        "id": "jXyJSUj0Vci6"
      }
    },
    {
      "cell_type": "code",
      "source": [
        "description = \"Disclaimer: this profiling report was generated using a sample of 5% of the original dataset.\"\n",
        "sample = training.sample(frac=0.05)\n",
        "\n",
        "profile = sample.profile_report(dataset={\"description\": description}, minimal=True)\n",
        "profile.to_file(\"output.pdf\")"
      ],
      "metadata": {
        "execution": {
          "iopub.status.busy": "2023-02-13T18:20:22.287488Z",
          "iopub.execute_input": "2023-02-13T18:20:22.287864Z",
          "iopub.status.idle": "2023-02-13T18:23:16.896256Z",
          "shell.execute_reply.started": "2023-02-13T18:20:22.287832Z",
          "shell.execute_reply": "2023-02-13T18:23:16.894905Z"
        },
        "trusted": true,
        "colab": {
          "referenced_widgets": [
            "4a9fdc0b3a8b4848ae1f94db5d0037e2",
            "131919b7a0344853a629af0b845f634e",
            "70891666b54c4d5baeae97b47e127877",
            "fbae922f6b5b402e9f8a30789dd324d9"
          ]
        },
        "id": "acaS_EqVVci7",
        "outputId": "71b2183b-4558-4114-d400-dcf9abbdd356"
      },
      "execution_count": null,
      "outputs": [
        {
          "output_type": "display_data",
          "data": {
            "text/plain": "Summarize dataset:   0%|          | 0/5 [00:00<?, ?it/s]",
            "application/vnd.jupyter.widget-view+json": {
              "version_major": 2,
              "version_minor": 0,
              "model_id": "4a9fdc0b3a8b4848ae1f94db5d0037e2"
            }
          },
          "metadata": {}
        },
        {
          "output_type": "display_data",
          "data": {
            "text/plain": "Generate report structure:   0%|          | 0/1 [00:00<?, ?it/s]",
            "application/vnd.jupyter.widget-view+json": {
              "version_major": 2,
              "version_minor": 0,
              "model_id": "131919b7a0344853a629af0b845f634e"
            }
          },
          "metadata": {}
        },
        {
          "output_type": "display_data",
          "data": {
            "text/plain": "Render HTML:   0%|          | 0/1 [00:00<?, ?it/s]",
            "application/vnd.jupyter.widget-view+json": {
              "version_major": 2,
              "version_minor": 0,
              "model_id": "70891666b54c4d5baeae97b47e127877"
            }
          },
          "metadata": {}
        },
        {
          "name": "stderr",
          "text": "/opt/conda/lib/python3.7/site-packages/pandas_profiling/profile_report.py:263: UserWarning: Extension .pdf not supported. For now we assume .html was intended. To remove this warning, please use .html or .json.\n  f\"Extension {suffix} not supported. For now we assume .html was intended. \"\n",
          "output_type": "stream"
        },
        {
          "output_type": "display_data",
          "data": {
            "text/plain": "Export report to file:   0%|          | 0/1 [00:00<?, ?it/s]",
            "application/vnd.jupyter.widget-view+json": {
              "version_major": 2,
              "version_minor": 0,
              "model_id": "fbae922f6b5b402e9f8a30789dd324d9"
            }
          },
          "metadata": {}
        }
      ]
    },
    {
      "cell_type": "code",
      "source": [
        "# Using pandas.DatetimeIndex() to extract month and year\n",
        "training['year'] = pd.DatetimeIndex(training['startdate']).year\n",
        "training['month'] = pd.DatetimeIndex(training['startdate']).month\n",
        "training['day'] = pd.DatetimeIndex(training['startdate']).day\n",
        "print(training.head())"
      ],
      "metadata": {
        "execution": {
          "iopub.status.busy": "2023-02-13T18:23:16.897619Z",
          "iopub.execute_input": "2023-02-13T18:23:16.897981Z",
          "iopub.status.idle": "2023-02-13T18:23:17.021953Z",
          "shell.execute_reply.started": "2023-02-13T18:23:16.897948Z",
          "shell.execute_reply": "2023-02-13T18:23:17.020826Z"
        },
        "trusted": true,
        "id": "faVCkMw3Vci9",
        "outputId": "ff81cb7a-dccc-4718-96b5-625cf39962ce"
      },
      "execution_count": null,
      "outputs": [
        {
          "name": "stdout",
          "text": "   lat       lon  startdate  contest-pevpr-sfc-gauss-14d__pevpr  \\\n0  0.0  0.833333 2014-09-01                              237.00   \n1  0.0  0.833333 2014-09-02                              228.90   \n2  0.0  0.833333 2014-09-03                              220.69   \n3  0.0  0.833333 2014-09-04                              225.28   \n4  0.0  0.833333 2014-09-05                              237.24   \n\n   nmme0-tmp2m-34w__cancm30  nmme0-tmp2m-34w__cancm40  \\\n0                     29.02                     31.64   \n1                     29.02                     31.64   \n2                     29.02                     31.64   \n3                     29.02                     31.64   \n4                     29.02                     31.64   \n\n   nmme0-tmp2m-34w__ccsm30  nmme0-tmp2m-34w__ccsm40  nmme0-tmp2m-34w__cfsv20  \\\n0                    29.57                    30.73                    29.71   \n1                    29.57                    30.73                    29.71   \n2                    29.57                    30.73                    29.71   \n3                    29.57                    30.73                    29.71   \n4                    29.57                    30.73                    29.71   \n\n   nmme0-tmp2m-34w__gfdlflora0  ...  wind-vwnd-925-2010-15  \\\n0                        31.52  ...                  -2.03   \n1                        31.52  ...                   4.44   \n2                        31.52  ...                   5.01   \n3                        31.52  ...                  -1.41   \n4                        31.52  ...                  -5.21   \n\n   wind-vwnd-925-2010-16  wind-vwnd-925-2010-17  wind-vwnd-925-2010-18  \\\n0                  48.13                  28.09                 -13.50   \n1                  48.60                  27.41                 -23.77   \n2                  48.53                  19.21                 -33.16   \n3                  50.59                   8.29                 -37.22   \n4                  54.73                  -2.58                 -42.30   \n\n   wind-vwnd-925-2010-19  wind-vwnd-925-2010-20  location_group  year  month  \\\n0                  11.90                   4.58               0  2014      9   \n1                  15.44                   3.42               0  2014      9   \n2                  15.11                   4.82               0  2014      9   \n3                  18.24                   9.74               0  2014      9   \n4                  21.91                  10.95               0  2014      9   \n\n   day  \n0    1  \n1    2  \n2    3  \n3    4  \n4    5  \n\n[5 rows x 249 columns]\n",
          "output_type": "stream"
        },
        {
          "name": "stderr",
          "text": "/opt/conda/lib/python3.7/site-packages/ipykernel_launcher.py:2: SettingWithCopyWarning: \nA value is trying to be set on a copy of a slice from a DataFrame.\nTry using .loc[row_indexer,col_indexer] = value instead\n\nSee the caveats in the documentation: https://pandas.pydata.org/pandas-docs/stable/user_guide/indexing.html#returning-a-view-versus-a-copy\n  \n/opt/conda/lib/python3.7/site-packages/ipykernel_launcher.py:3: SettingWithCopyWarning: \nA value is trying to be set on a copy of a slice from a DataFrame.\nTry using .loc[row_indexer,col_indexer] = value instead\n\nSee the caveats in the documentation: https://pandas.pydata.org/pandas-docs/stable/user_guide/indexing.html#returning-a-view-versus-a-copy\n  This is separate from the ipykernel package so we can avoid doing imports until\n/opt/conda/lib/python3.7/site-packages/ipykernel_launcher.py:4: SettingWithCopyWarning: \nA value is trying to be set on a copy of a slice from a DataFrame.\nTry using .loc[row_indexer,col_indexer] = value instead\n\nSee the caveats in the documentation: https://pandas.pydata.org/pandas-docs/stable/user_guide/indexing.html#returning-a-view-versus-a-copy\n  after removing the cwd from sys.path.\n",
          "output_type": "stream"
        }
      ]
    },
    {
      "cell_type": "code",
      "source": [
        "training[[\"startdate\",\"year\", \"month\", \"day\"]].describe()"
      ],
      "metadata": {
        "execution": {
          "iopub.status.busy": "2023-02-13T18:23:17.023092Z",
          "iopub.execute_input": "2023-02-13T18:23:17.023400Z",
          "iopub.status.idle": "2023-02-13T18:23:17.080200Z",
          "shell.execute_reply.started": "2023-02-13T18:23:17.023371Z",
          "shell.execute_reply": "2023-02-13T18:23:17.079046Z"
        },
        "trusted": true,
        "id": "gKPpuRaPVci-",
        "outputId": "b2867034-222d-4ce1-e4e2-60ac9306e1d5"
      },
      "execution_count": null,
      "outputs": [
        {
          "execution_count": 32,
          "output_type": "execute_result",
          "data": {
            "text/plain": "                year          month            day\ncount  352604.000000  352604.000000  352604.000000\nmean     2015.177843       6.361516      15.708455\nstd         0.708450       3.500181       8.730817\nmin      2014.000000       1.000000       1.000000\n25%      2015.000000       3.000000       8.000000\n50%      2015.000000       6.000000      16.000000\n75%      2016.000000      10.000000      23.000000\nmax      2016.000000      12.000000      31.000000",
            "text/html": "<div>\n<style scoped>\n    .dataframe tbody tr th:only-of-type {\n        vertical-align: middle;\n    }\n\n    .dataframe tbody tr th {\n        vertical-align: top;\n    }\n\n    .dataframe thead th {\n        text-align: right;\n    }\n</style>\n<table border=\"1\" class=\"dataframe\">\n  <thead>\n    <tr style=\"text-align: right;\">\n      <th></th>\n      <th>year</th>\n      <th>month</th>\n      <th>day</th>\n    </tr>\n  </thead>\n  <tbody>\n    <tr>\n      <th>count</th>\n      <td>352604.000000</td>\n      <td>352604.000000</td>\n      <td>352604.000000</td>\n    </tr>\n    <tr>\n      <th>mean</th>\n      <td>2015.177843</td>\n      <td>6.361516</td>\n      <td>15.708455</td>\n    </tr>\n    <tr>\n      <th>std</th>\n      <td>0.708450</td>\n      <td>3.500181</td>\n      <td>8.730817</td>\n    </tr>\n    <tr>\n      <th>min</th>\n      <td>2014.000000</td>\n      <td>1.000000</td>\n      <td>1.000000</td>\n    </tr>\n    <tr>\n      <th>25%</th>\n      <td>2015.000000</td>\n      <td>3.000000</td>\n      <td>8.000000</td>\n    </tr>\n    <tr>\n      <th>50%</th>\n      <td>2015.000000</td>\n      <td>6.000000</td>\n      <td>16.000000</td>\n    </tr>\n    <tr>\n      <th>75%</th>\n      <td>2016.000000</td>\n      <td>10.000000</td>\n      <td>23.000000</td>\n    </tr>\n    <tr>\n      <th>max</th>\n      <td>2016.000000</td>\n      <td>12.000000</td>\n      <td>31.000000</td>\n    </tr>\n  </tbody>\n</table>\n</div>"
          },
          "metadata": {}
        }
      ]
    },
    {
      "cell_type": "code",
      "source": [
        "unique_years = training[\"year\"].unique()\n",
        "print(unique_years)"
      ],
      "metadata": {
        "execution": {
          "iopub.status.busy": "2023-02-13T18:23:17.082659Z",
          "iopub.execute_input": "2023-02-13T18:23:17.083042Z",
          "iopub.status.idle": "2023-02-13T18:23:17.091930Z",
          "shell.execute_reply.started": "2023-02-13T18:23:17.083003Z",
          "shell.execute_reply": "2023-02-13T18:23:17.090653Z"
        },
        "trusted": true,
        "id": "HKuIFL8CVcjA",
        "outputId": "59e27df6-0b75-4eb8-a62a-cb54daa63a70"
      },
      "execution_count": null,
      "outputs": [
        {
          "name": "stdout",
          "text": "[2014 2015 2016]\n",
          "output_type": "stream"
        }
      ]
    },
    {
      "cell_type": "markdown",
      "source": [
        "The data ranges between the year 2014 to 2016"
      ],
      "metadata": {
        "id": "YSobR6q_VcjR"
      }
    },
    {
      "cell_type": "code",
      "source": [
        "#Analyzing our target¶\n",
        "#Initially, checking the summary statistics and distribution of the data may be useful.\n",
        "training['contest-tmp2m-14d__tmp2m'].describe()"
      ],
      "metadata": {
        "execution": {
          "iopub.status.busy": "2023-02-13T18:23:17.093098Z",
          "iopub.execute_input": "2023-02-13T18:23:17.093569Z",
          "iopub.status.idle": "2023-02-13T18:23:17.118578Z",
          "shell.execute_reply.started": "2023-02-13T18:23:17.093540Z",
          "shell.execute_reply": "2023-02-13T18:23:17.117453Z"
        },
        "trusted": true,
        "id": "P1x7f6FaVcjS",
        "outputId": "f7cc41aa-09ba-4c5c-9655-2870ec437dd9"
      },
      "execution_count": null,
      "outputs": [
        {
          "execution_count": 34,
          "output_type": "execute_result",
          "data": {
            "text/plain": "count    352604.000000\nmean         11.420598\nstd           9.945258\nmin         -20.358963\n25%           4.284578\n50%          11.529958\n75%          19.175051\nmax          37.238782\nName: contest-tmp2m-14d__tmp2m, dtype: float64"
          },
          "metadata": {}
        }
      ]
    },
    {
      "cell_type": "code",
      "source": [
        "#visualizing the temparature(target var) range\n",
        "import seaborn as sns\n",
        "sns.displot(training['contest-tmp2m-14d__tmp2m'],kde=True)\n",
        "sns.displot(training[training['contest-tmp2m-14d__tmp2m']<0]['contest-tmp2m-14d__tmp2m'],kde=True)"
      ],
      "metadata": {
        "execution": {
          "iopub.status.busy": "2023-02-13T18:23:17.120049Z",
          "iopub.execute_input": "2023-02-13T18:23:17.120668Z",
          "iopub.status.idle": "2023-02-13T18:23:20.030730Z",
          "shell.execute_reply.started": "2023-02-13T18:23:17.120628Z",
          "shell.execute_reply": "2023-02-13T18:23:20.029568Z"
        },
        "trusted": true,
        "id": "iUadP3hwVcjS",
        "outputId": "37d28861-6729-4c99-9002-7afe7f184904"
      },
      "execution_count": null,
      "outputs": [
        {
          "execution_count": 35,
          "output_type": "execute_result",
          "data": {
            "text/plain": "<seaborn.axisgrid.FacetGrid at 0x7ff7ef25b710>"
          },
          "metadata": {}
        },
        {
          "output_type": "display_data",
          "data": {
            "text/plain": "<Figure size 500x500 with 1 Axes>",
            "image/png": "[encoded data removed]"
          },
          "metadata": {}
        },
        {
          "output_type": "display_data",
          "data": {
            "text/plain": "<Figure size 500x500 with 1 Axes>",
            "image/png": "[encoded data removed]"
          },
          "metadata": {}
        }
      ]
    },
    {
      "cell_type": "markdown",
      "source": [
        "******visualizing the categorical variables**"
      ],
      "metadata": {
        "id": "8eVbWdX1VcjT"
      }
    },
    {
      "cell_type": "code",
      "source": [
        "# Plot bar plots for all categorical columns\n",
        "import matplotlib.pyplot as plt\n",
        "for column in training.select_dtypes(include=['object']).columns:\n",
        "    training[column].value_counts().plot(kind='bar', figsize=(10,5))\n",
        "    plt.title(column)\n",
        "    plt.show()"
      ],
      "metadata": {
        "execution": {
          "iopub.status.busy": "2023-02-13T18:23:20.032619Z",
          "iopub.execute_input": "2023-02-13T18:23:20.033109Z",
          "iopub.status.idle": "2023-02-13T18:23:20.353070Z",
          "shell.execute_reply.started": "2023-02-13T18:23:20.033066Z",
          "shell.execute_reply": "2023-02-13T18:23:20.352283Z"
        },
        "trusted": true,
        "id": "Bk02niE_VcjT",
        "outputId": "6f0f8ea8-fb27-4301-b98f-c685d051ebd0"
      },
      "execution_count": null,
      "outputs": [
        {
          "output_type": "display_data",
          "data": {
            "text/plain": "<Figure size 1000x500 with 1 Axes>",
            "image/png": "[encoded data removed]"
          },
          "metadata": {}
        }
      ]
    },
    {
      "cell_type": "code",
      "source": [
        "training.corr()"
      ],
      "metadata": {
        "execution": {
          "iopub.status.busy": "2023-02-13T18:23:20.354140Z",
          "iopub.execute_input": "2023-02-13T18:23:20.355011Z",
          "iopub.status.idle": "2023-02-13T18:24:17.958843Z",
          "shell.execute_reply.started": "2023-02-13T18:23:20.354979Z",
          "shell.execute_reply": "2023-02-13T18:24:17.957777Z"
        },
        "trusted": true,
        "id": "UUZV8fC8VcjU",
        "outputId": "f102c12f-e7bf-4b05-ca20-352833685291"
      },
      "execution_count": null,
      "outputs": [
        {
          "execution_count": 37,
          "output_type": "execute_result",
          "data": {
            "text/plain": "                                             lat           lon  \\\nlat                                 1.000000e+00 -3.063293e-01   \nlon                                -3.063293e-01  1.000000e+00   \ncontest-pevpr-sfc-gauss-14d__pevpr -2.809750e-01 -5.224590e-02   \nnmme0-tmp2m-34w__cancm30           -3.908474e-01  1.607248e-01   \nnmme0-tmp2m-34w__cancm40           -3.805188e-01  2.112496e-01   \n...                                          ...           ...   \nwind-vwnd-925-2010-20               2.198470e-15 -6.319585e-16   \nlocation_group                      9.966775e-01 -2.573765e-01   \nyear                               -3.519529e-11  8.451331e-12   \nmonth                               8.955563e-15 -3.736313e-15   \nday                                -5.224679e-15  1.843234e-15   \n\n                                    contest-pevpr-sfc-gauss-14d__pevpr  \\\nlat                                                          -0.280975   \nlon                                                          -0.052246   \ncontest-pevpr-sfc-gauss-14d__pevpr                            1.000000   \nnmme0-tmp2m-34w__cancm30                                      0.721021   \nnmme0-tmp2m-34w__cancm40                                      0.703225   \n...                                                                ...   \nwind-vwnd-925-2010-20                                        -0.098159   \nlocation_group                                               -0.292682   \nyear                                                          0.225269   \nmonth                                                         0.045460   \nday                                                          -0.004548   \n\n                                    nmme0-tmp2m-34w__cancm30  \\\nlat                                                -0.390847   \nlon                                                 0.160725   \ncontest-pevpr-sfc-gauss-14d__pevpr                  0.721021   \nnmme0-tmp2m-34w__cancm30                            1.000000   \nnmme0-tmp2m-34w__cancm40                            0.989566   \n...                                                      ...   \nwind-vwnd-925-2010-20                              -0.139363   \nlocation_group                                     -0.389440   \nyear                                               -0.060973   \nmonth                                               0.379911   \nday                                                 0.004932   \n\n                                    nmme0-tmp2m-34w__cancm40  \\\nlat                                                -0.380519   \nlon                                                 0.211250   \ncontest-pevpr-sfc-gauss-14d__pevpr                  0.703225   \nnmme0-tmp2m-34w__cancm30                            0.989566   \nnmme0-tmp2m-34w__cancm40                            1.000000   \n...                                                      ...   \nwind-vwnd-925-2010-20                              -0.145779   \nlocation_group                                     -0.376058   \nyear                                               -0.055685   \nmonth                                               0.371693   \nday                                                 0.005731   \n\n                                    nmme0-tmp2m-34w__ccsm30  \\\nlat                                               -0.400337   \nlon                                                0.156880   \ncontest-pevpr-sfc-gauss-14d__pevpr                 0.721027   \nnmme0-tmp2m-34w__cancm30                           0.984501   \nnmme0-tmp2m-34w__cancm40                           0.974219   \n...                                                     ...   \nwind-vwnd-925-2010-20                             -0.105100   \nlocation_group                                    -0.399454   \nyear                                              -0.043291   \nmonth                                              0.363053   \nday                                                0.003917   \n\n                                    nmme0-tmp2m-34w__ccsm40  \\\nlat                                               -0.379537   \nlon                                                0.148084   \ncontest-pevpr-sfc-gauss-14d__pevpr                 0.689894   \nnmme0-tmp2m-34w__cancm30                           0.982356   \nnmme0-tmp2m-34w__cancm40                           0.982520   \n...                                                     ...   \nwind-vwnd-925-2010-20                             -0.119298   \nlocation_group                                    -0.378516   \nyear                                              -0.088223   \nmonth                                              0.411524   \nday                                                0.005453   \n\n                                    nmme0-tmp2m-34w__cfsv20  \\\nlat                                               -0.406475   \nlon                                                0.110681   \ncontest-pevpr-sfc-gauss-14d__pevpr                 0.725211   \nnmme0-tmp2m-34w__cancm30                           0.977706   \nnmme0-tmp2m-34w__cancm40                           0.973101   \n...                                                     ...   \nwind-vwnd-925-2010-20                             -0.099504   \nlocation_group                                    -0.407919   \nyear                                              -0.046821   \nmonth                                              0.378781   \nday                                                0.004382   \n\n                                    nmme0-tmp2m-34w__gfdlflora0  \\\nlat                                                   -0.382396   \nlon                                                    0.157470   \ncontest-pevpr-sfc-gauss-14d__pevpr                     0.701412   \nnmme0-tmp2m-34w__cancm30                               0.970591   \nnmme0-tmp2m-34w__cancm40                               0.969782   \n...                                                         ...   \nwind-vwnd-925-2010-20                                 -0.137962   \nlocation_group                                        -0.381045   \nyear                                                  -0.055519   \nmonth                                                  0.365202   \nday                                                    0.004778   \n\n                                    nmme0-tmp2m-34w__gfdlflorb0  ...  \\\nlat                                                   -0.385830  ...   \nlon                                                    0.157115  ...   \ncontest-pevpr-sfc-gauss-14d__pevpr                     0.702516  ...   \nnmme0-tmp2m-34w__cancm30                               0.972078  ...   \nnmme0-tmp2m-34w__cancm40                               0.970230  ...   \n...                                                         ...  ...   \nwind-vwnd-925-2010-20                                 -0.139011  ...   \nlocation_group                                        -0.384592  ...   \nyear                                                  -0.051025  ...   \nmonth                                                  0.367249  ...   \nday                                                    0.004762  ...   \n\n                                    wind-vwnd-925-2010-15  \\\nlat                                          4.915056e-15   \nlon                                         -9.571731e-16   \ncontest-pevpr-sfc-gauss-14d__pevpr           2.980890e-01   \nnmme0-tmp2m-34w__cancm30                     1.836305e-01   \nnmme0-tmp2m-34w__cancm40                     1.799712e-01   \n...                                                   ...   \nwind-vwnd-925-2010-20                       -3.772667e-02   \nlocation_group                               4.955397e-15   \nyear                                         6.365909e-02   \nmonth                                       -8.584886e-02   \nday                                         -6.611006e-02   \n\n                                    wind-vwnd-925-2010-16  \\\nlat                                          6.982886e-16   \nlon                                         -4.248127e-16   \ncontest-pevpr-sfc-gauss-14d__pevpr           1.323450e-01   \nnmme0-tmp2m-34w__cancm30                     3.296480e-01   \nnmme0-tmp2m-34w__cancm40                     3.206224e-01   \n...                                                   ...   \nwind-vwnd-925-2010-20                       -5.817948e-03   \nlocation_group                               7.326588e-16   \nyear                                        -3.689934e-01   \nmonth                                        4.330401e-01   \nday                                         -2.782528e-02   \n\n                                    wind-vwnd-925-2010-17  \\\nlat                                          4.262371e-16   \nlon                                         -1.295423e-16   \ncontest-pevpr-sfc-gauss-14d__pevpr           1.909837e-02   \nnmme0-tmp2m-34w__cancm30                    -4.197327e-02   \nnmme0-tmp2m-34w__cancm40                    -3.739443e-02   \n...                                                   ...   \nwind-vwnd-925-2010-20                        8.160914e-02   \nlocation_group                               4.530295e-16   \nyear                                         2.910440e-01   \nmonth                                       -1.811939e-01   \nday                                          5.575688e-02   \n\n                                    wind-vwnd-925-2010-18  \\\nlat                                         -9.826477e-17   \nlon                                         -4.094191e-17   \ncontest-pevpr-sfc-gauss-14d__pevpr           2.637054e-01   \nnmme0-tmp2m-34w__cancm30                     2.126623e-01   \nnmme0-tmp2m-34w__cancm40                     2.167804e-01   \n...                                                   ...   \nwind-vwnd-925-2010-20                       -2.566069e-01   \nlocation_group                              -1.046916e-16   \nyear                                         2.020765e-01   \nmonth                                       -4.585582e-03   \nday                                         -8.812401e-03   \n\n                                    wind-vwnd-925-2010-19  \\\nlat                                          2.511019e-15   \nlon                                         -1.927956e-16   \ncontest-pevpr-sfc-gauss-14d__pevpr          -2.703029e-02   \nnmme0-tmp2m-34w__cancm30                    -1.244099e-01   \nnmme0-tmp2m-34w__cancm40                    -1.229411e-01   \n...                                                   ...   \nwind-vwnd-925-2010-20                       -1.365565e-01   \nlocation_group                               2.440076e-15   \nyear                                         1.646746e-01   \nmonth                                       -1.169049e-01   \nday                                         -8.745798e-03   \n\n                                    wind-vwnd-925-2010-20  location_group  \\\nlat                                          2.198470e-15    9.966775e-01   \nlon                                         -6.319585e-16   -2.573765e-01   \ncontest-pevpr-sfc-gauss-14d__pevpr          -9.815889e-02   -2.926822e-01   \nnmme0-tmp2m-34w__cancm30                    -1.393631e-01   -3.894396e-01   \nnmme0-tmp2m-34w__cancm40                    -1.457791e-01   -3.760582e-01   \n...                                                   ...             ...   \nwind-vwnd-925-2010-20                        1.000000e+00    2.235324e-15   \nlocation_group                               2.235324e-15    1.000000e+00   \nyear                                        -1.665891e-03   -3.516365e-11   \nmonth                                        1.552586e-01    8.908847e-15   \nday                                         -2.166931e-02   -5.347267e-15   \n\n                                            year         month           day  \nlat                                -3.519529e-11  8.955563e-15 -5.224679e-15  \nlon                                 8.451331e-12 -3.736313e-15  1.843234e-15  \ncontest-pevpr-sfc-gauss-14d__pevpr  2.252694e-01  4.546035e-02 -4.548487e-03  \nnmme0-tmp2m-34w__cancm30           -6.097323e-02  3.799114e-01  4.931724e-03  \nnmme0-tmp2m-34w__cancm40           -5.568544e-02  3.716931e-01  5.731248e-03  \n...                                          ...           ...           ...  \nwind-vwnd-925-2010-20              -1.665891e-03  1.552586e-01 -2.166931e-02  \nlocation_group                     -3.516365e-11  8.908847e-15 -5.347267e-15  \nyear                                1.000000e+00 -5.620606e-01  1.548033e-03  \nmonth                              -5.620606e-01  1.000000e+00  1.542204e-02  \nday                                 1.548033e-03  1.542204e-02  1.000000e+00  \n\n[247 rows x 247 columns]",
            "text/html": "<div>\n<style scoped>\n    .dataframe tbody tr th:only-of-type {\n        vertical-align: middle;\n    }\n\n    .dataframe tbody tr th {\n        vertical-align: top;\n    }\n\n    .dataframe thead th {\n        text-align: right;\n    }\n</style>\n<table border=\"1\" class=\"dataframe\">\n  <thead>\n    <tr style=\"text-align: right;\">\n      <th></th>\n      <th>lat</th>\n      <th>lon</th>\n      <th>contest-pevpr-sfc-gauss-14d__pevpr</th>\n      <th>nmme0-tmp2m-34w__cancm30</th>\n      <th>nmme0-tmp2m-34w__cancm40</th>\n      <th>nmme0-tmp2m-34w__ccsm30</th>\n      <th>nmme0-tmp2m-34w__ccsm40</th>\n      <th>nmme0-tmp2m-34w__cfsv20</th>\n      <th>nmme0-tmp2m-34w__gfdlflora0</th>\n      <th>nmme0-tmp2m-34w__gfdlflorb0</th>\n      <th>...</th>\n      <th>wind-vwnd-925-2010-15</th>\n      <th>wind-vwnd-925-2010-16</th>\n      <th>wind-vwnd-925-2010-17</th>\n      <th>wind-vwnd-925-2010-18</th>\n      <th>wind-vwnd-925-2010-19</th>\n      <th>wind-vwnd-925-2010-20</th>\n      <th>location_group</th>\n      <th>year</th>\n      <th>month</th>\n      <th>day</th>\n    </tr>\n  </thead>\n  <tbody>\n    <tr>\n      <th>lat</th>\n      <td>1.000000e+00</td>\n      <td>-3.063293e-01</td>\n      <td>-0.280975</td>\n      <td>-0.390847</td>\n      <td>-0.380519</td>\n      <td>-0.400337</td>\n      <td>-0.379537</td>\n      <td>-0.406475</td>\n      <td>-0.382396</td>\n      <td>-0.385830</td>\n      <td>...</td>\n      <td>4.915056e-15</td>\n      <td>6.982886e-16</td>\n      <td>4.262371e-16</td>\n      <td>-9.826477e-17</td>\n      <td>2.511019e-15</td>\n      <td>2.198470e-15</td>\n      <td>9.966775e-01</td>\n      <td>-3.519529e-11</td>\n      <td>8.955563e-15</td>\n      <td>-5.224679e-15</td>\n    </tr>\n    <tr>\n      <th>lon</th>\n      <td>-3.063293e-01</td>\n      <td>1.000000e+00</td>\n      <td>-0.052246</td>\n      <td>0.160725</td>\n      <td>0.211250</td>\n      <td>0.156880</td>\n      <td>0.148084</td>\n      <td>0.110681</td>\n      <td>0.157470</td>\n      <td>0.157115</td>\n      <td>...</td>\n      <td>-9.571731e-16</td>\n      <td>-4.248127e-16</td>\n      <td>-1.295423e-16</td>\n      <td>-4.094191e-17</td>\n      <td>-1.927956e-16</td>\n      <td>-6.319585e-16</td>\n      <td>-2.573765e-01</td>\n      <td>8.451331e-12</td>\n      <td>-3.736313e-15</td>\n      <td>1.843234e-15</td>\n    </tr>\n    <tr>\n      <th>contest-pevpr-sfc-gauss-14d__pevpr</th>\n      <td>-2.809750e-01</td>\n      <td>-5.224590e-02</td>\n      <td>1.000000</td>\n      <td>0.721021</td>\n      <td>0.703225</td>\n      <td>0.721027</td>\n      <td>0.689894</td>\n      <td>0.725211</td>\n      <td>0.701412</td>\n      <td>0.702516</td>\n      <td>...</td>\n      <td>2.980890e-01</td>\n      <td>1.323450e-01</td>\n      <td>1.909837e-02</td>\n      <td>2.637054e-01</td>\n      <td>-2.703029e-02</td>\n      <td>-9.815889e-02</td>\n      <td>-2.926822e-01</td>\n      <td>2.252694e-01</td>\n      <td>4.546035e-02</td>\n      <td>-4.548487e-03</td>\n    </tr>\n    <tr>\n      <th>nmme0-tmp2m-34w__cancm30</th>\n      <td>-3.908474e-01</td>\n      <td>1.607248e-01</td>\n      <td>0.721021</td>\n      <td>1.000000</td>\n      <td>0.989566</td>\n      <td>0.984501</td>\n      <td>0.982356</td>\n      <td>0.977706</td>\n      <td>0.970591</td>\n      <td>0.972078</td>\n      <td>...</td>\n      <td>1.836305e-01</td>\n      <td>3.296480e-01</td>\n      <td>-4.197327e-02</td>\n      <td>2.126623e-01</td>\n      <td>-1.244099e-01</td>\n      <td>-1.393631e-01</td>\n      <td>-3.894396e-01</td>\n      <td>-6.097323e-02</td>\n      <td>3.799114e-01</td>\n      <td>4.931724e-03</td>\n    </tr>\n    <tr>\n      <th>nmme0-tmp2m-34w__cancm40</th>\n      <td>-3.805188e-01</td>\n      <td>2.112496e-01</td>\n      <td>0.703225</td>\n      <td>0.989566</td>\n      <td>1.000000</td>\n      <td>0.974219</td>\n      <td>0.982520</td>\n      <td>0.973101</td>\n      <td>0.969782</td>\n      <td>0.970230</td>\n      <td>...</td>\n      <td>1.799712e-01</td>\n      <td>3.206224e-01</td>\n      <td>-3.739443e-02</td>\n      <td>2.167804e-01</td>\n      <td>-1.229411e-01</td>\n      <td>-1.457791e-01</td>\n      <td>-3.760582e-01</td>\n      <td>-5.568544e-02</td>\n      <td>3.716931e-01</td>\n      <td>5.731248e-03</td>\n    </tr>\n    <tr>\n      <th>...</th>\n      <td>...</td>\n      <td>...</td>\n      <td>...</td>\n      <td>...</td>\n      <td>...</td>\n      <td>...</td>\n      <td>...</td>\n      <td>...</td>\n      <td>...</td>\n      <td>...</td>\n      <td>...</td>\n      <td>...</td>\n      <td>...</td>\n      <td>...</td>\n      <td>...</td>\n      <td>...</td>\n      <td>...</td>\n      <td>...</td>\n      <td>...</td>\n      <td>...</td>\n      <td>...</td>\n    </tr>\n    <tr>\n      <th>wind-vwnd-925-2010-20</th>\n      <td>2.198470e-15</td>\n      <td>-6.319585e-16</td>\n      <td>-0.098159</td>\n      <td>-0.139363</td>\n      <td>-0.145779</td>\n      <td>-0.105100</td>\n      <td>-0.119298</td>\n      <td>-0.099504</td>\n      <td>-0.137962</td>\n      <td>-0.139011</td>\n      <td>...</td>\n      <td>-3.772667e-02</td>\n      <td>-5.817948e-03</td>\n      <td>8.160914e-02</td>\n      <td>-2.566069e-01</td>\n      <td>-1.365565e-01</td>\n      <td>1.000000e+00</td>\n      <td>2.235324e-15</td>\n      <td>-1.665891e-03</td>\n      <td>1.552586e-01</td>\n      <td>-2.166931e-02</td>\n    </tr>\n    <tr>\n      <th>location_group</th>\n      <td>9.966775e-01</td>\n      <td>-2.573765e-01</td>\n      <td>-0.292682</td>\n      <td>-0.389440</td>\n      <td>-0.376058</td>\n      <td>-0.399454</td>\n      <td>-0.378516</td>\n      <td>-0.407919</td>\n      <td>-0.381045</td>\n      <td>-0.384592</td>\n      <td>...</td>\n      <td>4.955397e-15</td>\n      <td>7.326588e-16</td>\n      <td>4.530295e-16</td>\n      <td>-1.046916e-16</td>\n      <td>2.440076e-15</td>\n      <td>2.235324e-15</td>\n      <td>1.000000e+00</td>\n      <td>-3.516365e-11</td>\n      <td>8.908847e-15</td>\n      <td>-5.347267e-15</td>\n    </tr>\n    <tr>\n      <th>year</th>\n      <td>-3.519529e-11</td>\n      <td>8.451331e-12</td>\n      <td>0.225269</td>\n      <td>-0.060973</td>\n      <td>-0.055685</td>\n      <td>-0.043291</td>\n      <td>-0.088223</td>\n      <td>-0.046821</td>\n      <td>-0.055519</td>\n      <td>-0.051025</td>\n      <td>...</td>\n      <td>6.365909e-02</td>\n      <td>-3.689934e-01</td>\n      <td>2.910440e-01</td>\n      <td>2.020765e-01</td>\n      <td>1.646746e-01</td>\n      <td>-1.665891e-03</td>\n      <td>-3.516365e-11</td>\n      <td>1.000000e+00</td>\n      <td>-5.620606e-01</td>\n      <td>1.548033e-03</td>\n    </tr>\n    <tr>\n      <th>month</th>\n      <td>8.955563e-15</td>\n      <td>-3.736313e-15</td>\n      <td>0.045460</td>\n      <td>0.379911</td>\n      <td>0.371693</td>\n      <td>0.363053</td>\n      <td>0.411524</td>\n      <td>0.378781</td>\n      <td>0.365202</td>\n      <td>0.367249</td>\n      <td>...</td>\n      <td>-8.584886e-02</td>\n      <td>4.330401e-01</td>\n      <td>-1.811939e-01</td>\n      <td>-4.585582e-03</td>\n      <td>-1.169049e-01</td>\n      <td>1.552586e-01</td>\n      <td>8.908847e-15</td>\n      <td>-5.620606e-01</td>\n      <td>1.000000e+00</td>\n      <td>1.542204e-02</td>\n    </tr>\n    <tr>\n      <th>day</th>\n      <td>-5.224679e-15</td>\n      <td>1.843234e-15</td>\n      <td>-0.004548</td>\n      <td>0.004932</td>\n      <td>0.005731</td>\n      <td>0.003917</td>\n      <td>0.005453</td>\n      <td>0.004382</td>\n      <td>0.004778</td>\n      <td>0.004762</td>\n      <td>...</td>\n      <td>-6.611006e-02</td>\n      <td>-2.782528e-02</td>\n      <td>5.575688e-02</td>\n      <td>-8.812401e-03</td>\n      <td>-8.745798e-03</td>\n      <td>-2.166931e-02</td>\n      <td>-5.347267e-15</td>\n      <td>1.548033e-03</td>\n      <td>1.542204e-02</td>\n      <td>1.000000e+00</td>\n    </tr>\n  </tbody>\n</table>\n<p>247 rows × 247 columns</p>\n</div>"
          },
          "metadata": {}
        }
      ]
    },
    {
      "cell_type": "code",
      "source": [],
      "metadata": {
        "trusted": true,
        "id": "8DnD9FbMVcjp"
      },
      "execution_count": null,
      "outputs": []
    },
    {
      "cell_type": "code",
      "source": [
        "!pip install lightwood"
      ],
      "metadata": {
        "execution": {
          "iopub.status.busy": "2023-02-13T18:24:17.960099Z",
          "iopub.execute_input": "2023-02-13T18:24:17.960410Z",
          "iopub.status.idle": "2023-02-13T18:25:09.064738Z",
          "shell.execute_reply.started": "2023-02-13T18:24:17.960381Z",
          "shell.execute_reply": "2023-02-13T18:25:09.063296Z"
        },
        "trusted": true,
        "id": "3Ci6YQUPVcjq",
        "outputId": "99902ee9-f719-4d27-b897-930db9ee596e"
      },
      "execution_count": null,
      "outputs": [
        {
          "name": "stdout",
          "text": "Collecting lightwood\n  Downloading lightwood-23.2.1.0.tar.gz (161 kB)\n\u001b[2K     \u001b[90m━━━━━━━━━━━━━━━━━━━━━━━━━━━━━━━━━━━━━\u001b[0m \u001b[32m161.2/161.2 kB\u001b[0m \u001b[31m391.0 kB/s\u001b[0m eta \u001b[36m0:00:00\u001b[0ma \u001b[36m0:00:01\u001b[0m\n\u001b[?25h  Installing build dependencies ... \u001b[?25ldone\n\u001b[?25h  Getting requirements to build wheel ... \u001b[?25ldone\n\u001b[?25h  Preparing metadata (pyproject.toml) ... \u001b[?25ldone\n\u001b[?25hCollecting mindsdb-evaluator==0.0.6\n  Downloading mindsdb_evaluator-0.0.6-py3-none-any.whl (18 kB)\nRequirement already satisfied: pandas>=1.1.5 in /opt/conda/lib/python3.7/site-packages (from lightwood) (1.3.5)\nCollecting nltk<3.6,>=3\n  Downloading nltk-3.5.zip (1.4 MB)\n\u001b[2K     \u001b[90m━━━━━━━━━━━━━━━━━━━━━━━━━━━━━━━━━━━━━━━━\u001b[0m \u001b[32m1.4/1.4 MB\u001b[0m \u001b[31m2.6 MB/s\u001b[0m eta \u001b[36m0:00:00\u001b[0m00:01\u001b[0m00:01\u001b[0m\n\u001b[?25h  Preparing metadata (setup.py) ... \u001b[?25ldone\n\u001b[?25hRequirement already satisfied: psutil>=5.7.0 in /opt/conda/lib/python3.7/site-packages (from lightwood) (5.9.1)\nRequirement already satisfied: regex in /opt/conda/lib/python3.7/site-packages (from lightwood) (2021.11.10)\nCollecting dataprep-ml==0.0.8\n  Downloading dataprep_ml-0.0.8-py3-none-any.whl (26 kB)\nRequirement already satisfied: python-dateutil>=2.8.1 in /opt/conda/lib/python3.7/site-packages (from lightwood) (2.8.2)\nCollecting sktime<0.15.0,>=0.14.0\n  Downloading sktime-0.14.1-py3-none-any.whl (15.9 MB)\n\u001b[2K     \u001b[90m━━━━━━━━━━━━━━━━━━━━━━━━━━━━━━━━━━━━━━━━\u001b[0m \u001b[32m15.9/15.9 MB\u001b[0m \u001b[31m15.5 MB/s\u001b[0m eta \u001b[36m0:00:00\u001b[0m00:01\u001b[0m00:01\u001b[0m\n\u001b[?25hRequirement already satisfied: xgboost<=1.8.0,>=1.6.0 in /opt/conda/lib/python3.7/site-packages (from lightwood) (1.6.2)\nRequirement already satisfied: statsmodels>=0.12.0 in /opt/conda/lib/python3.7/site-packages (from lightwood) (0.13.2)\nRequirement already satisfied: requests>=2.0.0 in /opt/conda/lib/python3.7/site-packages (from lightwood) (2.28.1)\nRequirement already satisfied: scipy>=1.5.4 in /opt/conda/lib/python3.7/site-packages (from lightwood) (1.7.3)\nCollecting dill==0.3.4\n  Downloading dill-0.3.4-py2.py3-none-any.whl (86 kB)\n\u001b[2K     \u001b[90m━━━━━━━━━━━━━━━━━━━━━━━━━━━━━━━━━━━━━━━━\u001b[0m \u001b[32m86.9/86.9 kB\u001b[0m \u001b[31m7.8 MB/s\u001b[0m eta \u001b[36m0:00:00\u001b[0m\n\u001b[?25hCollecting statsforecast==0.7.0\n  Downloading statsforecast-0.7.0-py3-none-any.whl (45 kB)\n\u001b[2K     \u001b[90m━━━━━━━━━━━━━━━━━━━━━━━━━━━━━━━━━━━━━━━━\u001b[0m \u001b[32m45.5/45.5 kB\u001b[0m \u001b[31m3.6 MB/s\u001b[0m eta \u001b[36m0:00:00\u001b[0m\n\u001b[?25hRequirement already satisfied: transformers in /opt/conda/lib/python3.7/site-packages (from lightwood) (4.20.1)\nCollecting optuna<2.10.0,>=2.8.0\n  Downloading optuna-2.9.1-py3-none-any.whl (302 kB)\n\u001b[2K     \u001b[90m━━━━━━━━━━━━━━━━━━━━━━━━━━━━━━━━━━━━━━\u001b[0m \u001b[32m302.6/302.6 kB\u001b[0m \u001b[31m24.1 MB/s\u001b[0m eta \u001b[36m0:00:00\u001b[0m\n\u001b[?25hCollecting dataclasses-json>=0.5.4\n  Downloading dataclasses_json-0.5.7-py3-none-any.whl (25 kB)\nRequirement already satisfied: setuptools>=21.2.1 in /opt/conda/lib/python3.7/site-packages (from lightwood) (59.8.0)\nRequirement already satisfied: protobuf<3.21.0 in /opt/conda/lib/python3.7/site-packages (from lightwood) (3.19.4)\nRequirement already satisfied: six in /opt/conda/lib/python3.7/site-packages (from lightwood) (1.15.0)\nRequirement already satisfied: scikit-learn<=1.0.2,>=1.0.0 in /opt/conda/lib/python3.7/site-packages (from lightwood) (1.0.2)\nCollecting schema>=0.6.8\n  Downloading schema-0.7.5-py2.py3-none-any.whl (17 kB)\nCollecting colorlog==6.5.0\n  Downloading colorlog-6.5.0-py2.py3-none-any.whl (11 kB)\nCollecting type-infer==0.0.9\n  Downloading type_infer-0.0.9-py3-none-any.whl (23 kB)\nRequirement already satisfied: wheel>=0.32.2 in /opt/conda/lib/python3.7/site-packages (from lightwood) (0.37.1)\nCollecting torch-optimizer==0.1.0\n  Downloading torch_optimizer-0.1.0-py3-none-any.whl (72 kB)\n\u001b[2K     \u001b[90m━━━━━━━━━━━━━━━━━━━━━━━━━━━━━━━━━━━━━━━━\u001b[0m \u001b[32m72.5/72.5 kB\u001b[0m \u001b[31m6.0 MB/s\u001b[0m eta \u001b[36m0:00:00\u001b[0m\n\u001b[?25hRequirement already satisfied: black>=21.9b0 in /opt/conda/lib/python3.7/site-packages (from lightwood) (22.6.0)\nRequirement already satisfied: langid==1.1.6 in /opt/conda/lib/python3.7/site-packages (from lightwood) (1.1.6)\nCollecting pydateinfer==0.3.0\n  Downloading pydateinfer-0.3.0.tar.gz (7.7 kB)\n  Preparing metadata (setup.py) ... \u001b[?25ldone\n\u001b[?25hCollecting typing-inspect\n  Downloading typing_inspect-0.8.0-py3-none-any.whl (8.7 kB)\nRequirement already satisfied: torch>=1.9.0 in /opt/conda/lib/python3.7/site-packages (from lightwood) (1.11.0+cpu)\nRequirement already satisfied: numpy in /opt/conda/lib/python3.7/site-packages (from lightwood) (1.21.6)\nRequirement already satisfied: typing-extensions in /opt/conda/lib/python3.7/site-packages (from lightwood) (4.1.1)\nRequirement already satisfied: pytz in /opt/conda/lib/python3.7/site-packages (from pydateinfer==0.3.0->lightwood) (2022.1)\nRequirement already satisfied: numba in /opt/conda/lib/python3.7/site-packages (from statsforecast==0.7.0->lightwood) (0.55.2)\nCollecting pytorch-ranger>=0.1.1\n  Downloading pytorch_ranger-0.1.1-py3-none-any.whl (14 kB)\nRequirement already satisfied: toml<0.11.0,>=0.10.2 in /opt/conda/lib/python3.7/site-packages (from type-infer==0.0.9->lightwood) (0.10.2)\nRequirement already satisfied: click>=8.0.0 in /opt/conda/lib/python3.7/site-packages (from black>=21.9b0->lightwood) (8.1.3)\nRequirement already satisfied: platformdirs>=2 in /opt/conda/lib/python3.7/site-packages (from black>=21.9b0->lightwood) (2.5.1)\nRequirement already satisfied: mypy-extensions>=0.4.3 in /opt/conda/lib/python3.7/site-packages (from black>=21.9b0->lightwood) (0.4.3)\nRequirement already satisfied: typed-ast>=1.4.2 in /opt/conda/lib/python3.7/site-packages (from black>=21.9b0->lightwood) (1.5.4)\nRequirement already satisfied: tomli>=1.1.0 in /opt/conda/lib/python3.7/site-packages (from black>=21.9b0->lightwood) (2.0.1)\nRequirement already satisfied: pathspec>=0.9.0 in /opt/conda/lib/python3.7/site-packages (from black>=21.9b0->lightwood) (0.9.0)\nCollecting marshmallow<4.0.0,>=3.3.0\n  Downloading marshmallow-3.19.0-py3-none-any.whl (49 kB)\n\u001b[2K     \u001b[90m━━━━━━━━━━━━━━━━━━━━━━━━━━━━━━━━━━━━━━━━\u001b[0m \u001b[32m49.1/49.1 kB\u001b[0m \u001b[31m4.0 MB/s\u001b[0m eta \u001b[36m0:00:00\u001b[0m\n\u001b[?25hCollecting marshmallow-enum<2.0.0,>=1.5.1\n  Downloading marshmallow_enum-1.5.1-py2.py3-none-any.whl (4.2 kB)\nRequirement already satisfied: joblib in /opt/conda/lib/python3.7/site-packages (from nltk<3.6,>=3->lightwood) (1.0.1)\nRequirement already satisfied: tqdm in /opt/conda/lib/python3.7/site-packages (from nltk<3.6,>=3->lightwood) (4.64.0)\nRequirement already satisfied: packaging>=20.0 in /opt/conda/lib/python3.7/site-packages (from optuna<2.10.0,>=2.8.0->lightwood) (23.0)\nRequirement already satisfied: sqlalchemy>=1.1.0 in /opt/conda/lib/python3.7/site-packages (from optuna<2.10.0,>=2.8.0->lightwood) (1.4.39)\nCollecting cliff\n  Downloading cliff-3.10.1-py3-none-any.whl (81 kB)\n\u001b[2K     \u001b[90m━━━━━━━━━━━━━━━━━━━━━━━━━━━━━━━━━━━━━━━━\u001b[0m \u001b[32m81.0/81.0 kB\u001b[0m \u001b[31m7.2 MB/s\u001b[0m eta \u001b[36m0:00:00\u001b[0m\n\u001b[?25hRequirement already satisfied: alembic in /opt/conda/lib/python3.7/site-packages (from optuna<2.10.0,>=2.8.0->lightwood) (1.9.2)\nRequirement already satisfied: cmaes>=0.8.2 in /opt/conda/lib/python3.7/site-packages (from optuna<2.10.0,>=2.8.0->lightwood) (0.9.1)\nRequirement already satisfied: PyYAML in /opt/conda/lib/python3.7/site-packages (from optuna<2.10.0,>=2.8.0->lightwood) (6.0)\nRequirement already satisfied: certifi>=2017.4.17 in /opt/conda/lib/python3.7/site-packages (from requests>=2.0.0->lightwood) (2022.12.7)\nRequirement already satisfied: idna<4,>=2.5 in /opt/conda/lib/python3.7/site-packages (from requests>=2.0.0->lightwood) (3.3)\nRequirement already satisfied: charset-normalizer<3,>=2 in /opt/conda/lib/python3.7/site-packages (from requests>=2.0.0->lightwood) (2.1.0)\nRequirement already satisfied: urllib3<1.27,>=1.21.1 in /opt/conda/lib/python3.7/site-packages (from requests>=2.0.0->lightwood) (1.26.14)\nRequirement already satisfied: contextlib2>=0.5.5 in /opt/conda/lib/python3.7/site-packages (from schema>=0.6.8->lightwood) (21.6.0)\nRequirement already satisfied: threadpoolctl>=2.0.0 in /opt/conda/lib/python3.7/site-packages (from scikit-learn<=1.0.2,>=1.0.0->lightwood) (3.1.0)\nCollecting deprecated>=1.2.13\n  Downloading Deprecated-1.2.13-py2.py3-none-any.whl (9.6 kB)\nRequirement already satisfied: patsy>=0.5.2 in /opt/conda/lib/python3.7/site-packages (from statsmodels>=0.12.0->lightwood) (0.5.2)\nRequirement already satisfied: importlib-metadata in /opt/conda/lib/python3.7/site-packages (from transformers->lightwood) (6.0.0)\nRequirement already satisfied: filelock in /opt/conda/lib/python3.7/site-packages (from transformers->lightwood) (3.7.1)\nRequirement already satisfied: tokenizers!=0.11.3,<0.13,>=0.11.1 in /opt/conda/lib/python3.7/site-packages (from transformers->lightwood) (0.12.1)\nRequirement already satisfied: huggingface-hub<1.0,>=0.1.0 in /opt/conda/lib/python3.7/site-packages (from transformers->lightwood) (0.10.1)\nRequirement already satisfied: wrapt<2,>=1.10 in /opt/conda/lib/python3.7/site-packages (from deprecated>=1.2.13->sktime<0.15.0,>=0.14.0->lightwood) (1.12.1)\nRequirement already satisfied: llvmlite<0.39,>=0.38.0rc1 in /opt/conda/lib/python3.7/site-packages (from numba->statsforecast==0.7.0->lightwood) (0.38.1)\nRequirement already satisfied: greenlet!=0.4.17 in /opt/conda/lib/python3.7/site-packages (from sqlalchemy>=1.1.0->optuna<2.10.0,>=2.8.0->lightwood) (1.1.2)\nRequirement already satisfied: importlib-resources in /opt/conda/lib/python3.7/site-packages (from alembic->optuna<2.10.0,>=2.8.0->lightwood) (5.10.2)\nRequirement already satisfied: Mako in /opt/conda/lib/python3.7/site-packages (from alembic->optuna<2.10.0,>=2.8.0->lightwood) (1.2.4)\nRequirement already satisfied: pyparsing>=2.1.0 in /opt/conda/lib/python3.7/site-packages (from cliff->optuna<2.10.0,>=2.8.0->lightwood) (3.0.9)\nRequirement already satisfied: PrettyTable>=0.7.2 in /opt/conda/lib/python3.7/site-packages (from cliff->optuna<2.10.0,>=2.8.0->lightwood) (3.3.0)\nCollecting pbr!=2.1.0,>=2.0.0\n  Downloading pbr-5.11.1-py2.py3-none-any.whl (112 kB)\n\u001b[2K     \u001b[90m━━━━━━━━━━━━━━━━━━━━━━━━━━━━━━━━━━━━━━━\u001b[0m \u001b[32m112.7/112.7 kB\u001b[0m \u001b[31m5.3 MB/s\u001b[0m eta \u001b[36m0:00:00\u001b[0m\n\u001b[?25hCollecting autopage>=0.4.0\n  Downloading autopage-0.5.1-py3-none-any.whl (29 kB)\nCollecting stevedore>=2.0.1\n  Downloading stevedore-3.5.2-py3-none-any.whl (50 kB)\n\u001b[2K     \u001b[90m━━━━━━━━━━━━━━━━━━━━━━━━━━━━━━━━━━━━━━━━\u001b[0m \u001b[32m50.2/50.2 kB\u001b[0m \u001b[31m3.8 MB/s\u001b[0m eta \u001b[36m0:00:00\u001b[0m\n\u001b[?25hCollecting cmd2>=1.0.0\n  Downloading cmd2-2.4.3-py3-none-any.whl (147 kB)\n\u001b[2K     \u001b[90m━━━━━━━━━━━━━━━━━━━━━━━━━━━━━━━━━━━━━━\u001b[0m \u001b[32m147.2/147.2 kB\u001b[0m \u001b[31m11.1 MB/s\u001b[0m eta \u001b[36m0:00:00\u001b[0m\n\u001b[?25hRequirement already satisfied: zipp>=0.5 in /opt/conda/lib/python3.7/site-packages (from importlib-metadata->transformers->lightwood) (3.8.0)\nRequirement already satisfied: attrs>=16.3.0 in /opt/conda/lib/python3.7/site-packages (from cmd2>=1.0.0->cliff->optuna<2.10.0,>=2.8.0->lightwood) (21.4.0)\nRequirement already satisfied: wcwidth>=0.1.7 in /opt/conda/lib/python3.7/site-packages (from cmd2>=1.0.0->cliff->optuna<2.10.0,>=2.8.0->lightwood) (0.2.5)\nCollecting pyperclip>=1.6\n  Downloading pyperclip-1.8.2.tar.gz (20 kB)\n  Preparing metadata (setup.py) ... \u001b[?25ldone\n\u001b[?25hRequirement already satisfied: MarkupSafe>=0.9.2 in /opt/conda/lib/python3.7/site-packages (from Mako->alembic->optuna<2.10.0,>=2.8.0->lightwood) (2.0.1)\nBuilding wheels for collected packages: lightwood, pydateinfer, nltk, pyperclip\n  Building wheel for lightwood (pyproject.toml) ... \u001b[?25ldone\n\u001b[?25h  Created wheel for lightwood: filename=lightwood-23.2.1.0-py3-none-any.whl size=215138 sha256=58bd04588b21440ca53b4991f10e492c83c5e17eee44468d3c9661df9d5d40fe\n  Stored in directory: /root/.cache/pip/wheels/a7/cd/6f/b312baa3be000247298059abd80094da674cecc4ae74bb774c\n  Building wheel for pydateinfer (setup.py) ... \u001b[?25ldone\n\u001b[?25h  Created wheel for pydateinfer: filename=pydateinfer-0.3.0-py3-none-any.whl size=9612 sha256=d7c753a984e6fd4a4317c795ab18545b2306b0906e54b500ae6de3311bcde0cb\n  Stored in directory: /root/.cache/pip/wheels/a0/bc/33/8e7c3f24e6017ccf7036e0cb5cbe1faf2c99dd7d124452660e\n  Building wheel for nltk (setup.py) ... \u001b[?25ldone\n\u001b[?25h  Created wheel for nltk: filename=nltk-3.5-py3-none-any.whl size=1434690 sha256=0e0e403501adfebf5d5ba5cfabc433d4459377075134310dd7a1c9ff0b36ea8f\n  Stored in directory: /root/.cache/pip/wheels/45/6c/46/a1865e7ba706b3817f5d1b2ff7ce8996aabdd0d03d47ba0266\n  Building wheel for pyperclip (setup.py) ... \u001b[?25ldone\n\u001b[?25h  Created wheel for pyperclip: filename=pyperclip-1.8.2-py3-none-any.whl size=11137 sha256=7e2e740df10fc54edbc763ddead3b28db642fe84631120df4e3f4e96317d6ab8\n  Stored in directory: /root/.cache/pip/wheels/9f/18/84/8f69f8b08169c7bae2dde6bd7daf0c19fca8c8e500ee620a28\nSuccessfully built lightwood pydateinfer nltk pyperclip\nInstalling collected packages: pyperclip, typing-inspect, schema, pydateinfer, pbr, marshmallow, dill, deprecated, colorlog, autopage, stevedore, pytorch-ranger, marshmallow-enum, cmd2, torch-optimizer, nltk, dataclasses-json, cliff, type-infer, statsforecast, sktime, optuna, dataprep-ml, mindsdb-evaluator, lightwood\n  Attempting uninstall: dill\n    Found existing installation: dill 0.3.6\n    Uninstalling dill-0.3.6:\n      Successfully uninstalled dill-0.3.6\n  Attempting uninstall: colorlog\n    Found existing installation: colorlog 6.7.0\n    Uninstalling colorlog-6.7.0:\n      Successfully uninstalled colorlog-6.7.0\n  Attempting uninstall: nltk\n    Found existing installation: nltk 3.8.1\n    Uninstalling nltk-3.8.1:\n      Successfully uninstalled nltk-3.8.1\n  Attempting uninstall: optuna\n    Found existing installation: optuna 3.1.0\n    Uninstalling optuna-3.1.0:\n      Successfully uninstalled optuna-3.1.0\n\u001b[31mERROR: pip's dependency resolver does not currently take into account all the packages that are installed. This behaviour is the source of the following dependency conflicts.\npreprocessing 0.1.13 requires nltk==3.2.4, but you have nltk 3.5 which is incompatible.\npathos 0.3.0 requires dill>=0.3.6, but you have dill 0.3.4 which is incompatible.\nmultiprocess 0.70.14 requires dill>=0.3.6, but you have dill 0.3.4 which is incompatible.\napache-beam 2.40.0 requires dill<0.3.2,>=0.3.1.1, but you have dill 0.3.4 which is incompatible.\napache-beam 2.40.0 requires pyarrow<8.0.0,>=0.15.1, but you have pyarrow 8.0.0 which is incompatible.\nallennlp 2.10.1 requires nltk>=3.6.5, but you have nltk 3.5 which is incompatible.\u001b[0m\u001b[31m\n\u001b[0mSuccessfully installed autopage-0.5.1 cliff-3.10.1 cmd2-2.4.3 colorlog-6.5.0 dataclasses-json-0.5.7 dataprep-ml-0.0.8 deprecated-1.2.13 dill-0.3.4 lightwood-23.2.1.0 marshmallow-3.19.0 marshmallow-enum-1.5.1 mindsdb-evaluator-0.0.6 nltk-3.5 optuna-2.9.1 pbr-5.11.1 pydateinfer-0.3.0 pyperclip-1.8.2 pytorch-ranger-0.1.1 schema-0.7.5 sktime-0.14.1 statsforecast-0.7.0 stevedore-3.5.2 torch-optimizer-0.1.0 type-infer-0.0.9 typing-inspect-0.8.0\n\u001b[33mWARNING: Running pip as the 'root' user can result in broken permissions and conflicting behaviour with the system package manager. It is recommended to use a virtual environment instead: https://pip.pypa.io/warnings/venv\u001b[0m\u001b[33m\n\u001b[0m",
          "output_type": "stream"
        }
      ]
    },
    {
      "cell_type": "code",
      "source": [
        "from lightwood.api.high_level import (\n",
        "    ProblemDefinition,\n",
        "    json_ai_from_problem,\n",
        "    code_from_json_ai,\n",
        "    predictor_from_code,\n",
        ")\n",
        "\n"
      ],
      "metadata": {
        "execution": {
          "iopub.status.busy": "2023-02-13T18:25:09.066945Z",
          "iopub.execute_input": "2023-02-13T18:25:09.067508Z",
          "iopub.status.idle": "2023-02-13T18:25:20.792720Z",
          "shell.execute_reply.started": "2023-02-13T18:25:09.067452Z",
          "shell.execute_reply": "2023-02-13T18:25:20.791175Z"
        },
        "trusted": true,
        "id": "rUHnz7gOVcjq",
        "outputId": "a40f8c0f-64ec-459c-ec5a-9372daf9eb4a"
      },
      "execution_count": null,
      "outputs": [
        {
          "output_type": "display_data",
          "data": {
            "text/plain": "<IPython.core.display.HTML object>",
            "text/html": "<style type='text/css'>\n.datatable table.frame { margin-bottom: 0; }\n.datatable table.frame thead { border-bottom: none; }\n.datatable table.frame tr.coltypes td {  color: #FFFFFF;  line-height: 6px;  padding: 0 0.5em;}\n.datatable .bool    { background: #DDDD99; }\n.datatable .object  { background: #565656; }\n.datatable .int     { background: #5D9E5D; }\n.datatable .float   { background: #4040CC; }\n.datatable .str     { background: #CC4040; }\n.datatable .time    { background: #40CC40; }\n.datatable .row_index {  background: var(--jp-border-color3);  border-right: 1px solid var(--jp-border-color0);  color: var(--jp-ui-font-color3);  font-size: 9px;}\n.datatable .frame tbody td { text-align: left; }\n.datatable .frame tr.coltypes .row_index {  background: var(--jp-border-color0);}\n.datatable th:nth-child(2) { padding-left: 12px; }\n.datatable .hellipsis {  color: var(--jp-cell-editor-border-color);}\n.datatable .vellipsis {  background: var(--jp-layout-color0);  color: var(--jp-cell-editor-border-color);}\n.datatable .na {  color: var(--jp-cell-editor-border-color);  font-size: 80%;}\n.datatable .sp {  opacity: 0.25;}\n.datatable .footer { font-size: 9px; }\n.datatable .frame_dimensions {  background: var(--jp-border-color3);  border-top: 1px solid var(--jp-border-color0);  color: var(--jp-ui-font-color3);  display: inline-block;  opacity: 0.6;  padding: 1px 10px 1px 5px;}\n</style>\n"
          },
          "metadata": {}
        }
      ]
    },
    {
      "cell_type": "code",
      "source": [
        "# Define the prediction task by naming the target column\n",
        "pdef = ProblemDefinition.from_dict(\n",
        "    {\n",
        "        \"target\": \"contest-tmp2m-14d__tmp2m\",  # column you want to predict\n",
        "    }\n",
        ")\n",
        "\n"
      ],
      "metadata": {
        "execution": {
          "iopub.status.busy": "2023-02-13T18:25:20.794970Z",
          "iopub.execute_input": "2023-02-13T18:25:20.795342Z",
          "iopub.status.idle": "2023-02-13T18:25:20.800590Z",
          "shell.execute_reply.started": "2023-02-13T18:25:20.795302Z",
          "shell.execute_reply": "2023-02-13T18:25:20.799478Z"
        },
        "trusted": true,
        "id": "RvaXOrk-Vcjr"
      },
      "execution_count": null,
      "outputs": []
    },
    {
      "cell_type": "code",
      "source": [
        "# Generate JSON-AI code to model the problem\n",
        "json_ai = json_ai_from_problem(training, problem_definition=pdef)\n",
        "\n",
        "\n"
      ],
      "metadata": {
        "execution": {
          "iopub.status.busy": "2023-02-13T18:25:20.801847Z",
          "iopub.execute_input": "2023-02-13T18:25:20.802149Z",
          "iopub.status.idle": "2023-02-13T18:36:57.542580Z",
          "shell.execute_reply.started": "2023-02-13T18:25:20.802118Z",
          "shell.execute_reply": "2023-02-13T18:36:57.541322Z"
        },
        "trusted": true,
        "id": "EFfhmFbEVcjr"
      },
      "execution_count": null,
      "outputs": []
    },
    {
      "cell_type": "code",
      "source": [
        "# OPTIONAL - see the JSON-AI syntax\n",
        "#print(json_ai.to_json())\n",
        "\n",
        "# Generate python code\n",
        "code = code_from_json_ai(json_ai)\n",
        "\n",
        "# OPTIONAL - see generated code\n",
        "#print(code)\n"
      ],
      "metadata": {
        "execution": {
          "iopub.status.busy": "2023-02-13T18:36:57.544029Z",
          "iopub.execute_input": "2023-02-13T18:36:57.544389Z",
          "iopub.status.idle": "2023-02-13T18:36:59.050837Z",
          "shell.execute_reply.started": "2023-02-13T18:36:57.544358Z",
          "shell.execute_reply": "2023-02-13T18:36:59.048961Z"
        },
        "trusted": true,
        "id": "wTYFYXNiVcjv"
      },
      "execution_count": null,
      "outputs": []
    },
    {
      "cell_type": "code",
      "source": [
        "# Create a predictor from python code\n",
        "predictor = predictor_from_code(code)\n",
        "\n",
        "# Train a model end-to-end from raw data to a finalized predictor\n",
        "predictor.learn(training)\n",
        "\n",
        "# Make the train/test splits and show predictions for a few examples\n",
        "#test_df = predictor.split(predictor.preprocess(df))[\"test\"]\n",
        "preds = predictor.predict(testing).iloc[:10]\n",
        "print(preds)"
      ],
      "metadata": {
        "execution": {
          "iopub.status.busy": "2023-02-13T18:36:59.052888Z",
          "iopub.execute_input": "2023-02-13T18:36:59.053591Z"
        },
        "trusted": true,
        "id": "vD9IzGbaVcjx",
        "outputId": "4e762600-a6a3-4d91-dda5-7e2db41feea5"
      },
      "execution_count": null,
      "outputs": [
        {
          "name": "stdout",
          "text": "[18:52:06] WARNING: ../src/learner.cc:248: No visible GPU is found, setting `gpu_id` to -1\n",
          "output_type": "stream"
        },
        {
          "name": "stderr",
          "text": "torch.cuda.amp.GradScaler is enabled, but CUDA is not available.  Disabling.\nThis overload of addcmul_ is deprecated:\n\taddcmul_(Number value, Tensor tensor1, Tensor tensor2)\nConsider using one of the following signatures instead:\n\taddcmul_(Tensor tensor1, Tensor tensor2, *, Number value) (Triggered internally at  ../torch/csrc/utils/python_arg_parser.cpp:1055.)\n",
          "output_type": "stream"
        }
      ]
    }
  ]
}