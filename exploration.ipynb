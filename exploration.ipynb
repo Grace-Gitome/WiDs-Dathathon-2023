{
 "cells": [
  {
   "cell_type": "code",
   "execution_count": 2,
   "metadata": {},
   "outputs": [],
   "source": [
    "import pandas as pd\n",
    "import numpy as np \n",
    "import matplotlib.pyplot as plt\n",
    "import seaborn as sns\n",
    "%matplotlib inline\n"
   ]
  },
  {
   "cell_type": "code",
   "execution_count": 3,
   "metadata": {},
   "outputs": [
    {
     "data": {
      "text/html": [
       "<div>\n",
       "<style scoped>\n",
       "    .dataframe tbody tr th:only-of-type {\n",
       "        vertical-align: middle;\n",
       "    }\n",
       "\n",
       "    .dataframe tbody tr th {\n",
       "        vertical-align: top;\n",
       "    }\n",
       "\n",
       "    .dataframe thead th {\n",
       "        text-align: right;\n",
       "    }\n",
       "</style>\n",
       "<table border=\"1\" class=\"dataframe\">\n",
       "  <thead>\n",
       "    <tr style=\"text-align: right;\">\n",
       "      <th></th>\n",
       "      <th>lat</th>\n",
       "      <th>lon</th>\n",
       "      <th>startdate</th>\n",
       "      <th>contest-pevpr-sfc-gauss-14d__pevpr</th>\n",
       "      <th>nmme0-tmp2m-34w__cancm30</th>\n",
       "      <th>nmme0-tmp2m-34w__cancm40</th>\n",
       "      <th>nmme0-tmp2m-34w__ccsm30</th>\n",
       "      <th>nmme0-tmp2m-34w__ccsm40</th>\n",
       "      <th>nmme0-tmp2m-34w__cfsv20</th>\n",
       "      <th>nmme0-tmp2m-34w__gfdlflora0</th>\n",
       "      <th>...</th>\n",
       "      <th>wind-vwnd-925-2010-11</th>\n",
       "      <th>wind-vwnd-925-2010-12</th>\n",
       "      <th>wind-vwnd-925-2010-13</th>\n",
       "      <th>wind-vwnd-925-2010-14</th>\n",
       "      <th>wind-vwnd-925-2010-15</th>\n",
       "      <th>wind-vwnd-925-2010-16</th>\n",
       "      <th>wind-vwnd-925-2010-17</th>\n",
       "      <th>wind-vwnd-925-2010-18</th>\n",
       "      <th>wind-vwnd-925-2010-19</th>\n",
       "      <th>wind-vwnd-925-2010-20</th>\n",
       "    </tr>\n",
       "    <tr>\n",
       "      <th>index</th>\n",
       "      <th></th>\n",
       "      <th></th>\n",
       "      <th></th>\n",
       "      <th></th>\n",
       "      <th></th>\n",
       "      <th></th>\n",
       "      <th></th>\n",
       "      <th></th>\n",
       "      <th></th>\n",
       "      <th></th>\n",
       "      <th></th>\n",
       "      <th></th>\n",
       "      <th></th>\n",
       "      <th></th>\n",
       "      <th></th>\n",
       "      <th></th>\n",
       "      <th></th>\n",
       "      <th></th>\n",
       "      <th></th>\n",
       "      <th></th>\n",
       "      <th></th>\n",
       "    </tr>\n",
       "  </thead>\n",
       "  <tbody>\n",
       "    <tr>\n",
       "      <th>0</th>\n",
       "      <td>0.0</td>\n",
       "      <td>0.833333</td>\n",
       "      <td>9/1/14</td>\n",
       "      <td>237.00</td>\n",
       "      <td>29.02</td>\n",
       "      <td>31.64</td>\n",
       "      <td>29.57</td>\n",
       "      <td>30.73</td>\n",
       "      <td>29.71</td>\n",
       "      <td>31.52</td>\n",
       "      <td>...</td>\n",
       "      <td>-27.68</td>\n",
       "      <td>-37.21</td>\n",
       "      <td>8.32</td>\n",
       "      <td>9.56</td>\n",
       "      <td>-2.03</td>\n",
       "      <td>48.13</td>\n",
       "      <td>28.09</td>\n",
       "      <td>-13.50</td>\n",
       "      <td>11.90</td>\n",
       "      <td>4.58</td>\n",
       "    </tr>\n",
       "    <tr>\n",
       "      <th>1</th>\n",
       "      <td>0.0</td>\n",
       "      <td>0.833333</td>\n",
       "      <td>9/2/14</td>\n",
       "      <td>228.90</td>\n",
       "      <td>29.02</td>\n",
       "      <td>31.64</td>\n",
       "      <td>29.57</td>\n",
       "      <td>30.73</td>\n",
       "      <td>29.71</td>\n",
       "      <td>31.52</td>\n",
       "      <td>...</td>\n",
       "      <td>-21.13</td>\n",
       "      <td>-36.57</td>\n",
       "      <td>8.77</td>\n",
       "      <td>21.17</td>\n",
       "      <td>4.44</td>\n",
       "      <td>48.60</td>\n",
       "      <td>27.41</td>\n",
       "      <td>-23.77</td>\n",
       "      <td>15.44</td>\n",
       "      <td>3.42</td>\n",
       "    </tr>\n",
       "    <tr>\n",
       "      <th>2</th>\n",
       "      <td>0.0</td>\n",
       "      <td>0.833333</td>\n",
       "      <td>9/3/14</td>\n",
       "      <td>220.69</td>\n",
       "      <td>29.02</td>\n",
       "      <td>31.64</td>\n",
       "      <td>29.57</td>\n",
       "      <td>30.73</td>\n",
       "      <td>29.71</td>\n",
       "      <td>31.52</td>\n",
       "      <td>...</td>\n",
       "      <td>-10.72</td>\n",
       "      <td>-34.16</td>\n",
       "      <td>6.99</td>\n",
       "      <td>32.16</td>\n",
       "      <td>5.01</td>\n",
       "      <td>48.53</td>\n",
       "      <td>19.21</td>\n",
       "      <td>-33.16</td>\n",
       "      <td>15.11</td>\n",
       "      <td>4.82</td>\n",
       "    </tr>\n",
       "    <tr>\n",
       "      <th>3</th>\n",
       "      <td>0.0</td>\n",
       "      <td>0.833333</td>\n",
       "      <td>9/4/14</td>\n",
       "      <td>225.28</td>\n",
       "      <td>29.02</td>\n",
       "      <td>31.64</td>\n",
       "      <td>29.57</td>\n",
       "      <td>30.73</td>\n",
       "      <td>29.71</td>\n",
       "      <td>31.52</td>\n",
       "      <td>...</td>\n",
       "      <td>0.33</td>\n",
       "      <td>-31.04</td>\n",
       "      <td>6.17</td>\n",
       "      <td>39.66</td>\n",
       "      <td>-1.41</td>\n",
       "      <td>50.59</td>\n",
       "      <td>8.29</td>\n",
       "      <td>-37.22</td>\n",
       "      <td>18.24</td>\n",
       "      <td>9.74</td>\n",
       "    </tr>\n",
       "    <tr>\n",
       "      <th>4</th>\n",
       "      <td>0.0</td>\n",
       "      <td>0.833333</td>\n",
       "      <td>9/5/14</td>\n",
       "      <td>237.24</td>\n",
       "      <td>29.02</td>\n",
       "      <td>31.64</td>\n",
       "      <td>29.57</td>\n",
       "      <td>30.73</td>\n",
       "      <td>29.71</td>\n",
       "      <td>31.52</td>\n",
       "      <td>...</td>\n",
       "      <td>9.83</td>\n",
       "      <td>-31.80</td>\n",
       "      <td>7.47</td>\n",
       "      <td>38.62</td>\n",
       "      <td>-5.21</td>\n",
       "      <td>54.73</td>\n",
       "      <td>-2.58</td>\n",
       "      <td>-42.30</td>\n",
       "      <td>21.91</td>\n",
       "      <td>10.95</td>\n",
       "    </tr>\n",
       "  </tbody>\n",
       "</table>\n",
       "<p>5 rows × 245 columns</p>\n",
       "</div>"
      ],
      "text/plain": [
       "       lat       lon startdate  contest-pevpr-sfc-gauss-14d__pevpr  \\\n",
       "index                                                                \n",
       "0      0.0  0.833333    9/1/14                              237.00   \n",
       "1      0.0  0.833333    9/2/14                              228.90   \n",
       "2      0.0  0.833333    9/3/14                              220.69   \n",
       "3      0.0  0.833333    9/4/14                              225.28   \n",
       "4      0.0  0.833333    9/5/14                              237.24   \n",
       "\n",
       "       nmme0-tmp2m-34w__cancm30  nmme0-tmp2m-34w__cancm40  \\\n",
       "index                                                       \n",
       "0                         29.02                     31.64   \n",
       "1                         29.02                     31.64   \n",
       "2                         29.02                     31.64   \n",
       "3                         29.02                     31.64   \n",
       "4                         29.02                     31.64   \n",
       "\n",
       "       nmme0-tmp2m-34w__ccsm30  nmme0-tmp2m-34w__ccsm40  \\\n",
       "index                                                     \n",
       "0                        29.57                    30.73   \n",
       "1                        29.57                    30.73   \n",
       "2                        29.57                    30.73   \n",
       "3                        29.57                    30.73   \n",
       "4                        29.57                    30.73   \n",
       "\n",
       "       nmme0-tmp2m-34w__cfsv20  nmme0-tmp2m-34w__gfdlflora0  ...  \\\n",
       "index                                                        ...   \n",
       "0                        29.71                        31.52  ...   \n",
       "1                        29.71                        31.52  ...   \n",
       "2                        29.71                        31.52  ...   \n",
       "3                        29.71                        31.52  ...   \n",
       "4                        29.71                        31.52  ...   \n",
       "\n",
       "       wind-vwnd-925-2010-11  wind-vwnd-925-2010-12  wind-vwnd-925-2010-13  \\\n",
       "index                                                                        \n",
       "0                     -27.68                 -37.21                   8.32   \n",
       "1                     -21.13                 -36.57                   8.77   \n",
       "2                     -10.72                 -34.16                   6.99   \n",
       "3                       0.33                 -31.04                   6.17   \n",
       "4                       9.83                 -31.80                   7.47   \n",
       "\n",
       "       wind-vwnd-925-2010-14  wind-vwnd-925-2010-15  wind-vwnd-925-2010-16  \\\n",
       "index                                                                        \n",
       "0                       9.56                  -2.03                  48.13   \n",
       "1                      21.17                   4.44                  48.60   \n",
       "2                      32.16                   5.01                  48.53   \n",
       "3                      39.66                  -1.41                  50.59   \n",
       "4                      38.62                  -5.21                  54.73   \n",
       "\n",
       "       wind-vwnd-925-2010-17  wind-vwnd-925-2010-18  wind-vwnd-925-2010-19  \\\n",
       "index                                                                        \n",
       "0                      28.09                 -13.50                  11.90   \n",
       "1                      27.41                 -23.77                  15.44   \n",
       "2                      19.21                 -33.16                  15.11   \n",
       "3                       8.29                 -37.22                  18.24   \n",
       "4                      -2.58                 -42.30                  21.91   \n",
       "\n",
       "       wind-vwnd-925-2010-20  \n",
       "index                         \n",
       "0                       4.58  \n",
       "1                       3.42  \n",
       "2                       4.82  \n",
       "3                       9.74  \n",
       "4                      10.95  \n",
       "\n",
       "[5 rows x 245 columns]"
      ]
     },
     "execution_count": 3,
     "metadata": {},
     "output_type": "execute_result"
    }
   ],
   "source": [
    "df = pd.read_csv(\"train_data.csv\",index_col=\"index\")\n",
    "df.head()"
   ]
  },
  {
   "cell_type": "code",
   "execution_count": 4,
   "metadata": {},
   "outputs": [
    {
     "data": {
      "text/plain": [
       "(375734, 245)"
      ]
     },
     "execution_count": 4,
     "metadata": {},
     "output_type": "execute_result"
    }
   ],
   "source": [
    "df.shape"
   ]
  },
  {
   "cell_type": "code",
   "execution_count": 5,
   "metadata": {},
   "outputs": [],
   "source": [
    "col = []\n",
    "for column in df.columns:\n",
    "    \n",
    "    if df[column].isna().sum() !=0:\n",
    "        missing = df[column].isna().sum()\n",
    "        col.append((column,missing))"
   ]
  },
  {
   "cell_type": "code",
   "execution_count": 6,
   "metadata": {},
   "outputs": [
    {
     "data": {
      "text/plain": [
       "[('nmme0-tmp2m-34w__ccsm30', 15934),\n",
       " ('nmme-tmp2m-56w__ccsm3', 10280),\n",
       " ('nmme-prate-34w__ccsm3', 8738),\n",
       " ('nmme0-prate-56w__ccsm30', 15934),\n",
       " ('nmme0-prate-34w__ccsm30', 15934),\n",
       " ('nmme-prate-56w__ccsm3', 10280),\n",
       " ('nmme-tmp2m-34w__ccsm3', 8738),\n",
       " ('ccsm30', 15934)]"
      ]
     },
     "execution_count": 6,
     "metadata": {},
     "output_type": "execute_result"
    }
   ],
   "source": [
    "col"
   ]
  },
  {
   "cell_type": "code",
   "execution_count": 7,
   "metadata": {},
   "outputs": [
    {
     "data": {
      "text/html": [
       "<div>\n",
       "<style scoped>\n",
       "    .dataframe tbody tr th:only-of-type {\n",
       "        vertical-align: middle;\n",
       "    }\n",
       "\n",
       "    .dataframe tbody tr th {\n",
       "        vertical-align: top;\n",
       "    }\n",
       "\n",
       "    .dataframe thead th {\n",
       "        text-align: right;\n",
       "    }\n",
       "</style>\n",
       "<table border=\"1\" class=\"dataframe\">\n",
       "  <thead>\n",
       "    <tr style=\"text-align: right;\">\n",
       "      <th></th>\n",
       "      <th>startdate</th>\n",
       "      <th>climateregions__climateregion</th>\n",
       "    </tr>\n",
       "    <tr>\n",
       "      <th>index</th>\n",
       "      <th></th>\n",
       "      <th></th>\n",
       "    </tr>\n",
       "  </thead>\n",
       "  <tbody>\n",
       "    <tr>\n",
       "      <th>0</th>\n",
       "      <td>9/1/14</td>\n",
       "      <td>BSh</td>\n",
       "    </tr>\n",
       "    <tr>\n",
       "      <th>1</th>\n",
       "      <td>9/2/14</td>\n",
       "      <td>BSh</td>\n",
       "    </tr>\n",
       "    <tr>\n",
       "      <th>2</th>\n",
       "      <td>9/3/14</td>\n",
       "      <td>BSh</td>\n",
       "    </tr>\n",
       "    <tr>\n",
       "      <th>3</th>\n",
       "      <td>9/4/14</td>\n",
       "      <td>BSh</td>\n",
       "    </tr>\n",
       "    <tr>\n",
       "      <th>4</th>\n",
       "      <td>9/5/14</td>\n",
       "      <td>BSh</td>\n",
       "    </tr>\n",
       "    <tr>\n",
       "      <th>...</th>\n",
       "      <td>...</td>\n",
       "      <td>...</td>\n",
       "    </tr>\n",
       "    <tr>\n",
       "      <th>375729</th>\n",
       "      <td>8/27/16</td>\n",
       "      <td>Dfb</td>\n",
       "    </tr>\n",
       "    <tr>\n",
       "      <th>375730</th>\n",
       "      <td>8/28/16</td>\n",
       "      <td>Dfb</td>\n",
       "    </tr>\n",
       "    <tr>\n",
       "      <th>375731</th>\n",
       "      <td>8/29/16</td>\n",
       "      <td>Dfb</td>\n",
       "    </tr>\n",
       "    <tr>\n",
       "      <th>375732</th>\n",
       "      <td>8/30/16</td>\n",
       "      <td>Dfb</td>\n",
       "    </tr>\n",
       "    <tr>\n",
       "      <th>375733</th>\n",
       "      <td>8/31/16</td>\n",
       "      <td>Dfb</td>\n",
       "    </tr>\n",
       "  </tbody>\n",
       "</table>\n",
       "<p>375734 rows × 2 columns</p>\n",
       "</div>"
      ],
      "text/plain": [
       "       startdate climateregions__climateregion\n",
       "index                                         \n",
       "0         9/1/14                           BSh\n",
       "1         9/2/14                           BSh\n",
       "2         9/3/14                           BSh\n",
       "3         9/4/14                           BSh\n",
       "4         9/5/14                           BSh\n",
       "...          ...                           ...\n",
       "375729   8/27/16                           Dfb\n",
       "375730   8/28/16                           Dfb\n",
       "375731   8/29/16                           Dfb\n",
       "375732   8/30/16                           Dfb\n",
       "375733   8/31/16                           Dfb\n",
       "\n",
       "[375734 rows x 2 columns]"
      ]
     },
     "execution_count": 7,
     "metadata": {},
     "output_type": "execute_result"
    }
   ],
   "source": [
    "df.select_dtypes(\"object\")"
   ]
  },
  {
   "cell_type": "code",
   "execution_count": 8,
   "metadata": {},
   "outputs": [
    {
     "data": {
      "text/plain": [
       "BSk    139621\n",
       "Dfb     52632\n",
       "Cfa     51901\n",
       "Csb     40936\n",
       "Dfa     22661\n",
       "BWk     13889\n",
       "Dfc     12427\n",
       "BWh      9503\n",
       "Csa      9503\n",
       "Dsb      8041\n",
       "BSh      5117\n",
       "Cfb      4386\n",
       "Dsc      2924\n",
       "Dwa      1462\n",
       "Dwb       731\n",
       "Name: climateregions__climateregion, dtype: int64"
      ]
     },
     "execution_count": 8,
     "metadata": {},
     "output_type": "execute_result"
    }
   ],
   "source": [
    "df[\"climateregions__climateregion\"].value_counts()"
   ]
  },
  {
   "cell_type": "code",
   "execution_count": 9,
   "metadata": {},
   "outputs": [
    {
     "data": {
      "text/plain": [
       "0"
      ]
     },
     "execution_count": 9,
     "metadata": {},
     "output_type": "execute_result"
    }
   ],
   "source": [
    "df.duplicated().sum()"
   ]
  },
  {
   "cell_type": "code",
   "execution_count": 10,
   "metadata": {},
   "outputs": [
    {
     "data": {
      "text/plain": [
       "15"
      ]
     },
     "execution_count": 10,
     "metadata": {},
     "output_type": "execute_result"
    }
   ],
   "source": [
    "df[\"climateregions__climateregion\"].nunique() "
   ]
  },
  {
   "cell_type": "code",
   "execution_count": 11,
   "metadata": {},
   "outputs": [
    {
     "data": {
      "text/plain": [
       "['lat',\n",
       " 'lon',\n",
       " 'climateregions__climateregion',\n",
       " 'elevation__elevation',\n",
       " 'mjo1d__phase',\n",
       " 'mei__mei',\n",
       " 'mei__meirank',\n",
       " 'mei__nip']"
      ]
     },
     "execution_count": 11,
     "metadata": {},
     "output_type": "execute_result"
    }
   ],
   "source": [
    "cols = []\n",
    "\n",
    "for col in df.columns:\n",
    "    if df[col].nunique() <= 100:\n",
    "        cols.append(col)    \n",
    "\n",
    "cols        "
   ]
  },
  {
   "cell_type": "code",
   "execution_count": 38,
   "metadata": {},
   "outputs": [
    {
     "data": {
      "text/plain": [
       "array([ 200.,    0.,   90.,  400.,  300.,  100.,   50., 1000.,  700.,\n",
       "        500.,  600.,   80.,   60.,  800.,  750., 1200., 1700., 1100.,\n",
       "        900.,  350.,  430., 2000., 1800., 1900.,  570., 2200., 1500.,\n",
       "       1300., 2100., 1400., 1050.,  890., 1600., 2500.,  260., 2300.,\n",
       "       2700., 2600., 2800., 2400., 3100., 1250., 2850.,  780., 1150.,\n",
       "        850.,  370.,  480.,  560.,  490.,  320.])"
      ]
     },
     "execution_count": 38,
     "metadata": {},
     "output_type": "execute_result"
    }
   ],
   "source": [
    "df['elevation__elevation'].unique()"
   ]
  },
  {
   "cell_type": "code",
   "execution_count": 12,
   "metadata": {},
   "outputs": [],
   "source": [
    "df_copy = df.copy()\n",
    "df_copy.dropna(inplace=True)"
   ]
  },
  {
   "cell_type": "code",
   "execution_count": 13,
   "metadata": {},
   "outputs": [],
   "source": [
    "for col in cols:\n",
    "    df[col] = df[col].astype(\"category\")"
   ]
  },
  {
   "cell_type": "code",
   "execution_count": 14,
   "metadata": {},
   "outputs": [
    {
     "name": "stdout",
     "output_type": "stream",
     "text": [
      "<class 'pandas.core.frame.DataFrame'>\n",
      "Int64Index: 375734 entries, 0 to 375733\n",
      "Columns: 245 entries, lat to wind-vwnd-925-2010-20\n",
      "dtypes: category(8), float64(236), object(1)\n",
      "memory usage: 685.1+ MB\n"
     ]
    }
   ],
   "source": [
    "df.info()"
   ]
  },
  {
   "cell_type": "code",
   "execution_count": 19,
   "metadata": {},
   "outputs": [],
   "source": [
    "df2 = df_copy.corr().abs().stack().reset_index().sort_values(0,ascending=False)\n"
   ]
  },
  {
   "cell_type": "code",
   "execution_count": 20,
   "metadata": {},
   "outputs": [],
   "source": [
    "df2[\"pairs\"] = list(zip(df2.level_0,df2.level_1))\n",
    "df2.set_index([\"pairs\"],inplace=True)\n",
    "df2.drop(columns = [\"level_0\",\"level_1\"],inplace=True)\n",
    "\n",
    "df2.drop_duplicates(inplace = True)"
   ]
  },
  {
   "cell_type": "code",
   "execution_count": 21,
   "metadata": {},
   "outputs": [],
   "source": [
    "df2.columns = [\"cc\"]"
   ]
  },
  {
   "cell_type": "code",
   "execution_count": 22,
   "metadata": {},
   "outputs": [],
   "source": [
    "corr_pairs = df2[(df2.cc > 0.8) & (df2.cc < 1)]"
   ]
  },
  {
   "cell_type": "code",
   "execution_count": 23,
   "metadata": {},
   "outputs": [
    {
     "data": {
      "text/html": [
       "<div>\n",
       "<style scoped>\n",
       "    .dataframe tbody tr th:only-of-type {\n",
       "        vertical-align: middle;\n",
       "    }\n",
       "\n",
       "    .dataframe tbody tr th {\n",
       "        vertical-align: top;\n",
       "    }\n",
       "\n",
       "    .dataframe thead th {\n",
       "        text-align: right;\n",
       "    }\n",
       "</style>\n",
       "<table border=\"1\" class=\"dataframe\">\n",
       "  <thead>\n",
       "    <tr style=\"text-align: right;\">\n",
       "      <th></th>\n",
       "      <th>cc</th>\n",
       "    </tr>\n",
       "    <tr>\n",
       "      <th>pairs</th>\n",
       "      <th></th>\n",
       "    </tr>\n",
       "  </thead>\n",
       "  <tbody>\n",
       "    <tr>\n",
       "      <th>(nmme-tmp2m-56w__nmmemean, nmme-tmp2m-34w__nmmemean)</th>\n",
       "      <td>0.998910</td>\n",
       "    </tr>\n",
       "    <tr>\n",
       "      <th>(nmme0-tmp2m-34w__gfdlflora0, nmme0-tmp2m-34w__gfdlflorb0)</th>\n",
       "      <td>0.998893</td>\n",
       "    </tr>\n",
       "    <tr>\n",
       "      <th>(gfdlflorb0, gfdlflora0)</th>\n",
       "      <td>0.998837</td>\n",
       "    </tr>\n",
       "    <tr>\n",
       "      <th>(nmme-tmp2m-56w__cfsv2, nmme-tmp2m-34w__cfsv2)</th>\n",
       "      <td>0.998234</td>\n",
       "    </tr>\n",
       "    <tr>\n",
       "      <th>(nmme-tmp2m-56w__gfdlflorb, nmme-tmp2m-34w__gfdlflorb)</th>\n",
       "      <td>0.998043</td>\n",
       "    </tr>\n",
       "    <tr>\n",
       "      <th>...</th>\n",
       "      <td>...</td>\n",
       "    </tr>\n",
       "    <tr>\n",
       "      <th>(nmme0-tmp2m-34w__gfdlflorb0, contest-wind-h500-14d__wind-hgt-500)</th>\n",
       "      <td>0.800955</td>\n",
       "    </tr>\n",
       "    <tr>\n",
       "      <th>(cfsv20, nmme-tmp2m-56w__gfdlflora)</th>\n",
       "      <td>0.800883</td>\n",
       "    </tr>\n",
       "    <tr>\n",
       "      <th>(nmme-prate-56w__nmmemean, nmme-prate-56w__ccsm3)</th>\n",
       "      <td>0.800662</td>\n",
       "    </tr>\n",
       "    <tr>\n",
       "      <th>(contest-pevpr-sfc-gauss-14d__pevpr, nmme-tmp2m-56w__gfdlflorb)</th>\n",
       "      <td>0.800572</td>\n",
       "    </tr>\n",
       "    <tr>\n",
       "      <th>(nmme-tmp2m-34w__cancm3, contest-wind-h10-14d__wind-hgt-10)</th>\n",
       "      <td>0.800311</td>\n",
       "    </tr>\n",
       "  </tbody>\n",
       "</table>\n",
       "<p>1069 rows × 1 columns</p>\n",
       "</div>"
      ],
      "text/plain": [
       "                                                          cc\n",
       "pairs                                                       \n",
       "(nmme-tmp2m-56w__nmmemean, nmme-tmp2m-34w__nmme...  0.998910\n",
       "(nmme0-tmp2m-34w__gfdlflora0, nmme0-tmp2m-34w__...  0.998893\n",
       "(gfdlflorb0, gfdlflora0)                            0.998837\n",
       "(nmme-tmp2m-56w__cfsv2, nmme-tmp2m-34w__cfsv2)      0.998234\n",
       "(nmme-tmp2m-56w__gfdlflorb, nmme-tmp2m-34w__gfd...  0.998043\n",
       "...                                                      ...\n",
       "(nmme0-tmp2m-34w__gfdlflorb0, contest-wind-h500...  0.800955\n",
       "(cfsv20, nmme-tmp2m-56w__gfdlflora)                 0.800883\n",
       "(nmme-prate-56w__nmmemean, nmme-prate-56w__ccsm3)   0.800662\n",
       "(contest-pevpr-sfc-gauss-14d__pevpr, nmme-tmp2m...  0.800572\n",
       "(nmme-tmp2m-34w__cancm3, contest-wind-h10-14d__...  0.800311\n",
       "\n",
       "[1069 rows x 1 columns]"
      ]
     },
     "execution_count": 23,
     "metadata": {},
     "output_type": "execute_result"
    }
   ],
   "source": [
    "corr_pairs"
   ]
  },
  {
   "cell_type": "code",
   "execution_count": 113,
   "metadata": {},
   "outputs": [],
   "source": [
    "X = df.drop([\"contest-tmp2m-14d__tmp2m\",\"startdate\",\"climateregions__climateregion\"],axis =1)"
   ]
  },
  {
   "cell_type": "code",
   "execution_count": 119,
   "metadata": {},
   "outputs": [],
   "source": [
    "correlation_matrix = df.corr()"
   ]
  },
  {
   "cell_type": "code",
   "execution_count": 120,
   "metadata": {},
   "outputs": [],
   "source": [
    "correlated_features = set()\n",
    "\n",
    "\n",
    "for i in range(len(correlation_matrix.columns)):\n",
    "    for j in range(i):\n",
    "        if abs(correlation_matrix.iloc[i, j]) > 0.8:\n",
    "            colname = correlation_matrix.columns[i]\n",
    "            correlated_features.add(colname)"
   ]
  },
  {
   "cell_type": "code",
   "execution_count": 121,
   "metadata": {},
   "outputs": [
    {
     "data": {
      "text/plain": [
       "88"
      ]
     },
     "execution_count": 121,
     "metadata": {},
     "output_type": "execute_result"
    }
   ],
   "source": [
    "len(correlated_features)"
   ]
  },
  {
   "cell_type": "code",
   "execution_count": 125,
   "metadata": {},
   "outputs": [
    {
     "data": {
      "text/plain": [
       "{'cancm30',\n",
       " 'cancm40',\n",
       " 'ccsm30',\n",
       " 'ccsm40',\n",
       " 'cfsv20',\n",
       " 'contest-prwtr-eatm-14d__prwtr',\n",
       " 'contest-tmp2m-14d__tmp2m',\n",
       " 'contest-wind-h100-14d__wind-hgt-100',\n",
       " 'contest-wind-h500-14d__wind-hgt-500',\n",
       " 'elevation__elevation',\n",
       " 'gfdl0',\n",
       " 'gfdlflora0',\n",
       " 'gfdlflorb0',\n",
       " 'icec-2010-1',\n",
       " 'icec-2010-5',\n",
       " 'nasa0',\n",
       " 'nmme-prate-34w__cancm4',\n",
       " 'nmme-prate-34w__gfdl',\n",
       " 'nmme-prate-34w__gfdlflorb',\n",
       " 'nmme-prate-34w__nmmemean',\n",
       " 'nmme-prate-56w__cancm3',\n",
       " 'nmme-prate-56w__cancm4',\n",
       " 'nmme-prate-56w__ccsm3',\n",
       " 'nmme-prate-56w__ccsm4',\n",
       " 'nmme-prate-56w__cfsv2',\n",
       " 'nmme-prate-56w__gfdl',\n",
       " 'nmme-prate-56w__gfdlflora',\n",
       " 'nmme-prate-56w__gfdlflorb',\n",
       " 'nmme-prate-56w__nasa',\n",
       " 'nmme-prate-56w__nmmemean',\n",
       " 'nmme-tmp2m-34w__cancm3',\n",
       " 'nmme-tmp2m-34w__cancm4',\n",
       " 'nmme-tmp2m-34w__ccsm3',\n",
       " 'nmme-tmp2m-34w__ccsm4',\n",
       " 'nmme-tmp2m-34w__cfsv2',\n",
       " 'nmme-tmp2m-34w__gfdl',\n",
       " 'nmme-tmp2m-34w__gfdlflora',\n",
       " 'nmme-tmp2m-34w__gfdlflorb',\n",
       " 'nmme-tmp2m-34w__nasa',\n",
       " 'nmme-tmp2m-34w__nmmemean',\n",
       " 'nmme-tmp2m-56w__cancm3',\n",
       " 'nmme-tmp2m-56w__cancm4',\n",
       " 'nmme-tmp2m-56w__ccsm3',\n",
       " 'nmme-tmp2m-56w__ccsm4',\n",
       " 'nmme-tmp2m-56w__cfsv2',\n",
       " 'nmme-tmp2m-56w__gfdl',\n",
       " 'nmme-tmp2m-56w__gfdlflora',\n",
       " 'nmme-tmp2m-56w__gfdlflorb',\n",
       " 'nmme-tmp2m-56w__nasa',\n",
       " 'nmme-tmp2m-56w__nmmemean',\n",
       " 'nmme0-prate-34w__cancm30',\n",
       " 'nmme0-prate-34w__cancm40',\n",
       " 'nmme0-prate-34w__ccsm30',\n",
       " 'nmme0-prate-34w__ccsm40',\n",
       " 'nmme0-prate-34w__cfsv20',\n",
       " 'nmme0-prate-34w__gfdl0',\n",
       " 'nmme0-prate-34w__gfdlflora0',\n",
       " 'nmme0-prate-34w__gfdlflorb0',\n",
       " 'nmme0-prate-34w__nasa0',\n",
       " 'nmme0-prate-34w__nmme0mean',\n",
       " 'nmme0-prate-56w__cancm40',\n",
       " 'nmme0-prate-56w__gfdlflorb0',\n",
       " 'nmme0-prate-56w__nasa0',\n",
       " 'nmme0-prate-56w__nmme0mean',\n",
       " 'nmme0-tmp2m-34w__cancm40',\n",
       " 'nmme0-tmp2m-34w__ccsm30',\n",
       " 'nmme0-tmp2m-34w__ccsm40',\n",
       " 'nmme0-tmp2m-34w__cfsv20',\n",
       " 'nmme0-tmp2m-34w__gfdl0',\n",
       " 'nmme0-tmp2m-34w__gfdlflora0',\n",
       " 'nmme0-tmp2m-34w__gfdlflorb0',\n",
       " 'nmme0-tmp2m-34w__nasa0',\n",
       " 'nmme0-tmp2m-34w__nmme0mean',\n",
       " 'nmme0mean',\n",
       " 'sst-2010-1',\n",
       " 'wind-hgt-10-2010-1',\n",
       " 'wind-hgt-100-2010-1',\n",
       " 'wind-hgt-100-2010-2',\n",
       " 'wind-hgt-100-2010-3',\n",
       " 'wind-hgt-500-2010-1',\n",
       " 'wind-hgt-500-2010-3',\n",
       " 'wind-hgt-500-2010-5',\n",
       " 'wind-hgt-500-2010-7',\n",
       " 'wind-hgt-850-2010-1',\n",
       " 'wind-uwnd-250-2010-1',\n",
       " 'wind-uwnd-925-2010-1',\n",
       " 'wind-uwnd-925-2010-3',\n",
       " 'wind-vwnd-925-2010-1'}"
      ]
     },
     "execution_count": 125,
     "metadata": {},
     "output_type": "execute_result"
    }
   ],
   "source": [
    "correlated_features"
   ]
  },
  {
   "cell_type": "code",
   "execution_count": 129,
   "metadata": {},
   "outputs": [],
   "source": [
    "upper_tri = correlation_matrix.where(np.triu(np.ones(correlation_matrix.shape),k=1).astype(np.bool))"
   ]
  },
  {
   "cell_type": "code",
   "execution_count": 130,
   "metadata": {},
   "outputs": [],
   "source": [
    "to_drop = [column for column in upper_tri.columns if any(upper_tri[column] > 0.8)]"
   ]
  },
  {
   "cell_type": "code",
   "execution_count": 133,
   "metadata": {},
   "outputs": [
    {
     "data": {
      "text/plain": [
       "'gfdlflora0'"
      ]
     },
     "execution_count": 133,
     "metadata": {},
     "output_type": "execute_result"
    }
   ],
   "source": [
    "corr_pairs.index[0][0]"
   ]
  },
  {
   "cell_type": "code",
   "execution_count": 24,
   "metadata": {},
   "outputs": [
    {
     "data": {
      "text/plain": [
       "contest-tmp2m-14d__tmp2m    1.000000\n",
       "nmme-tmp2m-34w__cfsv2       0.954596\n",
       "nmme-tmp2m-56w__cfsv2       0.954327\n",
       "nmme-tmp2m-56w__nmmemean    0.950517\n",
       "nmme-tmp2m-34w__nmmemean    0.950442\n",
       "                              ...   \n",
       "wind-hgt-100-2010-5         0.010607\n",
       "nmme-prate-34w__nasa        0.009077\n",
       "mei__mei                    0.006207\n",
       "wind-vwnd-250-2010-15       0.003422\n",
       "nmme-prate-56w__nasa        0.002506\n",
       "Name: contest-tmp2m-14d__tmp2m, Length: 243, dtype: float64"
      ]
     },
     "execution_count": 24,
     "metadata": {},
     "output_type": "execute_result"
    }
   ],
   "source": [
    "df_copy.corr()[\"contest-tmp2m-14d__tmp2m\"].abs().sort_values(ascending=False)"
   ]
  },
  {
   "cell_type": "code",
   "execution_count": 30,
   "metadata": {},
   "outputs": [
    {
     "data": {
      "image/png": "[encoded data removed]",
      "text/plain": [
       "<Figure size 864x720 with 1 Axes>"
      ]
     },
     "metadata": {
      "needs_background": "light"
     },
     "output_type": "display_data"
    }
   ],
   "source": [
    "fig,ax = plt.subplots(figsize = (12,10))\n",
    "\n",
    "sns.histplot(x = df_copy[\"contest-tmp2m-14d__tmp2m\"],ax=ax,kde=True);"
   ]
  },
  {
   "cell_type": "code",
   "execution_count": 40,
   "metadata": {},
   "outputs": [],
   "source": [
    "from sklearn.model_selection import train_test_split,cross_val_score\n",
    "from sklearn.tree import DecisionTreeRegressor\n",
    "from sklearn.preprocessing import StandardScaler\n",
    "from sklearn.metrics import mean_squared_error"
   ]
  },
  {
   "cell_type": "code",
   "execution_count": 33,
   "metadata": {},
   "outputs": [],
   "source": [
    "y = df_copy[\"contest-tmp2m-14d__tmp2m\"]\n",
    "X = df_copy.drop([\"contest-tmp2m-14d__tmp2m\",\"startdate\"],axis = 1)\n",
    "\n",
    "X_train,X_test,y_train,y_test = train_test_split(X,y,random_state = 71)"
   ]
  },
  {
   "cell_type": "code",
   "execution_count": 34,
   "metadata": {},
   "outputs": [
    {
     "data": {
      "text/plain": [
       "(264453, 256)"
      ]
     },
     "execution_count": 34,
     "metadata": {},
     "output_type": "execute_result"
    }
   ],
   "source": [
    "one_hot_train = pd.get_dummies(X_train,drop_first=True)\n",
    "one_hot_test = pd.get_dummies(X_test,drop_first=True)\n",
    "one_hot_train.shape"
   ]
  },
  {
   "cell_type": "code",
   "execution_count": 35,
   "metadata": {},
   "outputs": [],
   "source": [
    "scaler = StandardScaler()\n",
    "\n",
    "X_train_scaled = scaler.fit_transform(one_hot_train)\n",
    "X_test_scaled = scaler.transform(one_hot_test)"
   ]
  },
  {
   "cell_type": "code",
   "execution_count": 38,
   "metadata": {},
   "outputs": [],
   "source": [
    "baseline = DecisionTreeRegressor(random_state=71)\n",
    "\n",
    "baseline.fit(X_train_scaled,y_train)\n",
    "\n",
    "preds = baseline.predict(X_test_scaled)"
   ]
  },
  {
   "cell_type": "code",
   "execution_count": 39,
   "metadata": {},
   "outputs": [
    {
     "data": {
      "text/plain": [
       "0.7594603483617993"
      ]
     },
     "execution_count": 39,
     "metadata": {},
     "output_type": "execute_result"
    }
   ],
   "source": [
    "mean_squared_error(y_test,preds,squared=False)"
   ]
  },
  {
   "cell_type": "code",
   "execution_count": 41,
   "metadata": {},
   "outputs": [],
   "source": [
    "cross = cross_val_score(baseline,X_train_scaled,y_train,scoring='neg_root_mean_squared_error')"
   ]
  },
  {
   "cell_type": "code",
   "execution_count": 43,
   "metadata": {},
   "outputs": [
    {
     "data": {
      "text/plain": [
       "0.8366194017912798"
      ]
     },
     "execution_count": 43,
     "metadata": {},
     "output_type": "execute_result"
    }
   ],
   "source": [
    "-cross.mean()"
   ]
  }
 ],
 "metadata": {
  "kernelspec": {
   "display_name": "Python 3.8.5 ('learn-env')",
   "language": "python",
   "name": "python3"
  },
  "language_info": {
   "codemirror_mode": {
    "name": "ipython",
    "version": 3
   },
   "file_extension": ".py",
   "mimetype": "text/x-python",
   "name": "python",
   "nbconvert_exporter": "python",
   "pygments_lexer": "ipython3",
   "version": "3.8.5"
  },
  "orig_nbformat": 4,
  "vscode": {
   "interpreter": {
    "hash": "8b6e41dafa5d816d64bb1331318261ef45b9bc575bc63961a7de82a060a98e58"
   }
  }
 },
 "nbformat": 4,
 "nbformat_minor": 2
}
